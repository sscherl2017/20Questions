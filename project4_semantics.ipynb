{
  "nbformat": 4,
  "nbformat_minor": 5,
  "metadata": {
    "accelerator": "GPU",
    "celltoolbar": "Tags",
    "colab": {
      "name": "project4_semantics.ipynb",
      "provenance": [],
      "collapsed_sections": [],
      "include_colab_link": true
    },
    "kernelspec": {
      "display_name": "Python 3",
      "language": "python",
      "name": "python3"
    },
    "language_info": {
      "codemirror_mode": {
        "name": "ipython",
        "version": 3
      },
      "file_extension": ".py",
      "mimetype": "text/x-python",
      "name": "python",
      "nbconvert_exporter": "python",
      "pygments_lexer": "ipython3",
      "version": "3.8.3"
    },
    "title": "CS187 Project Segment 4: Semantic Interpretation – Question Answering",
    "widgets": {
      "application/vnd.jupyter.widget-state+json": {
        "27f7ff56cf69477cb1b381cc6dfb79f3": {
          "model_module": "@jupyter-widgets/controls",
          "model_name": "HBoxModel",
          "model_module_version": "1.5.0",
          "state": {
            "_view_name": "HBoxView",
            "_dom_classes": [],
            "_model_name": "HBoxModel",
            "_view_module": "@jupyter-widgets/controls",
            "_model_module_version": "1.5.0",
            "_view_count": null,
            "_view_module_version": "1.5.0",
            "box_style": "",
            "layout": "IPY_MODEL_6c1f3c5297c04fa1a6db4780d0950c57",
            "_model_module": "@jupyter-widgets/controls",
            "children": [
              "IPY_MODEL_117c2d14a3d34957a6f463cded926562",
              "IPY_MODEL_13b81bee8c8d4e3eb6f8f7088c21d9bf",
              "IPY_MODEL_9a05572c70104145a6d7ec4e7747d785"
            ]
          }
        },
        "6c1f3c5297c04fa1a6db4780d0950c57": {
          "model_module": "@jupyter-widgets/base",
          "model_name": "LayoutModel",
          "model_module_version": "1.2.0",
          "state": {
            "_view_name": "LayoutView",
            "grid_template_rows": null,
            "right": null,
            "justify_content": null,
            "_view_module": "@jupyter-widgets/base",
            "overflow": null,
            "_model_module_version": "1.2.0",
            "_view_count": null,
            "flex_flow": null,
            "width": null,
            "min_width": null,
            "border": null,
            "align_items": null,
            "bottom": null,
            "_model_module": "@jupyter-widgets/base",
            "top": null,
            "grid_column": null,
            "overflow_y": null,
            "overflow_x": null,
            "grid_auto_flow": null,
            "grid_area": null,
            "grid_template_columns": null,
            "flex": null,
            "_model_name": "LayoutModel",
            "justify_items": null,
            "grid_row": null,
            "max_height": null,
            "align_content": null,
            "visibility": null,
            "align_self": null,
            "height": null,
            "min_height": null,
            "padding": null,
            "grid_auto_rows": null,
            "grid_gap": null,
            "max_width": null,
            "order": null,
            "_view_module_version": "1.2.0",
            "grid_template_areas": null,
            "object_position": null,
            "object_fit": null,
            "grid_auto_columns": null,
            "margin": null,
            "display": null,
            "left": null
          }
        },
        "117c2d14a3d34957a6f463cded926562": {
          "model_module": "@jupyter-widgets/controls",
          "model_name": "HTMLModel",
          "model_module_version": "1.5.0",
          "state": {
            "_view_name": "HTMLView",
            "style": "IPY_MODEL_5f61b4b5d51741cbb08dd5dd784ea502",
            "_dom_classes": [],
            "description": "",
            "_model_name": "HTMLModel",
            "placeholder": "​",
            "_view_module": "@jupyter-widgets/controls",
            "_model_module_version": "1.5.0",
            "value": "Downloading: 100%",
            "_view_count": null,
            "_view_module_version": "1.5.0",
            "description_tooltip": null,
            "_model_module": "@jupyter-widgets/controls",
            "layout": "IPY_MODEL_a5cdd5335c534728b3595621a2841840"
          }
        },
        "13b81bee8c8d4e3eb6f8f7088c21d9bf": {
          "model_module": "@jupyter-widgets/controls",
          "model_name": "FloatProgressModel",
          "model_module_version": "1.5.0",
          "state": {
            "_view_name": "ProgressView",
            "style": "IPY_MODEL_b673f9e76a0e4d6bab9c723b22997764",
            "_dom_classes": [],
            "description": "",
            "_model_name": "FloatProgressModel",
            "bar_style": "success",
            "max": 1688,
            "_view_module": "@jupyter-widgets/controls",
            "_model_module_version": "1.5.0",
            "value": 1688,
            "_view_count": null,
            "_view_module_version": "1.5.0",
            "orientation": "horizontal",
            "min": 0,
            "description_tooltip": null,
            "_model_module": "@jupyter-widgets/controls",
            "layout": "IPY_MODEL_6c5f6683cd464db2b6042de06f65b8a0"
          }
        },
        "9a05572c70104145a6d7ec4e7747d785": {
          "model_module": "@jupyter-widgets/controls",
          "model_name": "HTMLModel",
          "model_module_version": "1.5.0",
          "state": {
            "_view_name": "HTMLView",
            "style": "IPY_MODEL_9d74bb76ef4f4eeaa74e3ef2adb07096",
            "_dom_classes": [],
            "description": "",
            "_model_name": "HTMLModel",
            "placeholder": "​",
            "_view_module": "@jupyter-widgets/controls",
            "_model_module_version": "1.5.0",
            "value": " 1.65k/1.65k [00:00&lt;00:00, 44.7kB/s]",
            "_view_count": null,
            "_view_module_version": "1.5.0",
            "description_tooltip": null,
            "_model_module": "@jupyter-widgets/controls",
            "layout": "IPY_MODEL_77a431823c30459991430952a378f0ef"
          }
        },
        "5f61b4b5d51741cbb08dd5dd784ea502": {
          "model_module": "@jupyter-widgets/controls",
          "model_name": "DescriptionStyleModel",
          "model_module_version": "1.5.0",
          "state": {
            "_view_name": "StyleView",
            "_model_name": "DescriptionStyleModel",
            "description_width": "",
            "_view_module": "@jupyter-widgets/base",
            "_model_module_version": "1.5.0",
            "_view_count": null,
            "_view_module_version": "1.2.0",
            "_model_module": "@jupyter-widgets/controls"
          }
        },
        "a5cdd5335c534728b3595621a2841840": {
          "model_module": "@jupyter-widgets/base",
          "model_name": "LayoutModel",
          "model_module_version": "1.2.0",
          "state": {
            "_view_name": "LayoutView",
            "grid_template_rows": null,
            "right": null,
            "justify_content": null,
            "_view_module": "@jupyter-widgets/base",
            "overflow": null,
            "_model_module_version": "1.2.0",
            "_view_count": null,
            "flex_flow": null,
            "width": null,
            "min_width": null,
            "border": null,
            "align_items": null,
            "bottom": null,
            "_model_module": "@jupyter-widgets/base",
            "top": null,
            "grid_column": null,
            "overflow_y": null,
            "overflow_x": null,
            "grid_auto_flow": null,
            "grid_area": null,
            "grid_template_columns": null,
            "flex": null,
            "_model_name": "LayoutModel",
            "justify_items": null,
            "grid_row": null,
            "max_height": null,
            "align_content": null,
            "visibility": null,
            "align_self": null,
            "height": null,
            "min_height": null,
            "padding": null,
            "grid_auto_rows": null,
            "grid_gap": null,
            "max_width": null,
            "order": null,
            "_view_module_version": "1.2.0",
            "grid_template_areas": null,
            "object_position": null,
            "object_fit": null,
            "grid_auto_columns": null,
            "margin": null,
            "display": null,
            "left": null
          }
        },
        "b673f9e76a0e4d6bab9c723b22997764": {
          "model_module": "@jupyter-widgets/controls",
          "model_name": "ProgressStyleModel",
          "model_module_version": "1.5.0",
          "state": {
            "_view_name": "StyleView",
            "_model_name": "ProgressStyleModel",
            "description_width": "",
            "_view_module": "@jupyter-widgets/base",
            "_model_module_version": "1.5.0",
            "_view_count": null,
            "_view_module_version": "1.2.0",
            "bar_color": null,
            "_model_module": "@jupyter-widgets/controls"
          }
        },
        "6c5f6683cd464db2b6042de06f65b8a0": {
          "model_module": "@jupyter-widgets/base",
          "model_name": "LayoutModel",
          "model_module_version": "1.2.0",
          "state": {
            "_view_name": "LayoutView",
            "grid_template_rows": null,
            "right": null,
            "justify_content": null,
            "_view_module": "@jupyter-widgets/base",
            "overflow": null,
            "_model_module_version": "1.2.0",
            "_view_count": null,
            "flex_flow": null,
            "width": null,
            "min_width": null,
            "border": null,
            "align_items": null,
            "bottom": null,
            "_model_module": "@jupyter-widgets/base",
            "top": null,
            "grid_column": null,
            "overflow_y": null,
            "overflow_x": null,
            "grid_auto_flow": null,
            "grid_area": null,
            "grid_template_columns": null,
            "flex": null,
            "_model_name": "LayoutModel",
            "justify_items": null,
            "grid_row": null,
            "max_height": null,
            "align_content": null,
            "visibility": null,
            "align_self": null,
            "height": null,
            "min_height": null,
            "padding": null,
            "grid_auto_rows": null,
            "grid_gap": null,
            "max_width": null,
            "order": null,
            "_view_module_version": "1.2.0",
            "grid_template_areas": null,
            "object_position": null,
            "object_fit": null,
            "grid_auto_columns": null,
            "margin": null,
            "display": null,
            "left": null
          }
        },
        "9d74bb76ef4f4eeaa74e3ef2adb07096": {
          "model_module": "@jupyter-widgets/controls",
          "model_name": "DescriptionStyleModel",
          "model_module_version": "1.5.0",
          "state": {
            "_view_name": "StyleView",
            "_model_name": "DescriptionStyleModel",
            "description_width": "",
            "_view_module": "@jupyter-widgets/base",
            "_model_module_version": "1.5.0",
            "_view_count": null,
            "_view_module_version": "1.2.0",
            "_model_module": "@jupyter-widgets/controls"
          }
        },
        "77a431823c30459991430952a378f0ef": {
          "model_module": "@jupyter-widgets/base",
          "model_name": "LayoutModel",
          "model_module_version": "1.2.0",
          "state": {
            "_view_name": "LayoutView",
            "grid_template_rows": null,
            "right": null,
            "justify_content": null,
            "_view_module": "@jupyter-widgets/base",
            "overflow": null,
            "_model_module_version": "1.2.0",
            "_view_count": null,
            "flex_flow": null,
            "width": null,
            "min_width": null,
            "border": null,
            "align_items": null,
            "bottom": null,
            "_model_module": "@jupyter-widgets/base",
            "top": null,
            "grid_column": null,
            "overflow_y": null,
            "overflow_x": null,
            "grid_auto_flow": null,
            "grid_area": null,
            "grid_template_columns": null,
            "flex": null,
            "_model_name": "LayoutModel",
            "justify_items": null,
            "grid_row": null,
            "max_height": null,
            "align_content": null,
            "visibility": null,
            "align_self": null,
            "height": null,
            "min_height": null,
            "padding": null,
            "grid_auto_rows": null,
            "grid_gap": null,
            "max_width": null,
            "order": null,
            "_view_module_version": "1.2.0",
            "grid_template_areas": null,
            "object_position": null,
            "object_fit": null,
            "grid_auto_columns": null,
            "margin": null,
            "display": null,
            "left": null
          }
        },
        "6f82365836e6459584a2f729a2acb5bc": {
          "model_module": "@jupyter-widgets/controls",
          "model_name": "HBoxModel",
          "model_module_version": "1.5.0",
          "state": {
            "_view_name": "HBoxView",
            "_dom_classes": [],
            "_model_name": "HBoxModel",
            "_view_module": "@jupyter-widgets/controls",
            "_model_module_version": "1.5.0",
            "_view_count": null,
            "_view_module_version": "1.5.0",
            "box_style": "",
            "layout": "IPY_MODEL_2284e8778a0b48ed9610ef9a85de9b05",
            "_model_module": "@jupyter-widgets/controls",
            "children": [
              "IPY_MODEL_169282fb9db344b5af886530cc0c5038",
              "IPY_MODEL_3c6e7eb6d2b84274b536b23cba52bfd6",
              "IPY_MODEL_3152d1c7e02e4e0894d989cf2004131d"
            ]
          }
        },
        "2284e8778a0b48ed9610ef9a85de9b05": {
          "model_module": "@jupyter-widgets/base",
          "model_name": "LayoutModel",
          "model_module_version": "1.2.0",
          "state": {
            "_view_name": "LayoutView",
            "grid_template_rows": null,
            "right": null,
            "justify_content": null,
            "_view_module": "@jupyter-widgets/base",
            "overflow": null,
            "_model_module_version": "1.2.0",
            "_view_count": null,
            "flex_flow": null,
            "width": null,
            "min_width": null,
            "border": null,
            "align_items": null,
            "bottom": null,
            "_model_module": "@jupyter-widgets/base",
            "top": null,
            "grid_column": null,
            "overflow_y": null,
            "overflow_x": null,
            "grid_auto_flow": null,
            "grid_area": null,
            "grid_template_columns": null,
            "flex": null,
            "_model_name": "LayoutModel",
            "justify_items": null,
            "grid_row": null,
            "max_height": null,
            "align_content": null,
            "visibility": null,
            "align_self": null,
            "height": null,
            "min_height": null,
            "padding": null,
            "grid_auto_rows": null,
            "grid_gap": null,
            "max_width": null,
            "order": null,
            "_view_module_version": "1.2.0",
            "grid_template_areas": null,
            "object_position": null,
            "object_fit": null,
            "grid_auto_columns": null,
            "margin": null,
            "display": null,
            "left": null
          }
        },
        "169282fb9db344b5af886530cc0c5038": {
          "model_module": "@jupyter-widgets/controls",
          "model_name": "HTMLModel",
          "model_module_version": "1.5.0",
          "state": {
            "_view_name": "HTMLView",
            "style": "IPY_MODEL_1d4f8cdc566d4011972efadfee81dc7d",
            "_dom_classes": [],
            "description": "",
            "_model_name": "HTMLModel",
            "placeholder": "​",
            "_view_module": "@jupyter-widgets/controls",
            "_model_module_version": "1.5.0",
            "value": "Downloading:  28%",
            "_view_count": null,
            "_view_module_version": "1.5.0",
            "description_tooltip": null,
            "_model_module": "@jupyter-widgets/controls",
            "layout": "IPY_MODEL_47946bca60184052a7d5653d55cfcccf"
          }
        },
        "3c6e7eb6d2b84274b536b23cba52bfd6": {
          "model_module": "@jupyter-widgets/controls",
          "model_name": "FloatProgressModel",
          "model_module_version": "1.5.0",
          "state": {
            "_view_name": "ProgressView",
            "style": "IPY_MODEL_fa3d478a6fad44e3a0dd43690bcc0a53",
            "_dom_classes": [],
            "description": "",
            "_model_name": "FloatProgressModel",
            "bar_style": "",
            "max": 557771387,
            "_view_module": "@jupyter-widgets/controls",
            "_model_module_version": "1.5.0",
            "value": 156110848,
            "_view_count": null,
            "_view_module_version": "1.5.0",
            "orientation": "horizontal",
            "min": 0,
            "description_tooltip": null,
            "_model_module": "@jupyter-widgets/controls",
            "layout": "IPY_MODEL_89136fad083247a68ce29e1adc09ebfc"
          }
        },
        "3152d1c7e02e4e0894d989cf2004131d": {
          "model_module": "@jupyter-widgets/controls",
          "model_name": "HTMLModel",
          "model_module_version": "1.5.0",
          "state": {
            "_view_name": "HTMLView",
            "style": "IPY_MODEL_c37360e07d534e11bd366440a21c5958",
            "_dom_classes": [],
            "description": "",
            "_model_name": "HTMLModel",
            "placeholder": "​",
            "_view_module": "@jupyter-widgets/controls",
            "_model_module_version": "1.5.0",
            "value": " 149M/532M [00:20&lt;00:08, 48.5MB/s]",
            "_view_count": null,
            "_view_module_version": "1.5.0",
            "description_tooltip": null,
            "_model_module": "@jupyter-widgets/controls",
            "layout": "IPY_MODEL_f0e7eb800d874712bf6eaba307f3aadb"
          }
        },
        "1d4f8cdc566d4011972efadfee81dc7d": {
          "model_module": "@jupyter-widgets/controls",
          "model_name": "DescriptionStyleModel",
          "model_module_version": "1.5.0",
          "state": {
            "_view_name": "StyleView",
            "_model_name": "DescriptionStyleModel",
            "description_width": "",
            "_view_module": "@jupyter-widgets/base",
            "_model_module_version": "1.5.0",
            "_view_count": null,
            "_view_module_version": "1.2.0",
            "_model_module": "@jupyter-widgets/controls"
          }
        },
        "47946bca60184052a7d5653d55cfcccf": {
          "model_module": "@jupyter-widgets/base",
          "model_name": "LayoutModel",
          "model_module_version": "1.2.0",
          "state": {
            "_view_name": "LayoutView",
            "grid_template_rows": null,
            "right": null,
            "justify_content": null,
            "_view_module": "@jupyter-widgets/base",
            "overflow": null,
            "_model_module_version": "1.2.0",
            "_view_count": null,
            "flex_flow": null,
            "width": null,
            "min_width": null,
            "border": null,
            "align_items": null,
            "bottom": null,
            "_model_module": "@jupyter-widgets/base",
            "top": null,
            "grid_column": null,
            "overflow_y": null,
            "overflow_x": null,
            "grid_auto_flow": null,
            "grid_area": null,
            "grid_template_columns": null,
            "flex": null,
            "_model_name": "LayoutModel",
            "justify_items": null,
            "grid_row": null,
            "max_height": null,
            "align_content": null,
            "visibility": null,
            "align_self": null,
            "height": null,
            "min_height": null,
            "padding": null,
            "grid_auto_rows": null,
            "grid_gap": null,
            "max_width": null,
            "order": null,
            "_view_module_version": "1.2.0",
            "grid_template_areas": null,
            "object_position": null,
            "object_fit": null,
            "grid_auto_columns": null,
            "margin": null,
            "display": null,
            "left": null
          }
        },
        "fa3d478a6fad44e3a0dd43690bcc0a53": {
          "model_module": "@jupyter-widgets/controls",
          "model_name": "ProgressStyleModel",
          "model_module_version": "1.5.0",
          "state": {
            "_view_name": "StyleView",
            "_model_name": "ProgressStyleModel",
            "description_width": "",
            "_view_module": "@jupyter-widgets/base",
            "_model_module_version": "1.5.0",
            "_view_count": null,
            "_view_module_version": "1.2.0",
            "bar_color": null,
            "_model_module": "@jupyter-widgets/controls"
          }
        },
        "89136fad083247a68ce29e1adc09ebfc": {
          "model_module": "@jupyter-widgets/base",
          "model_name": "LayoutModel",
          "model_module_version": "1.2.0",
          "state": {
            "_view_name": "LayoutView",
            "grid_template_rows": null,
            "right": null,
            "justify_content": null,
            "_view_module": "@jupyter-widgets/base",
            "overflow": null,
            "_model_module_version": "1.2.0",
            "_view_count": null,
            "flex_flow": null,
            "width": null,
            "min_width": null,
            "border": null,
            "align_items": null,
            "bottom": null,
            "_model_module": "@jupyter-widgets/base",
            "top": null,
            "grid_column": null,
            "overflow_y": null,
            "overflow_x": null,
            "grid_auto_flow": null,
            "grid_area": null,
            "grid_template_columns": null,
            "flex": null,
            "_model_name": "LayoutModel",
            "justify_items": null,
            "grid_row": null,
            "max_height": null,
            "align_content": null,
            "visibility": null,
            "align_self": null,
            "height": null,
            "min_height": null,
            "padding": null,
            "grid_auto_rows": null,
            "grid_gap": null,
            "max_width": null,
            "order": null,
            "_view_module_version": "1.2.0",
            "grid_template_areas": null,
            "object_position": null,
            "object_fit": null,
            "grid_auto_columns": null,
            "margin": null,
            "display": null,
            "left": null
          }
        },
        "c37360e07d534e11bd366440a21c5958": {
          "model_module": "@jupyter-widgets/controls",
          "model_name": "DescriptionStyleModel",
          "model_module_version": "1.5.0",
          "state": {
            "_view_name": "StyleView",
            "_model_name": "DescriptionStyleModel",
            "description_width": "",
            "_view_module": "@jupyter-widgets/base",
            "_model_module_version": "1.5.0",
            "_view_count": null,
            "_view_module_version": "1.2.0",
            "_model_module": "@jupyter-widgets/controls"
          }
        },
        "f0e7eb800d874712bf6eaba307f3aadb": {
          "model_module": "@jupyter-widgets/base",
          "model_name": "LayoutModel",
          "model_module_version": "1.2.0",
          "state": {
            "_view_name": "LayoutView",
            "grid_template_rows": null,
            "right": null,
            "justify_content": null,
            "_view_module": "@jupyter-widgets/base",
            "overflow": null,
            "_model_module_version": "1.2.0",
            "_view_count": null,
            "flex_flow": null,
            "width": null,
            "min_width": null,
            "border": null,
            "align_items": null,
            "bottom": null,
            "_model_module": "@jupyter-widgets/base",
            "top": null,
            "grid_column": null,
            "overflow_y": null,
            "overflow_x": null,
            "grid_auto_flow": null,
            "grid_area": null,
            "grid_template_columns": null,
            "flex": null,
            "_model_name": "LayoutModel",
            "justify_items": null,
            "grid_row": null,
            "max_height": null,
            "align_content": null,
            "visibility": null,
            "align_self": null,
            "height": null,
            "min_height": null,
            "padding": null,
            "grid_auto_rows": null,
            "grid_gap": null,
            "max_width": null,
            "order": null,
            "_view_module_version": "1.2.0",
            "grid_template_areas": null,
            "object_position": null,
            "object_fit": null,
            "grid_auto_columns": null,
            "margin": null,
            "display": null,
            "left": null
          }
        }
      }
    }
  },
  "cells": [
    {
      "cell_type": "markdown",
      "metadata": {
        "id": "view-in-github",
        "colab_type": "text"
      },
      "source": [
        "<a href=\"https://colab.research.google.com/github/sscherl2017/20Questions/blob/master/project4_semantics.ipynb\" target=\"_parent\"><img src=\"https://colab.research.google.com/assets/colab-badge.svg\" alt=\"Open In Colab\"/></a>"
      ]
    },
    {
      "cell_type": "code",
      "source": [
        "pip install tornado==6"
      ],
      "metadata": {
        "colab": {
          "base_uri": "https://localhost:8080/",
          "height": 0
        },
        "id": "pZrX-XNf8AeY",
        "outputId": "31a96fc3-93d2-4998-b238-387cc3a9902a"
      },
      "id": "pZrX-XNf8AeY",
      "execution_count": 1,
      "outputs": [
        {
          "output_type": "stream",
          "name": "stdout",
          "text": [
            "Requirement already satisfied: tornado==6 in /usr/local/lib/python3.7/dist-packages (6.0)\n"
          ]
        }
      ]
    },
    {
      "cell_type": "code",
      "source": [
        "pip install wget"
      ],
      "metadata": {
        "colab": {
          "base_uri": "https://localhost:8080/",
          "height": 0
        },
        "id": "XyTID9Tr9ABQ",
        "outputId": "c6bf5d2d-c284-410e-d666-8d9ad9e485b2"
      },
      "id": "XyTID9Tr9ABQ",
      "execution_count": 2,
      "outputs": [
        {
          "output_type": "stream",
          "name": "stdout",
          "text": [
            "Collecting wget\n",
            "  Downloading wget-3.2.zip (10 kB)\n",
            "Building wheels for collected packages: wget\n",
            "  Building wheel for wget (setup.py) ... \u001b[?25l\u001b[?25hdone\n",
            "  Created wheel for wget: filename=wget-3.2-py3-none-any.whl size=9672 sha256=5fa81b1acae5f201ba9684ffa4f9e8429365eb8a608bed786e715cc89d7f5bb8\n",
            "  Stored in directory: /root/.cache/pip/wheels/a1/b6/7c/0e63e34eb06634181c63adacca38b79ff8f35c37e3c13e3c02\n",
            "Successfully built wget\n",
            "Installing collected packages: wget\n",
            "Successfully installed wget-3.2\n"
          ]
        }
      ]
    },
    {
      "cell_type": "code",
      "metadata": {
        "collapsed": true,
        "deletable": false,
        "editable": false,
        "jupyter": {
          "outputs_hidden": true,
          "source_hidden": true
        },
        "id": "f642e7d9",
        "colab": {
          "base_uri": "https://localhost:8080/",
          "height": 0
        },
        "outputId": "a5d8597c-78f2-4488-fd11-eac75479130f"
      },
      "source": [
        "# Please do not change this cell because some hidden tests might depend on it.\n",
        "import os\n",
        "\n",
        "# Otter grader does not handle ! commands well, so we define and use our\n",
        "# own function to execute shell commands.\n",
        "def shell(commands, warn=True):\n",
        "    \"\"\"Executes the string `commands` as a sequence of shell commands.\n",
        "     \n",
        "       Prints the result to stdout and returns the exit status. \n",
        "       Provides a printed warning on non-zero exit status unless `warn` \n",
        "       flag is unset.\n",
        "    \"\"\"\n",
        "    file = os.popen(commands)\n",
        "    print (file.read().rstrip('\\n'))\n",
        "    exit_status = file.close()\n",
        "    if warn and exit_status != None:\n",
        "        print(f\"Completed with errors. Exit status: {exit_status}\\n\")\n",
        "    return exit_status\n",
        "\n",
        "shell(\"\"\"\n",
        "ls requirements.txt >/dev/null 2>&1\n",
        "if [ ! $? = 0 ]; then\n",
        " rm -rf .tmp\n",
        " git clone https://github.com/cs187-2021/project4.git .tmp\n",
        " mv .tmp/requirements.txt ./\n",
        " rm -rf .tmp\n",
        "fi\n",
        "pip install -q -r requirements.txt\n",
        "\"\"\")"
      ],
      "id": "f642e7d9",
      "execution_count": 3,
      "outputs": [
        {
          "output_type": "stream",
          "name": "stdout",
          "text": [
            "\n"
          ]
        }
      ]
    },
    {
      "cell_type": "code",
      "metadata": {
        "deletable": false,
        "editable": false,
        "id": "84c2a078"
      },
      "source": [
        "# Initialize Otter\n",
        "import otter\n",
        "grader = otter.Notebook()"
      ],
      "id": "84c2a078",
      "execution_count": 4,
      "outputs": []
    },
    {
      "cell_type": "raw",
      "metadata": {
        "id": "c7c99c22",
        "jupyter": {
          "source_hidden": true
        }
      },
      "source": [
        "%%latex\n",
        "\\newcommand{\\vect}[1]{\\mathbf{#1}}\n",
        "\\newcommand{\\cnt}[1]{\\sharp(#1)}\n",
        "\\newcommand{\\argmax}[1]{\\underset{#1}{\\operatorname{argmax}}}\n",
        "\\newcommand{\\softmax}{\\operatorname{softmax}}\n",
        "\\newcommand{\\Prob}{\\Pr}\n",
        "\\newcommand{\\given}{\\,|\\,}"
      ],
      "id": "c7c99c22"
    },
    {
      "cell_type": "markdown",
      "metadata": {
        "id": "02f12ded",
        "jupyter": {
          "source_hidden": true
        }
      },
      "source": [
        "$$\n",
        "\\renewcommand{\\vect}[1]{\\mathbf{#1}}\n",
        "\\renewcommand{\\cnt}[1]{\\sharp(#1)}\n",
        "\\renewcommand{\\argmax}[1]{\\underset{#1}{\\operatorname{argmax}}}\n",
        "\\renewcommand{\\softmax}{\\operatorname{softmax}}\n",
        "\\renewcommand{\\Prob}{\\Pr}\n",
        "\\renewcommand{\\given}{\\,|\\,}\n",
        "$$"
      ],
      "id": "02f12ded"
    },
    {
      "cell_type": "markdown",
      "metadata": {
        "id": "afae10a3",
        "tags": [
          "remove_for_latex"
        ]
      },
      "source": [
        "# CS187\n",
        "## Project 4: Semantic Interpretation – Question Answering"
      ],
      "id": "afae10a3"
    },
    {
      "cell_type": "markdown",
      "metadata": {
        "id": "1f0363b5"
      },
      "source": [
        "The goal of semantic parsing is to convert natural language utterances to a meaning representation such as a _logical form_ expression or a _SQL query_. In the previous project segment, you built a parsing system to reconstruct parse trees from the natural-language queries in the ATIS dataset. However, that only solves an intermediary task, not the end-user task of obtaining answers to the queries.\n",
        "\n",
        "In this final project segment, you will go further, building a semantic parsing system to convert English queries to SQL queries, so that by consulting a database you will be able to answer those questions. You will implement both a rule-based approach and an end-to-end sequence-to-sequence (seq2seq) approach. Both algorithms come with their pros and cons, and by the end of this segment you should have a basic understanding of the characteristics of the two approaches. \n",
        "\n",
        "## Goals\n",
        "\n",
        "1. Build a semantic parsing algorithm to convert text to SQL queries based on the syntactic parse trees from the last project.\n",
        "2. Build an attention-based end-to-end seq2seq system to convert text to SQL.\n",
        "3. Improve the attention-based end-to-end seq2seq system with self-attention to convert text to SQL.\n",
        "4. Discuss the pros and cons of the rule-based system and the end-to-end system.\n",
        "5. (Optional) Use the state-of-the-art pretrained transformers for text-to-SQL conversion.\n",
        "\n",
        "This will be an extremely challenging project, so we recommend that you start early."
      ],
      "id": "1f0363b5"
    },
    {
      "cell_type": "markdown",
      "metadata": {
        "id": "1341b57a"
      },
      "source": [
        "# Setup"
      ],
      "id": "1341b57a"
    },
    {
      "cell_type": "code",
      "metadata": {
        "id": "463676fb"
      },
      "source": [
        "import copy\n",
        "import datetime\n",
        "import math\n",
        "import re\n",
        "import sys\n",
        "import warnings\n",
        "\n",
        "import wget\n",
        "import nltk\n",
        "import sqlite3\n",
        "import torch\n",
        "import torch.nn as nn\n",
        "import torchtext.legacy as tt\n",
        "\n",
        "from cryptography.fernet import Fernet\n",
        "from func_timeout import func_set_timeout\n",
        "from torch.nn.utils.rnn import pack_padded_sequence as pack\n",
        "from torch.nn.utils.rnn import pad_packed_sequence as unpack\n",
        "from tqdm import tqdm\n",
        "from transformers import BartTokenizer, BartForConditionalGeneration"
      ],
      "id": "463676fb",
      "execution_count": 5,
      "outputs": []
    },
    {
      "cell_type": "code",
      "metadata": {
        "id": "4da729fa",
        "colab": {
          "base_uri": "https://localhost:8080/",
          "height": 0
        },
        "outputId": "cb0cb13c-831c-4eb8-9068-8372b4bcbb75"
      },
      "source": [
        "# Set random seeds\n",
        "seed = 1234\n",
        "torch.manual_seed(seed)\n",
        "# Set timeout for executing SQL\n",
        "TIMEOUT = 3 # seconds\n",
        "\n",
        "# GPU check: Set runtime type to use GPU where available\n",
        "device = torch.device(\"cuda\" if torch.cuda.is_available() else \"cpu\")\n",
        "print (device)"
      ],
      "id": "4da729fa",
      "execution_count": 6,
      "outputs": [
        {
          "output_type": "stream",
          "name": "stdout",
          "text": [
            "cuda\n"
          ]
        }
      ]
    },
    {
      "cell_type": "code",
      "metadata": {
        "id": "ba932f15",
        "colab": {
          "base_uri": "https://localhost:8080/",
          "height": 35
        },
        "outputId": "0ea92f82-2b5b-416c-bdb0-5ee74afaaa73"
      },
      "source": [
        "## Download needed scripts and data\n",
        "os.makedirs('data', exist_ok=True)\n",
        "os.makedirs('scripts', exist_ok=True)\n",
        "source_url = \"https://raw.githubusercontent.com/nlp-course/data/master\"\n",
        "\n",
        "# Grammar to augment for this segment\n",
        "if not os.path.isfile('data/grammar'):\n",
        "  wget.download(f\"{source_url}/ATIS/grammar_distrib4.crypt\", out=\"data/\")\n",
        "\n",
        "  # Decrypt the grammar file\n",
        "  key = b'bfksTY2BJ5VKKK9xZb1PDDLaGkdu7KCDFYfVePSEfGY='\n",
        "  fernet = Fernet(key)\n",
        "  with open('./data/grammar_distrib4.crypt', 'rb') as f:\n",
        "    restored = Fernet(key).decrypt(f.read())\n",
        "  with open('./data/grammar', 'wb') as f:\n",
        "    f.write(restored)\n",
        "\n",
        "# Download scripts and ATIS database\n",
        "wget.download(f\"{source_url}/scripts/trees/transform.py\", out=\"scripts/\")\n",
        "wget.download(f\"{source_url}/ATIS/atis_sqlite.db\", out=\"data/\")"
      ],
      "id": "ba932f15",
      "execution_count": 7,
      "outputs": [
        {
          "output_type": "execute_result",
          "data": {
            "application/vnd.google.colaboratory.intrinsic+json": {
              "type": "string"
            },
            "text/plain": [
              "'data//atis_sqlite.db'"
            ]
          },
          "metadata": {},
          "execution_count": 7
        }
      ]
    },
    {
      "cell_type": "code",
      "metadata": {
        "id": "85867162"
      },
      "source": [
        "# Import downloaded scripts for parsing augmented grammars\n",
        "sys.path.insert(1, './scripts')\n",
        "import transform as xform"
      ],
      "id": "85867162",
      "execution_count": 8,
      "outputs": []
    },
    {
      "cell_type": "markdown",
      "metadata": {
        "id": "b8df71b3"
      },
      "source": [
        "# Semantically augmented grammars\n",
        "\n",
        "In the first part of this project segment, you'll be implementing a rule-based system for semantic interpretation of sentences. Before jumping into using such a system on the ATIS dataset – we'll get to that soon enough – let's first work with some trivial examples to get things going.\n",
        "\n",
        "The fundamental idea of rule-based semantic interpretation is the rule of compositionality, that *the meaning of a constituent is a function of the meanings of its immediate subconstituents and the syntactic rule that combined them*. This leads to an infrastructure for specifying semantic interpretation in which each syntactic rule in a grammar (in our case, a context-free grammar) is associated with a semantic rule that applies to the meanings associated with the elements on the right-hand side of the rule.\n",
        "\n",
        "## Example: arithmetic expressions\n",
        "\n",
        "As a first example, let's consider an augmented grammar for arithmetic expressions, familiar from lab 3-1. We again use the function `xform.parse_augmented_grammar` to parse the augmented grammar. You can read more about it in the file `scripts/transform.py`."
      ],
      "id": "b8df71b3"
    },
    {
      "cell_type": "code",
      "metadata": {
        "id": "d9d641d9"
      },
      "source": [
        "arithmetic_grammar, arithmetic_augmentations = xform.parse_augmented_grammar(\n",
        "    \"\"\"\n",
        "    ## Sample grammar for arithmetic expressions\n",
        "    \n",
        "    S -> NUM                              : lambda Num: Num\n",
        "       | S OP S                           : lambda S1, Op, S2: Op(S1, S2)\n",
        "\n",
        "    OP -> ADD                             : lambda Op: Op\n",
        "        | SUB \n",
        "        | MULT\n",
        "        | DIV\n",
        "\n",
        "    NUM -> 'zero'                         : lambda: 0\n",
        "         | 'one'                          : lambda: 1\n",
        "         | 'two'                          : lambda: 2\n",
        "         | 'three'                        : lambda: 3\n",
        "         | 'four'                         : lambda: 4\n",
        "         | 'five'                         : lambda: 5\n",
        "         | 'six'                          : lambda: 6\n",
        "         | 'seven'                        : lambda: 7\n",
        "         | 'eight'                        : lambda: 8\n",
        "         | 'nine'                         : lambda: 9\n",
        "         | 'ten'                          : lambda: 10\n",
        "\n",
        "    ADD -> 'plus' | 'added' 'to'          : lambda: lambda x, y: x + y\n",
        "    SUB -> 'minus'                        : lambda: lambda x, y: x - y\n",
        "    MULT -> 'times' | 'multiplied' 'by'   : lambda: lambda x, y: x * y\n",
        "    DIV -> 'divided' 'by'                 : lambda: lambda x, y: x / y\n",
        "    \"\"\"\n",
        ")"
      ],
      "id": "d9d641d9",
      "execution_count": 9,
      "outputs": []
    },
    {
      "cell_type": "markdown",
      "metadata": {
        "id": "d2e20947"
      },
      "source": [
        "Recall that in this grammar specification format, rules that are not explicitly provided with an augmentation (like all the `OP` rules after the first `OP -> ADD`) are associated with the textually most recent one (`lambda Op: Op`).\n",
        "\n",
        "The `parse_augmented_grammar` function returns both an NLTK grammar and a dictionary that maps from productions in the grammar to their associated augmentations. Let's examine the returned grammar."
      ],
      "id": "d2e20947"
    },
    {
      "cell_type": "code",
      "metadata": {
        "id": "b7b1f2e8",
        "colab": {
          "base_uri": "https://localhost:8080/",
          "height": 0
        },
        "outputId": "df002675-795d-4611-e912-f456232e2424"
      },
      "source": [
        "for production in arithmetic_grammar.productions():\n",
        "  print(f\"{repr(production):25}     {arithmetic_augmentations[production]}\")"
      ],
      "id": "b7b1f2e8",
      "execution_count": 10,
      "outputs": [
        {
          "output_type": "stream",
          "name": "stdout",
          "text": [
            "S -> NUM                      <function <lambda> at 0x7f3455e3cf80>\n",
            "S -> S OP S                   <function <lambda> at 0x7f3455e41050>\n",
            "OP -> ADD                     <function <lambda> at 0x7f3455e41170>\n",
            "OP -> SUB                     <function <lambda> at 0x7f3455e41290>\n",
            "OP -> MULT                    <function <lambda> at 0x7f3455e413b0>\n",
            "OP -> DIV                     <function <lambda> at 0x7f3455e414d0>\n",
            "NUM -> 'zero'                 <function <lambda> at 0x7f3455e415f0>\n",
            "NUM -> 'one'                  <function <lambda> at 0x7f3455e41710>\n",
            "NUM -> 'two'                  <function <lambda> at 0x7f3455e41830>\n",
            "NUM -> 'three'                <function <lambda> at 0x7f3455e41950>\n",
            "NUM -> 'four'                 <function <lambda> at 0x7f3455e41a70>\n",
            "NUM -> 'five'                 <function <lambda> at 0x7f3455e41b90>\n",
            "NUM -> 'six'                  <function <lambda> at 0x7f3455e41cb0>\n",
            "NUM -> 'seven'                <function <lambda> at 0x7f3455e41dd0>\n",
            "NUM -> 'eight'                <function <lambda> at 0x7f3455e41ef0>\n",
            "NUM -> 'nine'                 <function <lambda> at 0x7f3455e42050>\n",
            "NUM -> 'ten'                  <function <lambda> at 0x7f3455e42170>\n",
            "ADD -> 'plus'                 <function <lambda> at 0x7f3455e42320>\n",
            "ADD -> 'added' 'to'           <function <lambda> at 0x7f3455e424d0>\n",
            "SUB -> 'minus'                <function <lambda> at 0x7f3455e42680>\n",
            "MULT -> 'times'               <function <lambda> at 0x7f3455e42830>\n",
            "MULT -> 'multiplied' 'by'     <function <lambda> at 0x7f3455e429e0>\n",
            "DIV -> 'divided' 'by'         <function <lambda> at 0x7f3455e42b90>\n"
          ]
        }
      ]
    },
    {
      "cell_type": "markdown",
      "metadata": {
        "id": "47548e2c"
      },
      "source": [
        "We can parse with the grammar using one of the built-in NLTK parsers."
      ],
      "id": "47548e2c"
    },
    {
      "cell_type": "code",
      "metadata": {
        "id": "9062744b",
        "colab": {
          "base_uri": "https://localhost:8080/",
          "height": 0
        },
        "outputId": "2b9d9d06-72a2-4868-bf69-6505deb025c0"
      },
      "source": [
        "arithmetic_parser = nltk.parse.BottomUpChartParser(arithmetic_grammar)\n",
        "parses = [p for p in arithmetic_parser.parse('three plus one times four'.split())]\n",
        "for parse in parses:\n",
        "  parse.pretty_print()"
      ],
      "id": "9062744b",
      "execution_count": 11,
      "outputs": [
        {
          "output_type": "stream",
          "name": "stdout",
          "text": [
            "            S            \n",
            "        ____|_________    \n",
            "       S         |    |  \n",
            "   ____|____     |    |   \n",
            "  S    OP   S    OP   S  \n",
            "  |    |    |    |    |   \n",
            " NUM  ADD  NUM  MULT NUM \n",
            "  |    |    |    |    |   \n",
            "three plus one times four\n",
            "\n",
            "            S            \n",
            "   _________|____         \n",
            "  |    |         S       \n",
            "  |    |     ____|____    \n",
            "  S    OP   S    OP   S  \n",
            "  |    |    |    |    |   \n",
            " NUM  ADD  NUM  MULT NUM \n",
            "  |    |    |    |    |   \n",
            "three plus one times four\n",
            "\n"
          ]
        }
      ]
    },
    {
      "cell_type": "markdown",
      "metadata": {
        "id": "2ddbe880"
      },
      "source": [
        "Now let's turn to the augmentations. They can be arbitrary Python functions applied to the semantic representations associated with the right-hand-side nonterminals, returning the semantic representation of the left-hand side. To interpret the semantic representation of the entire sentence (at the root of the parse tree), we can use the following pseudo-code:\n",
        "```\n",
        "to interpret a tree:\n",
        "  interpret each of the nonterminal-rooted subtrees\n",
        "  find the augmentation associated with the root production of the tree\n",
        "    (it should be a function of as many arguments as there are nonterminals on the right-hand side)\n",
        "  return the result of applying the augmentation to the subtree values\n",
        "```\n",
        "(The base case of this recursion occurs when the number of nonterminal-rooted subtrees is zero, that is, a rule all of whose right-hand side elements are terminals.)\n",
        "\n",
        "Suppose we had such a function, call it `interpret`. How would it operate on, for instance, the tree `(S (S (NUM three)) (OP (ADD plus)) (S (NUM one)))`?\n",
        "\n",
        "```\n",
        "interpret (S (S (NUM three)) (OP (ADD plus)) (S (NUM one)))\n",
        "    |->interpret (S (NUM three))\n",
        "    |      |->interpret (NUM three)\n",
        "    |      |      |->(no subconstituents to evaluate)\n",
        "    |      |      |->apply the augmentation for the rule NUM -> three to the empty set of values\n",
        "    |      |      |      (lambda: 3) () ==> 3\n",
        "    |      |      \\==> 3\n",
        "    |      |->apply the augmentation for the rule S -> NUM to the value 3\n",
        "    |      |      (lambda NUM: NUM)(3) ==> 3\n",
        "    |      \\==> 3\n",
        "    |->interpret (OP (ADD plus)) \n",
        "    |      |...\n",
        "    |      \\==> lambda x, y: x + y\n",
        "    |->interpret (S (NUM one))\n",
        "    |      |...\n",
        "    |      \\==> 1\n",
        "    |->apply the augmentation for the rule S -> S OP S to the values 3, (lambda x, y: x + y), and 1\n",
        "    |      (lambda S1, Op, S2: Op(S1, S2))(3, (lambda x, y: x + y), 1) ==> 4\n",
        "    \\==> 4\n",
        "```\n",
        "\n",
        "Thus, the string \"three plus one\" is semantically interpreted as the value 4.\n",
        "\n",
        "We provide the `interpret` function to carry out this recursive process, copied over from lab 4-2:"
      ],
      "id": "2ddbe880"
    },
    {
      "cell_type": "code",
      "metadata": {
        "id": "0da0846d"
      },
      "source": [
        "def interpret(tree, augmentations):\n",
        "  syntactic_rule = tree.productions()[0]\n",
        "  semantic_rule = augmentations[syntactic_rule]\n",
        "  child_meanings = [interpret(child, augmentations) \n",
        "                    for child in tree \n",
        "                    if isinstance(child, nltk.Tree)]\n",
        "  return semantic_rule(*child_meanings)"
      ],
      "id": "0da0846d",
      "execution_count": 12,
      "outputs": []
    },
    {
      "cell_type": "markdown",
      "metadata": {
        "id": "342d5164"
      },
      "source": [
        "Now we should be able to evaluate the arithmetic example from above."
      ],
      "id": "342d5164"
    },
    {
      "cell_type": "code",
      "metadata": {
        "id": "bc902277",
        "colab": {
          "base_uri": "https://localhost:8080/",
          "height": 0
        },
        "outputId": "3a4fb65f-5f3e-4b25-ee2f-44aa1d2cfe7d"
      },
      "source": [
        "interpret(parses[0], arithmetic_augmentations)"
      ],
      "id": "bc902277",
      "execution_count": 13,
      "outputs": [
        {
          "output_type": "execute_result",
          "data": {
            "text/plain": [
              "16"
            ]
          },
          "metadata": {},
          "execution_count": 13
        }
      ]
    },
    {
      "cell_type": "markdown",
      "metadata": {
        "id": "80eacbe6"
      },
      "source": [
        "And we can even write a function that parses and interprets a string. We'll have it evaluate each of the possible parses and print the results."
      ],
      "id": "80eacbe6"
    },
    {
      "cell_type": "code",
      "metadata": {
        "id": "a6fa0e36"
      },
      "source": [
        "def parse_and_interpret(string, grammar, augmentations):\n",
        "  parser = nltk.parse.BottomUpChartParser(grammar)\n",
        "  parses = parser.parse(string.split())\n",
        "  for parse in parses:\n",
        "    parse.pretty_print()\n",
        "    print(parse, \"==>\", interpret(parse, augmentations))"
      ],
      "id": "a6fa0e36",
      "execution_count": 14,
      "outputs": []
    },
    {
      "cell_type": "code",
      "metadata": {
        "id": "c92c856b",
        "colab": {
          "base_uri": "https://localhost:8080/",
          "height": 0
        },
        "outputId": "46087f3b-ca26-4173-842b-6ce0dad62623"
      },
      "source": [
        "parse_and_interpret(\"three plus one times four\", arithmetic_grammar, arithmetic_augmentations)"
      ],
      "id": "c92c856b",
      "execution_count": 15,
      "outputs": [
        {
          "output_type": "stream",
          "name": "stdout",
          "text": [
            "            S            \n",
            "        ____|_________    \n",
            "       S         |    |  \n",
            "   ____|____     |    |   \n",
            "  S    OP   S    OP   S  \n",
            "  |    |    |    |    |   \n",
            " NUM  ADD  NUM  MULT NUM \n",
            "  |    |    |    |    |   \n",
            "three plus one times four\n",
            "\n",
            "(S\n",
            "  (S (S (NUM three)) (OP (ADD plus)) (S (NUM one)))\n",
            "  (OP (MULT times))\n",
            "  (S (NUM four))) ==> 16\n",
            "            S            \n",
            "   _________|____         \n",
            "  |    |         S       \n",
            "  |    |     ____|____    \n",
            "  S    OP   S    OP   S  \n",
            "  |    |    |    |    |   \n",
            " NUM  ADD  NUM  MULT NUM \n",
            "  |    |    |    |    |   \n",
            "three plus one times four\n",
            "\n",
            "(S\n",
            "  (S (NUM three))\n",
            "  (OP (ADD plus))\n",
            "  (S (S (NUM one)) (OP (MULT times)) (S (NUM four)))) ==> 7\n"
          ]
        }
      ]
    },
    {
      "cell_type": "markdown",
      "metadata": {
        "id": "c7d4cfe4"
      },
      "source": [
        "Since the string is syntactically ambiguous according to the grammar, it is semantically ambiguous as well."
      ],
      "id": "c7d4cfe4"
    },
    {
      "cell_type": "markdown",
      "metadata": {
        "id": "e4d20197"
      },
      "source": [
        "## Some grammar specification conveniences\n",
        "\n",
        "Before going on, it will be useful to have a few more conveniences in writing augmentations for rules. First, since the augmentations are arbitrary Python expressions, they can be built from and make use of other functions. For instance, you'll notice that many of the augmentations at the leaves of the tree took no arguments and returned a constant. We can define a function `constant` that returns a function that ignores its arguments and returns a particular value."
      ],
      "id": "e4d20197"
    },
    {
      "cell_type": "code",
      "metadata": {
        "id": "1de4b6f6"
      },
      "source": [
        "def constant(value):\n",
        "  \"\"\"Return `value`, ignoring any arguments\"\"\"\n",
        "  return lambda *args: value"
      ],
      "id": "1de4b6f6",
      "execution_count": 16,
      "outputs": []
    },
    {
      "cell_type": "markdown",
      "metadata": {
        "id": "dbfa4fa6"
      },
      "source": [
        "Similarly, several of the augmentations are functions that just return their first argument. Again, we can define a generic form `first` of such a function:"
      ],
      "id": "dbfa4fa6"
    },
    {
      "cell_type": "code",
      "metadata": {
        "id": "eed6d72a"
      },
      "source": [
        "def first(*args):\n",
        "  \"\"\"Return the value of the first (and perhaps only) subconstituent, \n",
        "     ignoring any others\"\"\"  \n",
        "  return args[0]"
      ],
      "id": "eed6d72a",
      "execution_count": 17,
      "outputs": []
    },
    {
      "cell_type": "markdown",
      "metadata": {
        "id": "38d2597c"
      },
      "source": [
        "We can now rewrite the grammar above to take advantage of these shortcuts. \n",
        "\n",
        "> In the call to `parse_augmented_grammar` below, we pass in the global environment, extracted via a `globals()` function call, via the named argument `globals`. This allows the `parse_augmented_grammar` function to make use of the global bindings for `constant`, `first`, and the like when evaluating the augmentation expressions to their values. You can check out the code in `transform.py` to see how the passed in `globals` bindings are used. To help understand what's going on, see what happens if you don't include the `globals=globals()`."
      ],
      "id": "38d2597c"
    },
    {
      "cell_type": "code",
      "metadata": {
        "id": "cebf2129"
      },
      "source": [
        "arithmetic_grammar_2, arithmetic_augmentations_2 = xform.parse_augmented_grammar(\n",
        "    \"\"\"\n",
        "    ## Sample grammar for arithmetic expressions\n",
        "    \n",
        "    S -> NUM                              : first\n",
        "       | S OP S                           : lambda S1, Op, S2: Op(S1, S2)\n",
        "\n",
        "    OP -> ADD                             : first\n",
        "       | SUB \n",
        "       | MULT\n",
        "       | DIV\n",
        "\n",
        "    NUM -> 'zero'                         : constant(0)\n",
        "         | 'one'                          : constant(1)\n",
        "         | 'two'                          : constant(2)\n",
        "         | 'three'                        : constant(3)\n",
        "         | 'four'                         : constant(4)\n",
        "         | 'five'                         : constant(5)\n",
        "         | 'six'                          : constant(6)\n",
        "         | 'seven'                        : constant(7)\n",
        "         | 'eight'                        : constant(8)\n",
        "         | 'nine'                         : constant(9)\n",
        "         | 'ten'                          : constant(10)\n",
        "\n",
        "    ADD -> 'plus' | 'added' 'to'          : constant(lambda x, y: x + y)\n",
        "    SUB -> 'minus'                        : constant(lambda x, y: x - y)\n",
        "    MULT -> 'times' | 'multiplied' 'by'   : constant(lambda x, y: x * y)\n",
        "    DIV -> 'divided' 'by'                 : constant(lambda x, y: x / y)\n",
        "    \"\"\",\n",
        "    globals=globals())"
      ],
      "id": "cebf2129",
      "execution_count": 18,
      "outputs": []
    },
    {
      "cell_type": "markdown",
      "metadata": {
        "id": "838486c8"
      },
      "source": [
        "Finally, it might make our lives easier to write a template of augmentations whose instantiation depends on the right-hand side of the rule. \n",
        "\n",
        "We use a reserved keyword `_RHS` to denote the right-hand side of the syntactic rule, which will be replaced by a **list** of the right-hand-side strings. For example, an augmentation `numeric_template(_RHS)` would be as if written as `numeric_template(['zero'])` when the rule is `NUM -> 'zero'`, and `numeric_template(['one'])` when the rule is `NUM -> 'one'`. The details of how this works can be found at [`scripts/transform.py`](https://github.com/nlp-course/data/blob/master/scripts/trees/transform.py).\n",
        "\n",
        "This would allow us to use a single template function, for example,"
      ],
      "id": "838486c8"
    },
    {
      "cell_type": "code",
      "metadata": {
        "id": "e7ec99f2"
      },
      "source": [
        "def numeric_template(rhs):\n",
        "  \"\"\"Ignore the subphrase meanings and lookup the first right-hand-side symbol \n",
        "     as a number\"\"\"\n",
        "  return constant({'zero':0, 'one':1, 'two':2, 'three':3, 'four':4, 'five':5,\n",
        "          'six':6, 'seven':7, 'eight':8, 'nine':9, 'ten':10}[rhs[0]])"
      ],
      "id": "e7ec99f2",
      "execution_count": 19,
      "outputs": []
    },
    {
      "cell_type": "markdown",
      "metadata": {
        "id": "82de023b"
      },
      "source": [
        "and then further simplify the grammar specification:"
      ],
      "id": "82de023b"
    },
    {
      "cell_type": "code",
      "metadata": {
        "id": "1ee6d355"
      },
      "source": [
        "arithmetic_grammar_3, arithmetic_augmentations_3 = xform.parse_augmented_grammar(\n",
        "    \"\"\"\n",
        "    ## Sample grammar for arithmetic expressions\n",
        "    \n",
        "    S -> NUM                              : first\n",
        "       | S OP S                           : lambda S1, Op, S2: Op(S1, S2)\n",
        "\n",
        "    OP -> ADD                             : first\n",
        "       | SUB\n",
        "       | MULT\n",
        "       | DIV\n",
        "\n",
        "    NUM -> 'zero'  | 'one'   | 'two'      : numeric_template(_RHS)\n",
        "         | 'three' | 'four'  | 'five'\n",
        "         | 'six'   | 'seven' | 'eight'\n",
        "         | 'nine'  | 'ten'\n",
        "\n",
        "    ADD -> 'plus' | 'added' 'to'          : constant(lambda x, y: x + y)\n",
        "    SUB -> 'minus'                        : constant(lambda x, y: x - y)\n",
        "    MULT -> 'times' | 'multiplied' 'by'   : constant(lambda x, y: x * y)\n",
        "    DIV -> 'divided' 'by'                 : constant(lambda x, y: x / y)\n",
        "    \"\"\",\n",
        "    globals=globals())"
      ],
      "id": "1ee6d355",
      "execution_count": 20,
      "outputs": []
    },
    {
      "cell_type": "code",
      "metadata": {
        "id": "9e536652",
        "colab": {
          "base_uri": "https://localhost:8080/",
          "height": 0
        },
        "outputId": "b21366cf-ac61-4502-c1e6-d1cfffcd91eb"
      },
      "source": [
        "parse_and_interpret(\"six divided by three\", arithmetic_grammar_3, arithmetic_augmentations_3)"
      ],
      "id": "9e536652",
      "execution_count": 21,
      "outputs": [
        {
          "output_type": "stream",
          "name": "stdout",
          "text": [
            "       S                 \n",
            "  _____|______________    \n",
            " S           OP       S  \n",
            " |           |        |   \n",
            "NUM         DIV      NUM \n",
            " |      _____|___     |   \n",
            "six divided      by three\n",
            "\n",
            "(S (S (NUM six)) (OP (DIV divided by)) (S (NUM three))) ==> 2.0\n"
          ]
        }
      ]
    },
    {
      "cell_type": "markdown",
      "metadata": {
        "id": "7db97ed4"
      },
      "source": [
        "## Example: _Green Eggs and Ham_ revisited\n",
        "\n",
        "This stuff is tricky, so it's useful to see more examples before jumping in the deep end. In this simple GEaH fragment grammar, we use a larger set of auxiliary functions to build the augmentations."
      ],
      "id": "7db97ed4"
    },
    {
      "cell_type": "code",
      "metadata": {
        "id": "3f678453"
      },
      "source": [
        "def forward(F, A):\n",
        "  \"\"\"Forward application: Return the application of the first \n",
        "     argument to the second\"\"\"\n",
        "  return F(A)\n",
        "\n",
        "def backward(A, F):\n",
        "  \"\"\"Backward application: Return the application of the second \n",
        "     argument to the first\"\"\"\n",
        "  return F(A)\n",
        "\n",
        "def second(*args):\n",
        "  \"\"\"Return the value of the second subconstituent, ignoring any others\"\"\"\n",
        "  return args[1]\n",
        "\n",
        "def ignore(*args):\n",
        "  \"\"\"Return `None`, ignoring everything about the constituent. (Good as a\n",
        "     placeholder until a better augmentation can be devised.)\"\"\"\n",
        "  return None"
      ],
      "id": "3f678453",
      "execution_count": 22,
      "outputs": []
    },
    {
      "cell_type": "markdown",
      "metadata": {
        "id": "c812edfb"
      },
      "source": [
        "Using these, we can build and test the grammar."
      ],
      "id": "c812edfb"
    },
    {
      "cell_type": "code",
      "metadata": {
        "id": "1abe86e5"
      },
      "source": [
        "geah_grammar_spec = \"\"\"\n",
        "  ## Productions\n",
        "  S -> NP VP            : backward\n",
        "  VP -> V NP            : forward\n",
        "\n",
        "  ## Lexicon\n",
        "  V -> 'likes'          : constant(lambda Object: lambda Subject: f\"like({Subject}, {Object})\")\n",
        "  NP -> 'Sam' | 'sam'   : constant(_RHS[0])\n",
        "  NP -> 'ham'\n",
        "  NP -> 'eggs'\n",
        "\"\"\""
      ],
      "id": "1abe86e5",
      "execution_count": 23,
      "outputs": []
    },
    {
      "cell_type": "code",
      "metadata": {
        "id": "df085dd0"
      },
      "source": [
        "geah_grammar, geah_augmentations = xform.parse_augmented_grammar(geah_grammar_spec, \n",
        "                                                                 globals=globals())"
      ],
      "id": "df085dd0",
      "execution_count": 24,
      "outputs": []
    },
    {
      "cell_type": "code",
      "metadata": {
        "id": "ed5753ed",
        "colab": {
          "base_uri": "https://localhost:8080/",
          "height": 0
        },
        "outputId": "4c4835af-f289-4eb1-f8f9-c55c0ef248c1"
      },
      "source": [
        "parse_and_interpret(\"Sam likes ham\", geah_grammar, geah_augmentations)"
      ],
      "id": "ed5753ed",
      "execution_count": 25,
      "outputs": [
        {
          "output_type": "stream",
          "name": "stdout",
          "text": [
            "      S          \n",
            "  ____|____       \n",
            " |         VP    \n",
            " |     ____|___   \n",
            " NP   V        NP\n",
            " |    |        |  \n",
            "Sam likes     ham\n",
            "\n",
            "(S (NP Sam) (VP (V likes) (NP ham))) ==> like(Sam, ham)\n"
          ]
        }
      ]
    },
    {
      "cell_type": "markdown",
      "metadata": {
        "id": "efbfa299"
      },
      "source": [
        "# Semantics of ATIS queries\n",
        "\n",
        "Now you're in a good position to understand and add augmentations to a more comprehensive grammar, say, one that parses ATIS queries and generates SQL queries.\n",
        "\n",
        "In preparation for that, we need to load the ATIS data, both NL and SQL queries."
      ],
      "id": "efbfa299"
    },
    {
      "cell_type": "markdown",
      "metadata": {
        "id": "433060a9"
      },
      "source": [
        "## Loading and preprocessing the corpus\n",
        "\n",
        "To simplify things a bit, we'll only consider ATIS queries whose question type (remember that from project segment 1?) is `flight_id`. We download training, development, and test splits for this subset of the ATIS corpus, including corresponding SQL queries."
      ],
      "id": "433060a9"
    },
    {
      "cell_type": "code",
      "metadata": {
        "id": "2caf3faf",
        "colab": {
          "base_uri": "https://localhost:8080/",
          "height": 35
        },
        "outputId": "42e4fd79-54b3-49c8-bb6c-4fdc18e758ea"
      },
      "source": [
        "# Acquire the datasets - training, development, and test splits of the \n",
        "# ATIS queries and corresponding SQL queries\n",
        "wget.download(f\"{source_url}/ATIS/test_flightid.nl\", out=\"data/\")\n",
        "wget.download(f\"{source_url}/ATIS/test_flightid.sql\", out=\"data/\")\n",
        "wget.download(f\"{source_url}/ATIS/dev_flightid.nl\", out=\"data/\")\n",
        "wget.download(f\"{source_url}/ATIS/dev_flightid.sql\", out=\"data/\")\n",
        "wget.download(f\"{source_url}/ATIS/train_flightid.nl\", out=\"data/\")\n",
        "wget.download(f\"{source_url}/ATIS/train_flightid.sql\", out=\"data/\")"
      ],
      "id": "2caf3faf",
      "execution_count": 26,
      "outputs": [
        {
          "output_type": "execute_result",
          "data": {
            "application/vnd.google.colaboratory.intrinsic+json": {
              "type": "string"
            },
            "text/plain": [
              "'data//train_flightid.sql'"
            ]
          },
          "metadata": {},
          "execution_count": 26
        }
      ]
    },
    {
      "cell_type": "markdown",
      "metadata": {
        "id": "716287dd"
      },
      "source": [
        "Let's take a look at the data: the NL queries are in `.nl` files, and the SQL queries are in `.sql` files."
      ],
      "id": "716287dd"
    },
    {
      "cell_type": "code",
      "metadata": {
        "id": "c150fd06",
        "colab": {
          "base_uri": "https://localhost:8080/",
          "height": 0
        },
        "outputId": "aeb8d040-3491-45ce-af98-bff0418bc9a3"
      },
      "source": [
        "shell(\"head -1 data/dev_flightid.nl\")\n",
        "shell(\"head -1 data/dev_flightid.sql\")"
      ],
      "id": "c150fd06",
      "execution_count": 27,
      "outputs": [
        {
          "output_type": "stream",
          "name": "stdout",
          "text": [
            "what flights are available tomorrow from denver to philadelphia\n",
            "SELECT DISTINCT flight_1.flight_id FROM flight flight_1 , airport_service airport_service_1 , city city_1 , airport_service airport_service_2 , city city_2 , days days_1 , date_day date_day_1 WHERE flight_1.from_airport = airport_service_1.airport_code AND airport_service_1.city_code = city_1.city_code AND city_1.city_name = 'DENVER' AND ( flight_1.to_airport = airport_service_2.airport_code AND airport_service_2.city_code = city_2.city_code AND city_2.city_name = 'PHILADELPHIA' AND flight_1.flight_days = days_1.days_code AND days_1.day_name = date_day_1.day_name AND date_day_1.year = 1991 AND date_day_1.month_number = 1 AND date_day_1.day_number = 20 )\n"
          ]
        }
      ]
    },
    {
      "cell_type": "markdown",
      "metadata": {
        "id": "5e322766"
      },
      "source": [
        "## Corpus preprocessing"
      ],
      "id": "5e322766"
    },
    {
      "cell_type": "markdown",
      "metadata": {
        "id": "fd449509"
      },
      "source": [
        "We'll use `torchtext` to process the data. We use two `Field`s: `SRC` for the questions, and `TGT` for the SQL queries. We'll use the tokenizer from project segment 3."
      ],
      "id": "fd449509"
    },
    {
      "cell_type": "code",
      "metadata": {
        "id": "273359cc",
        "colab": {
          "base_uri": "https://localhost:8080/",
          "height": 0
        },
        "outputId": "b130be70-7c7d-4cde-985b-8af0a23bd7b5"
      },
      "source": [
        "## Tokenizer\n",
        "tokenizer = nltk.tokenize.RegexpTokenizer('\\d+|st\\.|[\\w-]+|\\$[\\d\\.]+|\\S+')\n",
        "def tokenize(string):\n",
        "  return tokenizer.tokenize(string.lower())\n",
        "\n",
        "## Demonstrating the tokenizer\n",
        "## Note especially the handling of `\"11pm\"` and hyphenated words.\n",
        "print(tokenize(\"Are there any first-class flights from St. Louis at 11pm for less than $3.50?\"))"
      ],
      "id": "273359cc",
      "execution_count": 28,
      "outputs": [
        {
          "output_type": "stream",
          "name": "stdout",
          "text": [
            "['are', 'there', 'any', 'first-class', 'flights', 'from', 'st.', 'louis', 'at', '11', 'pm', 'for', 'less', 'than', '$3.50', '?']\n"
          ]
        }
      ]
    },
    {
      "cell_type": "code",
      "metadata": {
        "id": "db7565d5"
      },
      "source": [
        "SRC = tt.data.Field(include_lengths=True,         # include lengths\n",
        "                    batch_first=False,            # batches will be max_len x batch_size\n",
        "                    tokenize=tokenize,            # use our tokenizer\n",
        "                   ) \n",
        "TGT = tt.data.Field(include_lengths=False,\n",
        "                    batch_first=False,            # batches will be max_len x batch_size\n",
        "                    tokenize=lambda x: x.split(), # use split to tokenize\n",
        "                    init_token=\"<bos>\",           # prepend <bos>\n",
        "                    eos_token=\"<eos>\")            # append <eos>\n",
        "fields = [('src', SRC), ('tgt', TGT)]"
      ],
      "id": "db7565d5",
      "execution_count": 29,
      "outputs": []
    },
    {
      "cell_type": "markdown",
      "metadata": {
        "id": "4f2686ff"
      },
      "source": [
        "> Note that we specified `batch_first=False` (as in lab 4-4), so that the returned batched tensors would be of size `max_length x batch_size`, which facilitates seq2seq implementation.\n",
        "\n",
        "Now, we load the data using `torchtext`. We use the `TranslationDataset` class here because our task is essentially a translation task: \"translating\" questions into the corresponding SQL queries. Therefore, we also refer to the questions as the _source_ side (`SRC`) and the SQL queries as the _target_ side (`TGT`)."
      ],
      "id": "4f2686ff"
    },
    {
      "cell_type": "code",
      "metadata": {
        "id": "bdec6017",
        "colab": {
          "base_uri": "https://localhost:8080/",
          "height": 0
        },
        "outputId": "ee883ace-6257-4e4b-a7ab-5670aa39b962"
      },
      "source": [
        "# Make splits for data\n",
        "train_data, val_data, test_data = tt.datasets.TranslationDataset.splits(\n",
        "    ('_flightid.nl', '_flightid.sql'), fields, path='./data/',\n",
        "    train='train', validation='dev', test='test')\n",
        "\n",
        "MIN_FREQ = 3\n",
        "SRC.build_vocab(train_data.src, min_freq=MIN_FREQ)\n",
        "TGT.build_vocab(train_data.tgt, min_freq=MIN_FREQ)\n",
        "\n",
        "print (f\"Size of English vocab: {len(SRC.vocab)}\")\n",
        "print (f\"Most common English words: {SRC.vocab.freqs.most_common(10)}\\n\")\n",
        "\n",
        "print (f\"Size of SQL vocab: {len(TGT.vocab)}\")\n",
        "print (f\"Most common SQL words: {TGT.vocab.freqs.most_common(10)}\\n\")\n",
        "\n",
        "print (f\"Index for start of sequence token: {TGT.vocab.stoi[TGT.init_token]}\")\n",
        "print (f\"Index for end of sequence token: {TGT.vocab.stoi[TGT.eos_token]}\")"
      ],
      "id": "bdec6017",
      "execution_count": 30,
      "outputs": [
        {
          "output_type": "stream",
          "name": "stdout",
          "text": [
            "Size of English vocab: 421\n",
            "Most common English words: [('to', 3478), ('from', 3019), ('flights', 2094), ('the', 1550), ('on', 1230), ('me', 973), ('flight', 972), ('show', 845), ('what', 833), ('boston', 813)]\n",
            "\n",
            "Size of SQL vocab: 392\n",
            "Most common SQL words: [('=', 38876), ('AND', 36564), (',', 22772), ('airport_service', 8314), ('city', 8313), ('(', 6432), (')', 6432), ('flight_1.flight_id', 4536), ('flight', 4221), ('SELECT', 4178)]\n",
            "\n",
            "Index for start of sequence token: 2\n",
            "Index for end of sequence token: 3\n"
          ]
        }
      ]
    },
    {
      "cell_type": "markdown",
      "metadata": {
        "id": "74cc33ae"
      },
      "source": [
        "Next, we batch our data to facilitate processing on a GPU. Batching is a bit tricky because the source and target will typically be of different lengths. Fortunately, `torchtext` allows us to pass in a `sort_key` function. By sorting on length, we can minimize the amount of padding on the source side, but since there is still some padding, we need to handle them with [`pack`](https://pytorch.org/docs/stable/generated/torch.nn.utils.rnn.pack_padded_sequence.html#torch.nn.utils.rnn.pack_padded_sequence) and [`unpack`](https://pytorch.org/docs/stable/generated/torch.nn.utils.rnn.pad_packed_sequence.html) later on in the seq2seq part (as in lab 4-5). "
      ],
      "id": "74cc33ae"
    },
    {
      "cell_type": "code",
      "metadata": {
        "id": "d26d7e63"
      },
      "source": [
        "BATCH_SIZE = 16 # batch size for training/validation\n",
        "TEST_BATCH_SIZE = 1 # batch size for test, we use 1 to make beam search implementation easier\n",
        "\n",
        "train_iter, val_iter = tt.data.BucketIterator.splits((train_data, val_data),\n",
        "                                                     batch_size=BATCH_SIZE, \n",
        "                                                     device=device,\n",
        "                                                     repeat=False, \n",
        "                                                     sort_key=lambda x: len(x.src), \n",
        "                                                     sort_within_batch=True)\n",
        "test_iter = tt.data.BucketIterator(test_data, \n",
        "                                   batch_size=TEST_BATCH_SIZE, \n",
        "                                   device=device,\n",
        "                                   repeat=False, \n",
        "                                   sort=False, \n",
        "                                   train=False)"
      ],
      "id": "d26d7e63",
      "execution_count": 31,
      "outputs": []
    },
    {
      "cell_type": "markdown",
      "metadata": {
        "id": "9995be7d"
      },
      "source": [
        "Let's look at a single batch from one of these iterators."
      ],
      "id": "9995be7d"
    },
    {
      "cell_type": "code",
      "metadata": {
        "id": "dbbed4a0",
        "colab": {
          "base_uri": "https://localhost:8080/",
          "height": 0
        },
        "outputId": "ba9e2032-516c-4ba4-f7ad-b7b38117b9de"
      },
      "source": [
        "batch = next(iter(train_iter))\n",
        "train_batch_text, train_batch_text_lengths = batch.src\n",
        "print (f\"Size of text batch: {train_batch_text.shape}\")\n",
        "print (f\"Third sentence in batch: {train_batch_text[:, 2]}\")\n",
        "print (f\"Length of the third sentence in batch: {train_batch_text_lengths[2]}\")\n",
        "print (f\"Converted back to string: {' '.join([SRC.vocab.itos[i] for i in train_batch_text[:, 2]])}\")\n",
        "\n",
        "train_batch_sql = batch.tgt\n",
        "print (f\"Size of sql batch: {train_batch_sql.shape}\")\n",
        "print (f\"Third SQL in batch: {train_batch_sql[:, 2]}\")\n",
        "print (f\"Converted back to string: {' '.join([TGT.vocab.itos[i] for i in train_batch_sql[:, 2]])}\")"
      ],
      "id": "dbbed4a0",
      "execution_count": 32,
      "outputs": [
        {
          "output_type": "stream",
          "name": "stdout",
          "text": [
            "Size of text batch: torch.Size([11, 16])\n",
            "Third sentence in batch: tensor([ 12,  37,  25,   2, 140,  21,   4,   3,  14,   2,  24],\n",
            "       device='cuda:0')\n",
            "Length of the third sentence in batch: 11\n",
            "Converted back to string: i would like to see all flights from denver to philadelphia\n",
            "Size of sql batch: torch.Size([151, 16])\n",
            "Third SQL in batch: tensor([ 2, 14, 31, 11, 13, 12, 16,  6,  7, 22,  6,  8, 23,  6,  7, 29,  6,  8,\n",
            "        30, 15, 21,  4, 18,  5, 19,  4, 17,  5, 20,  4, 55,  5, 24,  4, 25,  5,\n",
            "        26,  4, 27,  5, 28,  4, 63,  3,  1,  1,  1,  1,  1,  1,  1,  1,  1,  1,\n",
            "         1,  1,  1,  1,  1,  1,  1,  1,  1,  1,  1,  1,  1,  1,  1,  1,  1,  1,\n",
            "         1,  1,  1,  1,  1,  1,  1,  1,  1,  1,  1,  1,  1,  1,  1,  1,  1,  1,\n",
            "         1,  1,  1,  1,  1,  1,  1,  1,  1,  1,  1,  1,  1,  1,  1,  1,  1,  1,\n",
            "         1,  1,  1,  1,  1,  1,  1,  1,  1,  1,  1,  1,  1,  1,  1,  1,  1,  1,\n",
            "         1,  1,  1,  1,  1,  1,  1,  1,  1,  1,  1,  1,  1,  1,  1,  1,  1,  1,\n",
            "         1,  1,  1,  1,  1,  1,  1], device='cuda:0')\n",
            "Converted back to string: <bos> SELECT DISTINCT flight_1.flight_id FROM flight flight_1 , airport_service airport_service_1 , city city_1 , airport_service airport_service_2 , city city_2 WHERE flight_1.from_airport = airport_service_1.airport_code AND airport_service_1.city_code = city_1.city_code AND city_1.city_name = 'DENVER' AND flight_1.to_airport = airport_service_2.airport_code AND airport_service_2.city_code = city_2.city_code AND city_2.city_name = 'PHILADELPHIA' <eos> <pad> <pad> <pad> <pad> <pad> <pad> <pad> <pad> <pad> <pad> <pad> <pad> <pad> <pad> <pad> <pad> <pad> <pad> <pad> <pad> <pad> <pad> <pad> <pad> <pad> <pad> <pad> <pad> <pad> <pad> <pad> <pad> <pad> <pad> <pad> <pad> <pad> <pad> <pad> <pad> <pad> <pad> <pad> <pad> <pad> <pad> <pad> <pad> <pad> <pad> <pad> <pad> <pad> <pad> <pad> <pad> <pad> <pad> <pad> <pad> <pad> <pad> <pad> <pad> <pad> <pad> <pad> <pad> <pad> <pad> <pad> <pad> <pad> <pad> <pad> <pad> <pad> <pad> <pad> <pad> <pad> <pad> <pad> <pad> <pad> <pad> <pad> <pad> <pad> <pad> <pad> <pad> <pad> <pad> <pad> <pad> <pad> <pad> <pad> <pad> <pad> <pad> <pad> <pad> <pad> <pad> <pad>\n"
          ]
        }
      ]
    },
    {
      "cell_type": "markdown",
      "metadata": {
        "id": "a812adb8"
      },
      "source": [
        "Alternatively, we can directly iterate over the raw examples:"
      ],
      "id": "a812adb8"
    },
    {
      "cell_type": "code",
      "metadata": {
        "id": "64495414",
        "colab": {
          "base_uri": "https://localhost:8080/",
          "height": 0
        },
        "outputId": "1daf994b-a935-4d57-98d0-5076aaa34dbf"
      },
      "source": [
        "for example in train_iter.dataset[:1]:\n",
        "  train_text_1 = ' '.join(example.src) # detokenized question\n",
        "  train_sql_1 = ' '.join(example.tgt)  # detokenized sql\n",
        "  print (f\"Question: {train_text_1}\\n\")\n",
        "  print (f\"SQL: {train_sql_1}\")"
      ],
      "id": "64495414",
      "execution_count": 33,
      "outputs": [
        {
          "output_type": "stream",
          "name": "stdout",
          "text": [
            "Question: list all the flights that arrive at general mitchell international from various cities\n",
            "\n",
            "SQL: SELECT DISTINCT flight_1.flight_id FROM flight flight_1 , airport airport_1 , airport_service airport_service_1 , city city_1 WHERE flight_1.to_airport = airport_1.airport_code AND airport_1.airport_code = 'MKE' AND flight_1.from_airport = airport_service_1.airport_code AND airport_service_1.city_code = city_1.city_code AND 1 = 1\n"
          ]
        }
      ]
    },
    {
      "cell_type": "markdown",
      "metadata": {
        "id": "4304e4b2"
      },
      "source": [
        "## Establishing a SQL database for evaluating ATIS queries\n",
        "\n",
        "The output of our systems will be SQL queries. How should we determine if the generated queries are correct? We can't merely compare against the gold SQL queries, since there are many ways to implement a SQL query that answers any given NL query.\n",
        "\n",
        "Instead, we will execute the queries – both the predicted SQL query and the gold SQL query – on an actual database, and verify that the returned responses are the same. For that purpose, we need a SQL database server to use. We'll set one up here, using the [Python `sqlite3` module](https://docs.python.org/3.8/library/sqlite3.html)."
      ],
      "id": "4304e4b2"
    },
    {
      "cell_type": "code",
      "metadata": {
        "id": "75ac7687"
      },
      "source": [
        "@func_set_timeout(TIMEOUT)\n",
        "def execute_sql(sql):\n",
        "  conn = sqlite3.connect('data/atis_sqlite.db')  # establish the DB based on the downloaded data\n",
        "  c = conn.cursor()                              # build a \"cursor\"\n",
        "  c.execute(sql)\n",
        "  results = list(c.fetchall())\n",
        "  c.close()\n",
        "  conn.close()\n",
        "  return results"
      ],
      "id": "75ac7687",
      "execution_count": 34,
      "outputs": []
    },
    {
      "cell_type": "markdown",
      "metadata": {
        "id": "07ab6919"
      },
      "source": [
        "To run a query, we use the cursor's `execute` function, and retrieve the results with `fetchall`. Let's get all the flights that arrive at General Mitchell International – the query `train_sql_1` above. There's a lot, so we'll just print out the first few."
      ],
      "id": "07ab6919"
    },
    {
      "cell_type": "code",
      "metadata": {
        "id": "e3eceac8",
        "colab": {
          "base_uri": "https://localhost:8080/",
          "height": 0
        },
        "outputId": "c6d16006-762f-46e1-c185-dbd376f47161"
      },
      "source": [
        "predicted_ret = execute_sql(train_sql_1)\n",
        "\n",
        "print(f\"\"\"\n",
        "Executing: {train_sql_1}\n",
        "\n",
        "Result: {len(predicted_ret)} entries starting with\n",
        "\n",
        "{predicted_ret[:10]}\n",
        "\"\"\")"
      ],
      "id": "e3eceac8",
      "execution_count": 35,
      "outputs": [
        {
          "output_type": "stream",
          "name": "stdout",
          "text": [
            "\n",
            "Executing: SELECT DISTINCT flight_1.flight_id FROM flight flight_1 , airport airport_1 , airport_service airport_service_1 , city city_1 WHERE flight_1.to_airport = airport_1.airport_code AND airport_1.airport_code = 'MKE' AND flight_1.from_airport = airport_service_1.airport_code AND airport_service_1.city_code = city_1.city_code AND 1 = 1\n",
            "\n",
            "Result: 534 entries starting with\n",
            "\n",
            "[(107929,), (107930,), (107931,), (107932,), (107933,), (107934,), (107935,), (107936,), (107937,), (107938,)]\n",
            "\n"
          ]
        }
      ]
    },
    {
      "cell_type": "markdown",
      "metadata": {
        "id": "f041c21c"
      },
      "source": [
        "For your reference, the SQL database we are using has a database schema described at https://github.com/jkkummerfeld/text2sql-data/blob/master/data/atis-schema.csv, and is consistent with the SQL queries provided in the various `.sql` files loaded above."
      ],
      "id": "f041c21c"
    },
    {
      "cell_type": "markdown",
      "metadata": {
        "deletable": false,
        "editable": false,
        "id": "d5421d47"
      },
      "source": [
        "# Rule-based parsing and interpretation of ATIS queries\n",
        "\n",
        "First, you will implement a rule-based semantic parser using a grammar like the one you completed in the third project segment. We've placed an initial grammar in the file `data/grammar`.\n",
        "In addition to the helper functions defined above (`constant`, `first`, etc.), it makes use of some other simple functions. We've included those below, but you can (and almost certainly should) augment this set with others that you define as you build out the full set of augmentations.\n",
        "\n",
        "<!--\n",
        "BEGIN QUESTION\n",
        "name: helper_functions\n",
        "-->"
      ],
      "id": "d5421d47"
    },
    {
      "cell_type": "code",
      "metadata": {
        "id": "bbdbcf42"
      },
      "source": [
        "def upper(term):\n",
        "  return '\"' + term.upper() + '\"'\n",
        "\n",
        "def weekday(day):\n",
        "  return f\"flight.flight_days IN (SELECT days.days_code FROM days WHERE days.day_name = '{day.upper()}')\"\n",
        "\n",
        "def month_name(month):\n",
        "  return {'JANUARY' : 1,\n",
        "          'FEBRUARY' : 2,\n",
        "          'MARCH' : 3,\n",
        "          'APRIL' : 4,\n",
        "          'MAY' : 5,\n",
        "          'JUNE' : 6,\n",
        "          'JULY' : 7,\n",
        "          'AUGUST' : 8,\n",
        "          'SEPTEMBER' : 9,\n",
        "          'OCTOBER' : 10,\n",
        "          'NOVEMBER' : 11,\n",
        "          'DECEMBER' : 12}[month.upper()]\n",
        "\n",
        "def airports_from_airport_name(airport_name):\n",
        "  return f\"(SELECT airport.airport_code FROM airport WHERE airport.airport_name = {upper(airport_name)})\"\n",
        "\n",
        "def airports_from_city(city):\n",
        "  return f\"\"\"\n",
        "    (SELECT airport_service.airport_code FROM airport_service WHERE airport_service.city_code IN\n",
        "      (SELECT city.city_code FROM city WHERE city.city_name = {upper(city)}))\n",
        "  \"\"\"\n",
        "\n",
        "def null_condition(*args, **kwargs):\n",
        "  return 1\n",
        "\n",
        "def depart_around(time):\n",
        "  return f\"\"\"\n",
        "    flight.departure_time >= {add_delta(miltime(time), -15).strftime('%H%M')}\n",
        "    AND flight.departure_time <= {add_delta(miltime(time), 15).strftime('%H%M')}\n",
        "    \"\"\".strip()\n",
        "\n",
        "def add_delta(tme, delta):\n",
        "    # transform to a full datetime first\n",
        "    return (datetime.datetime.combine(datetime.date.today(), tme) + \n",
        "            datetime.timedelta(minutes=delta)).time()\n",
        "\n",
        "def miltime(minutes):\n",
        "  return datetime.time(hour=int(minutes/100), minute=(minutes % 100))\n",
        "\n",
        "##additional functions\n",
        "def link(x, y):\n",
        "  return f\"\"\"\n",
        "    ({x} AND {y})\n",
        "  \"\"\"\n",
        "\n",
        "def destination(d):\n",
        "  return f\"\"\"\n",
        "    flight.to_airport IN {d}\n",
        "  \"\"\"\n",
        "\n",
        "def origin(o):\n",
        "  return f\"\"\"\n",
        "    flight.from_airport IN {o}\n",
        "  \"\"\"\n",
        "\n",
        "def query(q):\n",
        "  return f\"\"\"\n",
        "    SELECT DISTINCT flight.flight_id FROM flight WHERE {q}\n",
        "  \"\"\"\n",
        "\n",
        "def airline(a):\n",
        "  return f\"\"\"\n",
        "    flight.airline_code = '{a}'\n",
        "  \"\"\"\n",
        "\n",
        "def arrival_around(t):\n",
        "  return f\"\"\"\n",
        "    flight.arrival_time >= {add_delta(miltime(t), -15).strftime('%H%M')}\n",
        "    AND flight.arrival_time <= {add_delta(miltime(t), 15).strftime('%H%M')}\n",
        "    \"\"\".strip()\n",
        "\n",
        "def earlier_arrival(t):\n",
        "  return f\"\"\"\n",
        "    flight.arrival_time < {miltime(t).strftime('%H%M')}\n",
        "  \"\"\".strip()\n",
        "\n",
        "def later_arrival(t):\n",
        "  return f\"\"\"\n",
        "    flight.arrival_time > {miltime(t).strftime('%H%M')}\n",
        "  \"\"\".strip()\n",
        "\n",
        "def earlier_departure(t):\n",
        "  return f\"\"\"\n",
        "    flight.departure_time < {miltime(t).strftime('%H%M')}\n",
        "  \"\"\".strip()\n",
        "\n",
        "def later_departure(t):\n",
        "  return f\"\"\"\n",
        "    flight.departure_time > {miltime(t).strftime('%H%M')}\n",
        "  \"\"\".strip()"
      ],
      "id": "bbdbcf42",
      "execution_count": 81,
      "outputs": []
    },
    {
      "cell_type": "markdown",
      "metadata": {
        "id": "020194c9"
      },
      "source": [
        "We can build a parser with the augmented grammar:"
      ],
      "id": "020194c9"
    },
    {
      "cell_type": "code",
      "metadata": {
        "id": "1dea1eb4"
      },
      "source": [
        "atis_grammar, atis_augmentations = xform.read_augmented_grammar('data/grammar', globals=globals())\n",
        "atis_parser = nltk.parse.BottomUpChartParser(atis_grammar)"
      ],
      "id": "1dea1eb4",
      "execution_count": 82,
      "outputs": []
    },
    {
      "cell_type": "markdown",
      "metadata": {
        "id": "9b3a23a2"
      },
      "source": [
        "We'll define a function to return a parse tree for a string according to the ATIS grammar (if available)."
      ],
      "id": "9b3a23a2"
    },
    {
      "cell_type": "code",
      "metadata": {
        "id": "039b53a3"
      },
      "source": [
        "def parse_tree(sentence):\n",
        "  \"\"\"Parse a sentence and return the parse tree, or None if failure.\"\"\"\n",
        "  try:\n",
        "    parses = list(atis_parser.parse(tokenize(sentence)))\n",
        "    if len(parses) == 0:\n",
        "      return None\n",
        "    else:\n",
        "      return parses[0]\n",
        "  except:\n",
        "    return None"
      ],
      "id": "039b53a3",
      "execution_count": 83,
      "outputs": []
    },
    {
      "cell_type": "markdown",
      "metadata": {
        "id": "9bb03dbb"
      },
      "source": [
        "We can check the overall coverage of this grammar on the training set by using the `parse_tree` function to determine if a parse is available. The grammar that we provide should get about a 40% coverage of the training set."
      ],
      "id": "9bb03dbb"
    },
    {
      "cell_type": "code",
      "metadata": {
        "id": "a983d224",
        "colab": {
          "base_uri": "https://localhost:8080/",
          "height": 0
        },
        "outputId": "3ca27a65-f5b3-42ed-a44a-42dc0dc242db"
      },
      "source": [
        "# Check coverage on training set\n",
        "parsed = 0\n",
        "with open(\"data/train_flightid.nl\") as train:\n",
        "  examples = train.readlines()[:]\n",
        "for sentence in tqdm(examples):\n",
        "  if parse_tree(sentence):\n",
        "    parsed += 1\n",
        "  else:\n",
        "    next\n",
        "\n",
        "print(f\"\\nParsed {parsed} of {len(examples)} ({parsed*100/(len(examples)):.2f}%)\")"
      ],
      "id": "a983d224",
      "execution_count": 84,
      "outputs": [
        {
          "output_type": "stream",
          "name": "stderr",
          "text": [
            "100%|██████████| 3651/3651 [00:15<00:00, 235.13it/s]"
          ]
        },
        {
          "output_type": "stream",
          "name": "stdout",
          "text": [
            "\n",
            "Parsed 1609 of 3651 (44.07%)\n"
          ]
        },
        {
          "output_type": "stream",
          "name": "stderr",
          "text": [
            "\n"
          ]
        }
      ]
    },
    {
      "cell_type": "markdown",
      "metadata": {
        "id": "972c62f5"
      },
      "source": [
        "## Goal 1: Construct SQL queries from a parse tree and evaluate the results"
      ],
      "id": "972c62f5"
    },
    {
      "cell_type": "markdown",
      "metadata": {
        "id": "c3498567"
      },
      "source": [
        "It's time to turn to the first major part of this project segment, implementing a rule-based semantic parsing system to answer flight-ID-type ATIS queries.\n",
        "\n",
        "Recall that in rule-based semantic parsing, each syntactic rule is associated with a semantic composition rule. The grammar we've provided has semantic augmentations for some of the low-level phrases – cities, airports, times, airlines – but not the higher level syntactic types. You'll be adding those. \n",
        "\n",
        "In the ATIS grammar that we provide, as with the earlier toy grammars, the augmentation for a rule with $n$ nonterminals and $m$ terminals on the right-hand side is assumed to be called with $n$ positional arguments (the values for the corresponding children). The `interpret` function you've already defined should therefore work well with this grammar.\n",
        "\n",
        "Let's run through one way that a semantic derivation might proceed, for the sample query \"flights to boston\":"
      ],
      "id": "c3498567"
    },
    {
      "cell_type": "code",
      "metadata": {
        "id": "01a4123d",
        "colab": {
          "base_uri": "https://localhost:8080/",
          "height": 0
        },
        "outputId": "9545203a-b3a9-4c6e-db25-395ad9a37481"
      },
      "source": [
        "sample_query = \"flights to boston\"\n",
        "print(tokenize(sample_query))\n",
        "sample_tree = parse_tree(sample_query)\n",
        "sample_tree.pretty_print()"
      ],
      "id": "01a4123d",
      "execution_count": 85,
      "outputs": [
        {
          "output_type": "stream",
          "name": "stdout",
          "text": [
            "['flights', 'to', 'boston']\n",
            "                S                         \n",
            "                |                          \n",
            "            NP_FLIGHT                     \n",
            "                |                          \n",
            "            NOM_FLIGHT                    \n",
            "                |                          \n",
            "             N_FLIGHT                     \n",
            "      __________|_________                 \n",
            "     |                    PP              \n",
            "     |                    |                \n",
            "     |                 PP_PLACE           \n",
            "     |           _________|_________       \n",
            "  N_FLIGHT      |                N_PLACE  \n",
            "     |          |                   |      \n",
            "TERM_FLIGHT  P_PLACE            TERM_PLACE\n",
            "     |          |                   |      \n",
            "  flights       to                boston  \n",
            "\n"
          ]
        }
      ]
    },
    {
      "cell_type": "markdown",
      "metadata": {
        "id": "f014d95c"
      },
      "source": [
        "Given a sentence, we first construct its parse tree using the syntactic rules, then compose the corresponding semantic rules bottom-up, until eventually we arrive at the root node with a finished SQL statement. For this query, we will go through what the possible meaning representations for the subconstituents of \"flights to boston\" might be. But this is just one way of doing things; other ways are possible, and you should feel free to experiment.\n",
        "\n",
        "Working from bottom up:\n",
        "\n",
        "1. The `TERM_PLACE` phrase \"boston\" uses the composition function template `constant(airports_from_city(' '.join(_RHS)))`, which will be instantiated as `constant(airports_from_city(' '.join(['boston'])))` (recall that `_RHS` is replaced by the right-hand side of the rule). The meaning of `TERM_PLACE` will be the SQL snippet\n",
        "```\n",
        "SELECT airport_service.airport_code \n",
        "FROM airport_service \n",
        "WHERE airport_service.city_code IN\n",
        "    (SELECT city.city_code \n",
        "     FROM city \n",
        "     WHERE city.city_name = \"BOSTON\")\n",
        "```\n",
        "(This query generates a list of all of the airports in Boston.)\n",
        "\n",
        "2. The `N_PLACE` phrase \"boston\" can have the same meaning as the `TERM_PLACE`.\n",
        "\n",
        "3. The `P_PLACE` phrase \"to\" might be associated with a function that maps a SQL query for a list of airports to a SQL condition that holds of flights that go to one of those airports, i.e., `flight.to_airport IN (...)`.\n",
        "\n",
        "4. The `PP_PLACE` phrase \"to boston\" might apply the `P_PLACE` meaning to the `TERM_PLACE` meaning, thus generating a SQL condition that holds of flights that go to one of the Boston airports:\n",
        "```\n",
        "flight.to_airport IN\n",
        "    (SELECT airport_service.airport_code \n",
        "     FROM airport_service \n",
        "     WHERE airport_service.city_code IN\n",
        "         (SELECT city.city_code \n",
        "          FROM city \n",
        "          WHERE city.city_name = \"BOSTON\")\n",
        "```\n",
        "\n",
        "5. The `PP` phrase \"to Boston\" can again get its meaning from the `PP_PLACE`.\n",
        "\n",
        "6. The `TERM_FLIGHT` phrase \"flights\" might also return a condition on flights, this time the \"null condition\", represented by the SQL truth value `1`. Ditto for the `N_FLIGHT` phrase \"flights\".\n",
        "\n",
        "7. The `N_FLIGHT` phrase \"flights to boston\" can conjoin the two conditions, yielding the SQL condition\n",
        "```\n",
        "flight.to_airport IN\n",
        "    (SELECT airport_service.airport_code \n",
        "     FROM airport_service \n",
        "     WHERE airport_service.city_code IN\n",
        "         (SELECT city.city_code \n",
        "          FROM city \n",
        "          WHERE city.city_name = \"BOSTON\")\n",
        "AND 1\n",
        "```\n",
        "which can be inherited by the `NOM_FLIGHT` and `NP_FLIGHT` phrases.\n",
        "\n",
        "8. The `S` phrase \"flights to boston\" can use the condition provided by the `NP_FLIGHT` phrase to select all flights satisfying the condition with a SQL query like\n",
        "```\n",
        "SELECT DISTINCT flight.flight_id\n",
        "FROM flight\n",
        "WHERE flight.to_airport IN\n",
        "        (SELECT airport_service.airport_code \n",
        "         FROM airport_service \n",
        "         WHERE airport_service.city_code IN\n",
        "             (SELECT city.city_code \n",
        "              FROM city \n",
        "              WHERE city.city_name = \"BOSTON\")\n",
        "      AND 1\n",
        "```\n",
        "\n",
        "This SQL query is then taken to be a representation of the meaning for the NL query \"flights to boston\", and can be executed against the ATIS database to retrieve the requested flights."
      ],
      "id": "f014d95c"
    },
    {
      "cell_type": "markdown",
      "metadata": {
        "id": "c43a5b8e"
      },
      "source": [
        "Now, it's your turn to add augmentations to `data/grammar` to make this example work. The augmentations that we have provided for the grammar make use of a set of auxiliary functions that we defined above. You should feel free to add your own auxiliary functions that you make use of in the grammar."
      ],
      "id": "c43a5b8e"
    },
    {
      "cell_type": "code",
      "metadata": {
        "id": "9268fc7b",
        "colab": {
          "base_uri": "https://localhost:8080/",
          "height": 0
        },
        "outputId": "68f9129b-6692-410b-ab34-1a27251ded79"
      },
      "source": [
        "#TODO: add augmentations to `data/grammar` to make this example work\n",
        "atis_grammar, atis_augmentations = xform.read_augmented_grammar('data/grammar', globals=globals())\n",
        "atis_parser = nltk.parse.BottomUpChartParser(atis_grammar)\n",
        "predicted_sql = interpret(sample_tree, atis_augmentations)\n",
        "print(\"Predicted SQL:\\n\\n\", predicted_sql, \"\\n\")"
      ],
      "id": "9268fc7b",
      "execution_count": 86,
      "outputs": [
        {
          "output_type": "stream",
          "name": "stdout",
          "text": [
            "Predicted SQL:\n",
            "\n",
            " \n",
            "    SELECT DISTINCT flight.flight_id FROM flight WHERE \n",
            "    (\n",
            "    flight.to_airport IN \n",
            "    (SELECT airport_service.airport_code FROM airport_service WHERE airport_service.city_code IN\n",
            "      (SELECT city.city_code FROM city WHERE city.city_name = \"BOSTON\"))\n",
            "  \n",
            "   AND 1)\n",
            "  \n",
            "   \n",
            "\n"
          ]
        }
      ]
    },
    {
      "cell_type": "markdown",
      "metadata": {
        "id": "c5db041c"
      },
      "source": [
        "#### Verification on some examples\n",
        "\n",
        "With a rule-based semantic parsing system, we can generate SQL queries given questions, and then execute those queries on a SQL database to answer the given questions. To evaluate the performance of the system, we compare the returned results against the results of executing the ground truth queries.\n",
        "\n",
        "We provide a function `verify` to compare the results from our generated SQL to the ground truth SQL. It should be useful for testing individual queries."
      ],
      "id": "c5db041c"
    },
    {
      "cell_type": "code",
      "metadata": {
        "id": "b82cc713"
      },
      "source": [
        "def verify(predicted_sql, gold_sql, silent=True):\n",
        "  \"\"\"\n",
        "  Compare the correctness of the generated SQL by executing on the \n",
        "  ATIS database and comparing the returned results.\n",
        "  Arguments:\n",
        "      predicted_sql: the predicted SQL query\n",
        "      gold_sql: the reference SQL query to compare against\n",
        "      silent: print outputs or not\n",
        "  Returns: True if the returned results are the same, otherwise False\n",
        "  \"\"\"\n",
        "  # Execute predicted SQL\n",
        "  try:\n",
        "    predicted_result = execute_sql(predicted_sql)\n",
        "  except BaseException as e:\n",
        "    if not silent:\n",
        "      print(f\"predicted sql exec failed: {e}\")\n",
        "    return False\n",
        "  if not silent:\n",
        "    print(\"Predicted DB result:\\n\\n\", predicted_result[:10], \"\\n\")\n",
        "\n",
        "  # Execute gold SQL\n",
        "  try:\n",
        "    gold_result = execute_sql(gold_sql)\n",
        "  except BaseException as e:\n",
        "    if not silent:\n",
        "      print(f\"gold sql exec failed: {e}\")\n",
        "    return False\n",
        "  if not silent:\n",
        "    print(\"Gold DB result:\\n\\n\", gold_result[:10], \"\\n\")\n",
        "  \n",
        "  # Verify correctness\n",
        "  if gold_result == predicted_result:\n",
        "    return True"
      ],
      "id": "b82cc713",
      "execution_count": 87,
      "outputs": []
    },
    {
      "cell_type": "markdown",
      "metadata": {
        "id": "2fd6ac11"
      },
      "source": [
        "Let's try this methodology on a simple example: \"flights from phoenix to milwaukee\". we provide it along with the gold SQL query."
      ],
      "id": "2fd6ac11"
    },
    {
      "cell_type": "code",
      "metadata": {
        "id": "a78b05b9"
      },
      "source": [
        "def rule_based_trial(sentence, gold_sql):\n",
        "  print(\"Sentence: \", sentence, \"\\n\")\n",
        "  tree = parse_tree(sentence)\n",
        "  print(\"Parse:\\n\\n\")\n",
        "  tree.pretty_print()\n",
        "\n",
        "  predicted_sql = interpret(tree, atis_augmentations)\n",
        "  print(\"Predicted SQL:\\n\\n\", predicted_sql, \"\\n\")\n",
        "\n",
        "  if verify(predicted_sql, gold_sql, silent=False):\n",
        "    print ('Correct!')\n",
        "  else:\n",
        "    print ('Incorrect!')"
      ],
      "id": "a78b05b9",
      "execution_count": 88,
      "outputs": []
    },
    {
      "cell_type": "code",
      "metadata": {
        "id": "7664aebf"
      },
      "source": [
        "# Run this cell to reload augmentations after you make changes to `data/grammar`\n",
        "atis_grammar, atis_augmentations = xform.read_augmented_grammar('data/grammar', globals=globals())\n",
        "atis_parser = nltk.parse.BottomUpChartParser(atis_grammar)"
      ],
      "id": "7664aebf",
      "execution_count": 89,
      "outputs": []
    },
    {
      "cell_type": "code",
      "metadata": {
        "id": "253b1e15",
        "colab": {
          "base_uri": "https://localhost:8080/",
          "height": 0
        },
        "outputId": "f5d417f5-d85a-4a95-b4b6-164507ff4074"
      },
      "source": [
        "#TODO: add augmentations to `data/grammar` to make this example work\n",
        "# Example 1\n",
        "example_1 = 'flights from phoenix to milwaukee'\n",
        "gold_sql_1 = \"\"\"\n",
        "  SELECT DISTINCT flight_1.flight_id \n",
        "  FROM flight flight_1 , \n",
        "       airport_service airport_service_1 , \n",
        "       city city_1 , \n",
        "       airport_service airport_service_2 , \n",
        "       city city_2 \n",
        "  WHERE flight_1.from_airport = airport_service_1.airport_code \n",
        "        AND airport_service_1.city_code = city_1.city_code \n",
        "        AND city_1.city_name = 'PHOENIX' \n",
        "        AND flight_1.to_airport = airport_service_2.airport_code \n",
        "        AND airport_service_2.city_code = city_2.city_code \n",
        "        AND city_2.city_name = 'MILWAUKEE'\n",
        "  \"\"\"\n",
        "\n",
        "rule_based_trial(example_1, gold_sql_1)"
      ],
      "id": "253b1e15",
      "execution_count": 90,
      "outputs": [
        {
          "output_type": "stream",
          "name": "stdout",
          "text": [
            "Sentence:  flights from phoenix to milwaukee \n",
            "\n",
            "Parse:\n",
            "\n",
            "\n",
            "                                  S                                 \n",
            "                                  |                                  \n",
            "                              NP_FLIGHT                             \n",
            "                                  |                                  \n",
            "                              NOM_FLIGHT                            \n",
            "                                  |                                  \n",
            "                               N_FLIGHT                             \n",
            "                __________________|_________________                 \n",
            "            N_FLIGHT                                |               \n",
            "      _________|________                            |                \n",
            "     |                  PP                          PP              \n",
            "     |                  |                           |                \n",
            "     |               PP_PLACE                    PP_PLACE           \n",
            "     |          ________|_________           _______|_________       \n",
            "  N_FLIGHT     |               N_PLACE      |              N_PLACE  \n",
            "     |         |                  |         |                 |      \n",
            "TERM_FLIGHT P_PLACE           TERM_PLACE P_PLACE          TERM_PLACE\n",
            "     |         |                  |         |                 |      \n",
            "  flights     from             phoenix      to            milwaukee \n",
            "\n",
            "Predicted SQL:\n",
            "\n",
            " \n",
            "    SELECT DISTINCT flight.flight_id FROM flight WHERE \n",
            "    (\n",
            "    flight.to_airport IN \n",
            "    (SELECT airport_service.airport_code FROM airport_service WHERE airport_service.city_code IN\n",
            "      (SELECT city.city_code FROM city WHERE city.city_name = \"MILWAUKEE\"))\n",
            "  \n",
            "   AND \n",
            "    (\n",
            "    flight.from_airport IN \n",
            "    (SELECT airport_service.airport_code FROM airport_service WHERE airport_service.city_code IN\n",
            "      (SELECT city.city_code FROM city WHERE city.city_name = \"PHOENIX\"))\n",
            "  \n",
            "   AND 1)\n",
            "  )\n",
            "  \n",
            "   \n",
            "\n",
            "Predicted DB result:\n",
            "\n",
            " [(108086,), (108087,), (301763,), (301764,), (301765,), (301766,), (302323,), (304881,), (310619,), (310620,)] \n",
            "\n",
            "Gold DB result:\n",
            "\n",
            " [(108086,), (108087,), (301763,), (301764,), (301765,), (301766,), (302323,), (304881,), (310619,), (310620,)] \n",
            "\n",
            "Correct!\n"
          ]
        }
      ]
    },
    {
      "cell_type": "markdown",
      "metadata": {
        "id": "ef9abdb5"
      },
      "source": [
        "To make development faster, we recommend starting with a few examples before running the full evaluation script. We've taken some examples from the ATIS dataset including the gold SQL queries that they provided. Of course, yours (and those of the project segment solution set) may differ."
      ],
      "id": "ef9abdb5"
    },
    {
      "cell_type": "code",
      "metadata": {
        "id": "ca05a9e5",
        "colab": {
          "base_uri": "https://localhost:8080/",
          "height": 0
        },
        "outputId": "ec328f79-d4e8-4d5a-b0e5-3fa045ca07fb"
      },
      "source": [
        "#TODO: add augmentations to `data/grammar` to make this example work\n",
        "# Example 2\n",
        "example_2 = 'i would like a united flight'\n",
        "gold_sql_2 = \"\"\"\n",
        "  SELECT DISTINCT flight_1.flight_id\n",
        "  FROM flight flight_1 \n",
        "  WHERE flight_1.airline_code = 'UA'\n",
        "  \"\"\"\n",
        "\n",
        "rule_based_trial(example_2, gold_sql_2)"
      ],
      "id": "ca05a9e5",
      "execution_count": 91,
      "outputs": [
        {
          "output_type": "stream",
          "name": "stdout",
          "text": [
            "Sentence:  i would like a united flight \n",
            "\n",
            "Parse:\n",
            "\n",
            "\n",
            "                                                 S                                                                      \n",
            "                                     ____________|____________________________________________________                   \n",
            "                                    |                                                             NP_FLIGHT             \n",
            "                                    |                                                                 |                  \n",
            "                                PREIGNORE                                                         NOM_FLIGHT            \n",
            "        ____________________________|____________                                          ___________|___________       \n",
            "       |                                     PREIGNORE                                   ADJ                      |     \n",
            "       |                _________________________|____________                            |                       |      \n",
            "       |               |                                  PREIGNORE                  ADJ_AIRLINE              NOM_FLIGHT\n",
            "       |               |                          ____________|____________               |                       |      \n",
            "       |               |                         |                     PREIGNORE     TERM_AIRLINE              N_FLIGHT \n",
            "       |               |                         |                         |              |                       |      \n",
            "PREIGNORESYMBOL PREIGNORESYMBOL           PREIGNORESYMBOL           PREIGNORESYMBOL TERM_AIRBRAND            TERM_FLIGHT\n",
            "       |               |                         |                         |              |                       |      \n",
            "       i             would                      like                       a            united                  flight  \n",
            "\n",
            "Predicted SQL:\n",
            "\n",
            " \n",
            "    SELECT DISTINCT flight.flight_id FROM flight WHERE \n",
            "    (1 AND \n",
            "    flight.airline_code = 'UA'\n",
            "  )\n",
            "  \n",
            "   \n",
            "\n",
            "Predicted DB result:\n",
            "\n",
            " [(100094,), (100099,), (100145,), (100158,), (100164,), (100167,), (100169,), (100203,), (100204,), (100296,)] \n",
            "\n",
            "Gold DB result:\n",
            "\n",
            " [(100094,), (100099,), (100145,), (100158,), (100164,), (100167,), (100169,), (100203,), (100204,), (100296,)] \n",
            "\n",
            "Correct!\n"
          ]
        }
      ]
    },
    {
      "cell_type": "code",
      "metadata": {
        "id": "8fb14aeb",
        "colab": {
          "base_uri": "https://localhost:8080/",
          "height": 0
        },
        "outputId": "2dbbf760-942e-472d-9ce7-eb81c820bce3"
      },
      "source": [
        "#TODO: add augmentations to `data/grammar` to make this example work\n",
        "# Example 3\n",
        "example_3 = 'i would like a flight between boston and dallas'\n",
        "gold_sql_3 = \"\"\"\n",
        "  SELECT DISTINCT flight_1.flight_id \n",
        "  FROM flight flight_1 , \n",
        "       airport_service airport_service_1 , \n",
        "       city city_1 , \n",
        "       airport_service airport_service_2 , \n",
        "       city city_2 \n",
        "  WHERE flight_1.from_airport = airport_service_1.airport_code \n",
        "        AND airport_service_1.city_code = city_1.city_code \n",
        "        AND city_1.city_name = 'BOSTON' \n",
        "        AND flight_1.to_airport = airport_service_2.airport_code \n",
        "        AND airport_service_2.city_code = city_2.city_code \n",
        "        AND city_2.city_name = 'DALLAS'\n",
        "  \"\"\"\n",
        "\n",
        "# Note that the parse tree might appear wrong: instead of\n",
        "# `PP_PLACE -> 'between' N_PLACE 'and' N_PLACE`, the tree appears to be\n",
        "# `PP_PLACE -> 'between' 'and' N_PLACE N_PLACE`. But it's only a visualization\n",
        "# error of tree.pretty_print() and you should assume that the production is\n",
        "# `PP_PLACE -> 'between' N_PLACE 'and' N_PLACE` (you can verify by printing out\n",
        "# all productions).\n",
        "rule_based_trial(example_3, gold_sql_3)"
      ],
      "id": "8fb14aeb",
      "execution_count": 92,
      "outputs": [
        {
          "output_type": "stream",
          "name": "stdout",
          "text": [
            "Sentence:  i would like a flight between boston and dallas \n",
            "\n",
            "Parse:\n",
            "\n",
            "\n",
            "                                                                                         S                                               \n",
            "                                     ____________________________________________________|__________                                      \n",
            "                                    |                                                           NP_FLIGHT                                \n",
            "                                    |                                                               |                                     \n",
            "                                    |                                                           NOM_FLIGHT                               \n",
            "                                    |                                                               |                                     \n",
            "                                PREIGNORE                                                        N_FLIGHT                                \n",
            "        ____________________________|____________                                         __________|_________                            \n",
            "       |                                     PREIGNORE                                   |                    PP                         \n",
            "       |                _________________________|____________                           |                    |                           \n",
            "       |               |                                  PREIGNORE                      |                 PP_PLACE                      \n",
            "       |               |                          ____________|____________              |           _________|____________________       \n",
            "       |               |                         |                     PREIGNORE      N_FLIGHT      |         |      N_PLACE    N_PLACE  \n",
            "       |               |                         |                         |             |          |         |         |          |      \n",
            "PREIGNORESYMBOL PREIGNORESYMBOL           PREIGNORESYMBOL           PREIGNORESYMBOL TERM_FLIGHT     |         |     TERM_PLACE TERM_PLACE\n",
            "       |               |                         |                         |             |          |         |         |          |      \n",
            "       i             would                      like                       a           flight    between     and      boston     dallas  \n",
            "\n",
            "Predicted SQL:\n",
            "\n",
            " \n",
            "    SELECT DISTINCT flight.flight_id FROM flight WHERE \n",
            "    (\n",
            "    (\n",
            "    flight.from_airport IN \n",
            "    (SELECT airport_service.airport_code FROM airport_service WHERE airport_service.city_code IN\n",
            "      (SELECT city.city_code FROM city WHERE city.city_name = \"BOSTON\"))\n",
            "  \n",
            "   AND \n",
            "    flight.to_airport IN \n",
            "    (SELECT airport_service.airport_code FROM airport_service WHERE airport_service.city_code IN\n",
            "      (SELECT city.city_code FROM city WHERE city.city_name = \"DALLAS\"))\n",
            "  \n",
            "  )\n",
            "   AND 1)\n",
            "  \n",
            "   \n",
            "\n",
            "Predicted DB result:\n",
            "\n",
            " [(103171,), (103172,), (103173,), (103174,), (103175,), (103176,), (103177,), (103178,), (103179,), (103180,)] \n",
            "\n",
            "Gold DB result:\n",
            "\n",
            " [(103171,), (103172,), (103173,), (103174,), (103175,), (103176,), (103177,), (103178,), (103179,), (103180,)] \n",
            "\n",
            "Correct!\n"
          ]
        }
      ]
    },
    {
      "cell_type": "code",
      "metadata": {
        "id": "ad94ef6b",
        "colab": {
          "base_uri": "https://localhost:8080/",
          "height": 0
        },
        "outputId": "4e0d543a-d44e-4d54-ff0b-099b10f3fdb7"
      },
      "source": [
        "#TODO: add augmentations to `data/grammar` to make this example work\n",
        "# Example 4\n",
        "example_4 = 'show me the united flights from denver to baltimore'\n",
        "gold_sql_4 = \"\"\"\n",
        "  SELECT DISTINCT flight_1.flight_id \n",
        "  FROM flight flight_1 , \n",
        "       airport_service airport_service_1 , \n",
        "       city city_1 , \n",
        "       airport_service airport_service_2 , \n",
        "       city city_2 \n",
        "  WHERE flight_1.airline_code = 'UA' \n",
        "        AND ( flight_1.from_airport = airport_service_1.airport_code \n",
        "              AND airport_service_1.city_code = city_1.city_code \n",
        "              AND city_1.city_name = 'DENVER' \n",
        "              AND flight_1.to_airport = airport_service_2.airport_code \n",
        "              AND airport_service_2.city_code = city_2.city_code \n",
        "              AND city_2.city_name = 'BALTIMORE' )\n",
        "\n",
        "  \"\"\"\n",
        "\n",
        "rule_based_trial(example_4, gold_sql_4)"
      ],
      "id": "ad94ef6b",
      "execution_count": 93,
      "outputs": [
        {
          "output_type": "stream",
          "name": "stdout",
          "text": [
            "Sentence:  show me the united flights from denver to baltimore \n",
            "\n",
            "Parse:\n",
            "\n",
            "\n",
            "                                                                             S                                                                \n",
            "                        _____________________________________________________|__________                                                       \n",
            "                       |                                                            NP_FLIGHT                                                 \n",
            "                       |                                                                |                                                      \n",
            "                       |                                                            NOM_FLIGHT                                                \n",
            "                       |                                         _______________________|___________________                                   \n",
            "                       |                                        |                                       NOM_FLIGHT                            \n",
            "                       |                                        |                                           |                                  \n",
            "                       |                                        |                                        N_FLIGHT                             \n",
            "                       |                                        |                        ___________________|_________________                 \n",
            "                       |                                        |                    N_FLIGHT                                 |               \n",
            "                       |                                        |             __________|_________                            |                \n",
            "                   PREIGNORE                                   ADJ           |                    PP                          PP              \n",
            "        _______________|____________                            |            |                    |                           |                \n",
            "       |                        PREIGNORE                  ADJ_AIRLINE       |                 PP_PLACE                    PP_PLACE           \n",
            "       |                ____________|____________               |            |           _________|_________           _______|_________       \n",
            "       |               |                     PREIGNORE     TERM_AIRLINE   N_FLIGHT      |                N_PLACE      |              N_PLACE  \n",
            "       |               |                         |              |            |          |                   |         |                 |      \n",
            "PREIGNORESYMBOL PREIGNORESYMBOL           PREIGNORESYMBOL TERM_AIRBRAND TERM_FLIGHT  P_PLACE            TERM_PLACE P_PLACE          TERM_PLACE\n",
            "       |               |                         |              |            |          |                   |         |                 |      \n",
            "      show             me                       the           united      flights      from               denver      to            baltimore \n",
            "\n",
            "Predicted SQL:\n",
            "\n",
            " \n",
            "    SELECT DISTINCT flight.flight_id FROM flight WHERE \n",
            "    (\n",
            "    (\n",
            "    flight.to_airport IN \n",
            "    (SELECT airport_service.airport_code FROM airport_service WHERE airport_service.city_code IN\n",
            "      (SELECT city.city_code FROM city WHERE city.city_name = \"BALTIMORE\"))\n",
            "  \n",
            "   AND \n",
            "    (\n",
            "    flight.from_airport IN \n",
            "    (SELECT airport_service.airport_code FROM airport_service WHERE airport_service.city_code IN\n",
            "      (SELECT city.city_code FROM city WHERE city.city_name = \"DENVER\"))\n",
            "  \n",
            "   AND 1)\n",
            "  )\n",
            "   AND \n",
            "    flight.airline_code = 'UA'\n",
            "  )\n",
            "  \n",
            "   \n",
            "\n",
            "Predicted DB result:\n",
            "\n",
            " [(101231,), (101233,), (305983,)] \n",
            "\n",
            "Gold DB result:\n",
            "\n",
            " [(101231,), (101233,), (305983,)] \n",
            "\n",
            "Correct!\n"
          ]
        }
      ]
    },
    {
      "cell_type": "code",
      "metadata": {
        "id": "bbad5c41",
        "colab": {
          "base_uri": "https://localhost:8080/",
          "height": 0
        },
        "outputId": "dafea694-8bc4-4987-9508-ec958812b9f1"
      },
      "source": [
        "#TODO: add augmentations to `data/grammar` to make this example work\n",
        "# Example 5\n",
        "example_5 = 'show flights from cleveland to miami that arrive before 4pm'\n",
        "gold_sql_5 = \"\"\"\n",
        "  SELECT DISTINCT flight_1.flight_id \n",
        "  FROM flight flight_1 , \n",
        "       airport_service airport_service_1 , \n",
        "       city city_1 , \n",
        "       airport_service airport_service_2 , \n",
        "       city city_2 \n",
        "  WHERE flight_1.from_airport = airport_service_1.airport_code \n",
        "        AND airport_service_1.city_code = city_1.city_code \n",
        "        AND city_1.city_name = 'CLEVELAND' \n",
        "        AND ( flight_1.to_airport = airport_service_2.airport_code \n",
        "              AND airport_service_2.city_code = city_2.city_code \n",
        "              AND city_2.city_name = 'MIAMI' \n",
        "              AND flight_1.arrival_time < 1600 )\n",
        "  \"\"\"\n",
        "\n",
        "rule_based_trial(example_5, gold_sql_5)"
      ],
      "id": "bbad5c41",
      "execution_count": 94,
      "outputs": [
        {
          "output_type": "stream",
          "name": "stdout",
          "text": [
            "Sentence:  show flights from cleveland to miami that arrive before 4pm \n",
            "\n",
            "Parse:\n",
            "\n",
            "\n",
            "                               S                                                                                                         \n",
            "        _______________________|______________________________________________                                                            \n",
            "       |                                                                  NP_FLIGHT                                                      \n",
            "       |                                                                      |                                                           \n",
            "       |                                                                  NOM_FLIGHT                                                     \n",
            "       |                                                                      |                                                           \n",
            "       |                                                                   N_FLIGHT                                                      \n",
            "       |                                           ___________________________|_____________________                                      \n",
            "       |                                       N_FLIGHT                                             |                                    \n",
            "       |                        __________________|_________________                                |                                     \n",
            "       |                    N_FLIGHT                                |                               PP                                   \n",
            "       |              _________|________                            |                               |                                     \n",
            "       |             |                  PP                          PP                           PP_TIME                                 \n",
            "       |             |                  |                           |                        _______|__________________                   \n",
            "       |             |               PP_PLACE                    PP_PLACE                   |                       NP_TIME              \n",
            "       |             |          ________|_________           _______|_________              |                          |                  \n",
            "   PREIGNORE      N_FLIGHT     |               N_PLACE      |              N_PLACE          |                      TERM_TIME             \n",
            "       |             |         |                  |         |                 |             |                 _________|__________        \n",
            "PREIGNORESYMBOL TERM_FLIGHT P_PLACE           TERM_PLACE P_PLACE          TERM_PLACE      P_TIME         TERM_TIME           TERM_TIMEMOD\n",
            "       |             |         |                  |         |                 |        _____|_______         |                    |       \n",
            "      show        flights     from            cleveland     to              miami    that arrive  before     4                    pm     \n",
            "\n",
            "Predicted SQL:\n",
            "\n",
            " \n",
            "    SELECT DISTINCT flight.flight_id FROM flight WHERE \n",
            "    (flight.arrival_time < 1600 AND \n",
            "    (\n",
            "    flight.to_airport IN \n",
            "    (SELECT airport_service.airport_code FROM airport_service WHERE airport_service.city_code IN\n",
            "      (SELECT city.city_code FROM city WHERE city.city_name = \"MIAMI\"))\n",
            "  \n",
            "   AND \n",
            "    (\n",
            "    flight.from_airport IN \n",
            "    (SELECT airport_service.airport_code FROM airport_service WHERE airport_service.city_code IN\n",
            "      (SELECT city.city_code FROM city WHERE city.city_name = \"CLEVELAND\"))\n",
            "  \n",
            "   AND 1)\n",
            "  )\n",
            "  )\n",
            "  \n",
            "   \n",
            "\n",
            "Predicted DB result:\n",
            "\n",
            " [(107698,), (301117,)] \n",
            "\n",
            "Gold DB result:\n",
            "\n",
            " [(107698,), (301117,)] \n",
            "\n",
            "Correct!\n"
          ]
        }
      ]
    },
    {
      "cell_type": "code",
      "metadata": {
        "id": "6dcd33a2",
        "colab": {
          "base_uri": "https://localhost:8080/",
          "height": 0
        },
        "outputId": "77b4f480-21ee-4b65-f319-f77acdc46b63"
      },
      "source": [
        "#TODO: add augmentations to `data/grammar` to make this example work\n",
        "# Example 6\n",
        "example_6 = 'okay how about a flight on sunday from tampa to charlotte'\n",
        "gold_sql_6 = \"\"\"\n",
        "  SELECT DISTINCT flight_1.flight_id \n",
        "  FROM flight flight_1 , \n",
        "       airport_service airport_service_1 , \n",
        "       city city_1 , \n",
        "       airport_service airport_service_2 , \n",
        "       city city_2 , \n",
        "       days days_1 , \n",
        "       date_day date_day_1 \n",
        "  WHERE flight_1.from_airport = airport_service_1.airport_code \n",
        "        AND airport_service_1.city_code = city_1.city_code \n",
        "        AND city_1.city_name = 'TAMPA' \n",
        "        AND ( flight_1.to_airport = airport_service_2.airport_code \n",
        "              AND airport_service_2.city_code = city_2.city_code \n",
        "              AND city_2.city_name = 'CHARLOTTE' \n",
        "              AND flight_1.flight_days = days_1.days_code \n",
        "              AND days_1.day_name = date_day_1.day_name \n",
        "              AND date_day_1.year = 1991 \n",
        "              AND date_day_1.month_number = 8 \n",
        "              AND date_day_1.day_number = 27 )\n",
        "  \"\"\"\n",
        "\n",
        "# You might notice that the gold answer above used the exact date, which is\n",
        "# not easily implementable. A more implementable way (generated by the project \n",
        "# segment 4 solution code) is:\n",
        "gold_sql_6b = \"\"\"\n",
        "  SELECT DISTINCT flight.flight_id \n",
        "  FROM flight \n",
        "  WHERE ((((1 \n",
        "            AND flight.flight_days IN (SELECT days.days_code \n",
        "                                       FROM days \n",
        "                                       WHERE days.day_name = 'SUNDAY')\n",
        "            ) \n",
        "           AND flight.from_airport IN (SELECT airport_service.airport_code \n",
        "                                       FROM airport_service \n",
        "                                       WHERE airport_service.city_code IN (SELECT city.city_code \n",
        "                                                                           FROM city \n",
        "                                                                           WHERE city.city_name = \"TAMPA\"))) \n",
        "          AND flight.to_airport IN (SELECT airport_service.airport_code \n",
        "                                    FROM airport_service \n",
        "                                    WHERE airport_service.city_code IN (SELECT city.city_code \n",
        "                                                                        FROM city \n",
        "                                                                        WHERE city.city_name = \"CHARLOTTE\")))) \n",
        "  \"\"\"\n",
        "\n",
        "rule_based_trial(example_6, gold_sql_6b)"
      ],
      "id": "6dcd33a2",
      "execution_count": 95,
      "outputs": [
        {
          "output_type": "stream",
          "name": "stdout",
          "text": [
            "Sentence:  okay how about a flight on sunday from tampa to charlotte \n",
            "\n",
            "Parse:\n",
            "\n",
            "\n",
            "                                                                                                   S                                                                                    \n",
            "                                     ______________________________________________________________|______________________________                                                       \n",
            "                                    |                                                                                         NP_FLIGHT                                                 \n",
            "                                    |                                                                                             |                                                      \n",
            "                                    |                                                                                         NOM_FLIGHT                                                \n",
            "                                    |                                                                                             |                                                      \n",
            "                                    |                                                                                          N_FLIGHT                                                 \n",
            "                                    |                                                                                  ___________|_____________________________________                 \n",
            "                                    |                                                                              N_FLIGHT                                             |               \n",
            "                                    |                                                               __________________|_____________________                            |                \n",
            "                                PREIGNORE                                                       N_FLIGHT                                    |                           |               \n",
            "        ____________________________|____________                                         _________|________                                |                           |                \n",
            "       |                                     PREIGNORE                                   |                  PP                              PP                          PP              \n",
            "       |                _________________________|____________                           |                  |                               |                           |                \n",
            "       |               |                                  PREIGNORE                      |               PP_DATE                         PP_PLACE                    PP_PLACE           \n",
            "       |               |                          ____________|____________              |          ________|_________             _________|_________           _______|_________       \n",
            "       |               |                         |                     PREIGNORE      N_FLIGHT     |               NP_DATE        |                N_PLACE      |              N_PLACE  \n",
            "       |               |                         |                         |             |         |                  |           |                   |         |                 |      \n",
            "PREIGNORESYMBOL PREIGNORESYMBOL           PREIGNORESYMBOL           PREIGNORESYMBOL TERM_FLIGHT  P_DATE          TERM_WEEKDAY  P_PLACE            TERM_PLACE P_PLACE          TERM_PLACE\n",
            "       |               |                         |                         |             |         |                  |           |                   |         |                 |      \n",
            "      okay            how                      about                       a           flight      on               sunday       from               tampa       to            charlotte \n",
            "\n",
            "Predicted SQL:\n",
            "\n",
            " \n",
            "    SELECT DISTINCT flight.flight_id FROM flight WHERE \n",
            "    (\n",
            "    flight.to_airport IN \n",
            "    (SELECT airport_service.airport_code FROM airport_service WHERE airport_service.city_code IN\n",
            "      (SELECT city.city_code FROM city WHERE city.city_name = \"CHARLOTTE\"))\n",
            "  \n",
            "   AND \n",
            "    (\n",
            "    flight.from_airport IN \n",
            "    (SELECT airport_service.airport_code FROM airport_service WHERE airport_service.city_code IN\n",
            "      (SELECT city.city_code FROM city WHERE city.city_name = \"TAMPA\"))\n",
            "  \n",
            "   AND \n",
            "    (flight.flight_days IN (SELECT days.days_code FROM days WHERE days.day_name = 'SUNDAY') AND 1)\n",
            "  )\n",
            "  )\n",
            "  \n",
            "   \n",
            "\n",
            "Predicted DB result:\n",
            "\n",
            " [(101860,), (101861,), (101862,), (101863,), (101864,), (101865,), (305231,)] \n",
            "\n",
            "Gold DB result:\n",
            "\n",
            " [(101860,), (101861,), (101862,), (101863,), (101864,), (101865,), (305231,)] \n",
            "\n",
            "Correct!\n"
          ]
        }
      ]
    },
    {
      "cell_type": "code",
      "metadata": {
        "id": "3674a318",
        "colab": {
          "base_uri": "https://localhost:8080/",
          "height": 0
        },
        "outputId": "f32107e4-94cc-45ba-fe7f-ab399f555830"
      },
      "source": [
        "#TODO: add augmentations to `data/grammar` to make this example work\n",
        "# Example 7\n",
        "example_7 = 'list all flights going from boston to atlanta that leaves before 7 am on thursday'\n",
        "gold_sql_7 = \"\"\"\n",
        "  SELECT DISTINCT flight_1.flight_id \n",
        "  FROM flight flight_1 , \n",
        "       airport_service airport_service_1 , \n",
        "       city city_1 , \n",
        "       airport_service airport_service_2 , \n",
        "       city city_2 , \n",
        "       days days_1 , \n",
        "       date_day date_day_1 \n",
        "  WHERE flight_1.from_airport = airport_service_1.airport_code \n",
        "        AND airport_service_1.city_code = city_1.city_code \n",
        "        AND city_1.city_name = 'BOSTON' \n",
        "        AND ( flight_1.to_airport = airport_service_2.airport_code \n",
        "              AND airport_service_2.city_code = city_2.city_code \n",
        "              AND city_2.city_name = 'ATLANTA' \n",
        "              AND ( flight_1.flight_days = days_1.days_code \n",
        "                    AND days_1.day_name = date_day_1.day_name \n",
        "                    AND date_day_1.year = 1991 \n",
        "                    AND date_day_1.month_number = 5 \n",
        "                    AND date_day_1.day_number = 24 \n",
        "                    AND flight_1.departure_time < 700 ) )\n",
        "  \"\"\"\n",
        "\n",
        "# Again, the gold answer above used the exact date, as opposed to the \n",
        "# following approach:\n",
        "gold_sql_7b = \"\"\"\n",
        "  SELECT DISTINCT flight.flight_id \n",
        "  FROM flight \n",
        "  WHERE ((1 \n",
        "          AND ((((1 \n",
        "                  AND flight.from_airport IN (SELECT airport_service.airport_code \n",
        "                                              FROM airport_service \n",
        "                                              WHERE airport_service.city_code IN (SELECT city.city_code \n",
        "                                                                                  FROM city \n",
        "                                                                                  WHERE city.city_name = \"BOSTON\")))\n",
        "                 AND flight.to_airport IN (SELECT airport_service.airport_code \n",
        "                                           FROM airport_service\n",
        "                                           WHERE airport_service.city_code IN (SELECT city.city_code \n",
        "                                                                               FROM city \n",
        "                                                                               WHERE city.city_name = \"ATLANTA\"))) \n",
        "                AND flight.departure_time <= 0700) \n",
        "               AND flight.flight_days IN (SELECT days.days_code \n",
        "                                          FROM days \n",
        "                                          WHERE days.day_name = 'THURSDAY')))) \n",
        "  \"\"\"\n",
        "\n",
        "rule_based_trial(example_7, gold_sql_7b)"
      ],
      "id": "3674a318",
      "execution_count": 96,
      "outputs": [
        {
          "output_type": "stream",
          "name": "stdout",
          "text": [
            "Sentence:  list all flights going from boston to atlanta that leaves before 7 am on thursday \n",
            "\n",
            "Parse:\n",
            "\n",
            "\n",
            "                                  S                                                                                                                                                  \n",
            "        __________________________|_____________________________________________________                                                                                              \n",
            "       |                                                                            NP_FLIGHT                                                                                        \n",
            "       |          ______________________________________________________________________|__________                                                                                   \n",
            "       |         |                                                                             NOM_FLIGHT                                                                            \n",
            "       |         |                                                                                 |                                                                                  \n",
            "       |         |                                                                              N_FLIGHT                                                                             \n",
            "       |         |                                                                       __________|________________________________________________________________                  \n",
            "       |         |                                                                   N_FLIGHT                                                                       |                \n",
            "       |         |                                 _____________________________________|___________________________                                                |                 \n",
            "       |         |                             N_FLIGHT                                                             |                                               |                \n",
            "       |         |                        ________|___________________________                                      |                                               |                 \n",
            "       |         |                    N_FLIGHT                                |                                     PP                                              |                \n",
            "       |         |        _______________|________                            |                                     |                                               |                 \n",
            "       |         |       |                        PP                          PP                                 PP_TIME                                            PP               \n",
            "       |         |       |                        |                           |                              _______|__________________                             |                 \n",
            "       |         |       |                     PP_PLACE                    PP_PLACE                         |                       NP_TIME                      PP_DATE             \n",
            "       |         |       |                ________|_________           _______|_________                    |                          |                     _______|_________        \n",
            "   PREIGNORE     |    N_FLIGHT           |               N_PLACE      |              N_PLACE                |                      TERM_TIME                |              NP_DATE   \n",
            "       |         |       |               |                  |         |                 |                   |                 _________|__________          |                 |       \n",
            "PREIGNORESYMBOL DET TERM_FLIGHT       P_PLACE           TERM_PLACE P_PLACE          TERM_PLACE            P_TIME         TERM_TIME           TERM_TIMEMOD P_DATE         TERM_WEEKDAY\n",
            "       |         |       |         ______|________          |         |                 |           ________|_______         |                    |         |                 |       \n",
            "      list      all   flights   going            from     boston      to             atlanta      that    leaves  before     7                    am        on             thursday  \n",
            "\n",
            "Predicted SQL:\n",
            "\n",
            " \n",
            "    SELECT DISTINCT flight.flight_id FROM flight WHERE \n",
            "    (flight.flight_days IN (SELECT days.days_code FROM days WHERE days.day_name = 'THURSDAY') AND \n",
            "    (flight.departure_time < 0700 AND \n",
            "    (\n",
            "    flight.to_airport IN \n",
            "    (SELECT airport_service.airport_code FROM airport_service WHERE airport_service.city_code IN\n",
            "      (SELECT city.city_code FROM city WHERE city.city_name = \"ATLANTA\"))\n",
            "  \n",
            "   AND \n",
            "    (\n",
            "    flight.from_airport IN \n",
            "    (SELECT airport_service.airport_code FROM airport_service WHERE airport_service.city_code IN\n",
            "      (SELECT city.city_code FROM city WHERE city.city_name = \"BOSTON\"))\n",
            "  \n",
            "   AND 1)\n",
            "  )\n",
            "  )\n",
            "  )\n",
            "  \n",
            "   \n",
            "\n",
            "Predicted DB result:\n",
            "\n",
            " [(100014,)] \n",
            "\n",
            "Gold DB result:\n",
            "\n",
            " [(100014,)] \n",
            "\n",
            "Correct!\n"
          ]
        }
      ]
    },
    {
      "cell_type": "code",
      "metadata": {
        "id": "78be132d",
        "colab": {
          "base_uri": "https://localhost:8080/",
          "height": 0
        },
        "outputId": "e645a42a-e8f5-492a-ddd9-24aca3a5edf6"
      },
      "source": [
        "#TODO: add augmentations to `data/grammar` to make this example work\n",
        "# Example 8\n",
        "example_8 = 'list the flights from dallas to san francisco on american airlines'\n",
        "gold_sql_8 = \"\"\"\n",
        "  SELECT DISTINCT flight_1.flight_id \n",
        "  FROM flight flight_1 , \n",
        "       airport_service airport_service_1 , \n",
        "       city city_1 , \n",
        "       airport_service airport_service_2 , \n",
        "       city city_2 \n",
        "  WHERE flight_1.airline_code = 'AA' \n",
        "        AND ( flight_1.from_airport = airport_service_1.airport_code \n",
        "              AND airport_service_1.city_code = city_1.city_code \n",
        "              AND city_1.city_name = 'DALLAS' \n",
        "              AND flight_1.to_airport = airport_service_2.airport_code \n",
        "              AND airport_service_2.city_code = city_2.city_code \n",
        "              AND city_2.city_name = 'SAN FRANCISCO' )\n",
        "  \"\"\"\n",
        "\n",
        "rule_based_trial(example_8, gold_sql_8)"
      ],
      "id": "78be132d",
      "execution_count": 97,
      "outputs": [
        {
          "output_type": "stream",
          "name": "stdout",
          "text": [
            "Sentence:  list the flights from dallas to san francisco on american airlines \n",
            "\n",
            "Parse:\n",
            "\n",
            "\n",
            "                                                                                      S                                                                                         \n",
            "                     _________________________________________________________________|________                                                                                  \n",
            "                    |                                                                      NP_FLIGHT                                                                            \n",
            "                    |                                                                          |                                                                                 \n",
            "                    |                                                                      NOM_FLIGHT                                                                           \n",
            "                    |                                                                          |                                                                                 \n",
            "                    |                                                                       N_FLIGHT                                                                            \n",
            "                    |                                                        __________________|___________________________________________                                      \n",
            "                    |                                                    N_FLIGHT                                                          |                                    \n",
            "                    |                                     __________________|__________________                                            |                                     \n",
            "                    |                                 N_FLIGHT                                 |                                           |                                    \n",
            "                    |                           _________|________                             |                                           |                                     \n",
            "                    |                          |                  PP                           PP                                          PP                                   \n",
            "                    |                          |                  |                            |                                           |                                     \n",
            "                PREIGNORE                      |               PP_PLACE                     PP_PLACE                                   PP_AIRLINE                               \n",
            "        ____________|____________              |          ________|_________           ________|__________                      ___________|____________                         \n",
            "       |                     PREIGNORE      N_FLIGHT     |               N_PLACE      |                N_PLACE                 |                   TERM_AIRLINE                 \n",
            "       |                         |             |         |                  |         |                   |                    |            ____________|______________          \n",
            "PREIGNORESYMBOL           PREIGNORESYMBOL TERM_FLIGHT P_PLACE           TERM_PLACE P_PLACE            TERM_PLACE           P_AIRLINE TERM_AIRBRAND              TERM_AIRBRANDTYP\n",
            "       |                         |             |         |                  |         |                   |                    |           |                           E        \n",
            "       |                         |             |         |                  |         |         __________|__________          |           |                           |         \n",
            "      list                      the         flights     from              dallas      to      san                francisco     on       american                    airlines    \n",
            "\n",
            "Predicted SQL:\n",
            "\n",
            " \n",
            "    SELECT DISTINCT flight.flight_id FROM flight WHERE \n",
            "    (\n",
            "    flight.airline_code = 'AA'\n",
            "   AND \n",
            "    (\n",
            "    flight.to_airport IN \n",
            "    (SELECT airport_service.airport_code FROM airport_service WHERE airport_service.city_code IN\n",
            "      (SELECT city.city_code FROM city WHERE city.city_name = \"SAN FRANCISCO\"))\n",
            "  \n",
            "   AND \n",
            "    (\n",
            "    flight.from_airport IN \n",
            "    (SELECT airport_service.airport_code FROM airport_service WHERE airport_service.city_code IN\n",
            "      (SELECT city.city_code FROM city WHERE city.city_name = \"DALLAS\"))\n",
            "  \n",
            "   AND 1)\n",
            "  )\n",
            "  )\n",
            "  \n",
            "   \n",
            "\n",
            "Predicted DB result:\n",
            "\n",
            " [(108452,), (108454,), (108456,), (111083,), (111085,), (111086,), (111090,), (111091,), (111092,), (111094,)] \n",
            "\n",
            "Gold DB result:\n",
            "\n",
            " [(108452,), (108454,), (108456,), (111083,), (111085,), (111086,), (111090,), (111091,), (111092,), (111094,)] \n",
            "\n",
            "Correct!\n"
          ]
        }
      ]
    },
    {
      "cell_type": "markdown",
      "metadata": {
        "id": "765ba387"
      },
      "source": [
        "### Systematic evaluation on a test set\n",
        "\n",
        "We can perform a more systematic evaluation by checking the accuracy of the queries on an entire test set for which we have gold queries. The `evaluate` function below does just this, calculating precision, recall, and F1 metrics for the test set. It takes as argument a \"predictor\" function, which maps token sequences to predicted SQL queries. We've provided a predictor function for the rule-based model in the next cell (and a predictor for the seq2seq system below when we get to that system).\n",
        "\n",
        "The rule-based system does not generate predictions for all queries; many queries won't parse. The precision and recall metrics take this into account in measuring the efficacy of the method. The recall metric captures what proportion of _all of the test examples_ for which the system generates a correct query. The precision metric captures what proportion of _all of the test examples for which a prediction is generated_ for which the system generates a correct query. (Recall that F1 is just the geometric mean of precision and recall.)\n",
        "\n",
        "Once you've made some progress on adding augmentations to the grammar, you can evaluate your progress by seeing if the precision and recall have improved. For reference, the solution code achieves precision of about 71% and recall of about 27% for an F1 of 40%."
      ],
      "id": "765ba387"
    },
    {
      "cell_type": "code",
      "metadata": {
        "id": "57f27203"
      },
      "source": [
        "def evaluate(predictor, dataset, num_examples=0, silent=True):\n",
        "  \"\"\"Evaluate accuracy of `predictor` by executing predictions on a\n",
        "  SQL database and comparing returned results against those of gold queries.\n",
        "  \n",
        "  Arguments:\n",
        "      predictor:    a function that maps a token sequence (provided by torchtext)\n",
        "                    to a predicted SQL query string\n",
        "      dataset:      the dataset of token sequences and gold SQL queries\n",
        "      num_examples: number of examples from `dataset` to use; all of\n",
        "                    them if 0\n",
        "      silent: if set to False, will print out logs\n",
        "  Returns: precision, recall, and F1 score\n",
        "  \"\"\"\n",
        "  # Prepare to count results\n",
        "  if num_examples <= 0:\n",
        "    num_examples = len(dataset)\n",
        "  example_count = 0\n",
        "  predicted_count = 0\n",
        "  correct = 0\n",
        "  incorrect = 0\n",
        "\n",
        "  # Process the examples from the dataset\n",
        "  for example in tqdm(dataset[:num_examples]):\n",
        "    example_count += 1\n",
        "    # obtain query SQL\n",
        "    predicted_sql = predictor(example.src)\n",
        "    if predicted_sql == None:\n",
        "      continue\n",
        "    predicted_count += 1\n",
        "    # obtain gold SQL\n",
        "    gold_sql = ' '.join(example.tgt)\n",
        "\n",
        "    # check that they're compatible\n",
        "    if verify(predicted_sql, gold_sql):\n",
        "      correct += 1\n",
        "    else:\n",
        "      incorrect += 1\n",
        "   \n",
        "  # Compute and return precision, recall, F1\n",
        "  precision = correct / predicted_count if predicted_count > 0 else 0\n",
        "  recall = correct / example_count\n",
        "  f1 = (2 * precision * recall) / (precision + recall) if precision + recall > 0 else 0\n",
        "  return precision, recall, f1"
      ],
      "id": "57f27203",
      "execution_count": 98,
      "outputs": []
    },
    {
      "cell_type": "code",
      "metadata": {
        "id": "6079c6c8"
      },
      "source": [
        "def rule_based_predictor(tokens):\n",
        "  query = ' '.join(tokens)    # detokenized query\n",
        "  tree = parse_tree(query)\n",
        "  if tree is None:\n",
        "    return None\n",
        "  try:\n",
        "    predicted_sql = interpret(tree, atis_augmentations)\n",
        "  except Exception as err:\n",
        "    return None\n",
        "  return predicted_sql"
      ],
      "id": "6079c6c8",
      "execution_count": 99,
      "outputs": []
    },
    {
      "cell_type": "code",
      "metadata": {
        "id": "445a3a80",
        "colab": {
          "base_uri": "https://localhost:8080/",
          "height": 0
        },
        "outputId": "809d6d63-9536-4f69-f1f4-254a6da3efc4"
      },
      "source": [
        "precision, recall, f1 = evaluate(rule_based_predictor, test_iter.dataset, num_examples=0)\n",
        "print(f\"precision: {precision:3.2f}\")\n",
        "print(f\"recall:    {recall:3.2f}\")\n",
        "print(f\"F1:        {f1:3.2f}\")"
      ],
      "id": "445a3a80",
      "execution_count": 100,
      "outputs": [
        {
          "output_type": "stream",
          "name": "stderr",
          "text": [
            "100%|██████████| 332/332 [00:01<00:00, 184.92it/s]"
          ]
        },
        {
          "output_type": "stream",
          "name": "stdout",
          "text": [
            "precision: 0.67\n",
            "recall:    0.28\n",
            "F1:        0.39\n"
          ]
        },
        {
          "output_type": "stream",
          "name": "stderr",
          "text": [
            "\n"
          ]
        }
      ]
    },
    {
      "cell_type": "markdown",
      "metadata": {
        "id": "4c428316"
      },
      "source": [
        "# End-to-End Seq2Seq Model"
      ],
      "id": "4c428316"
    },
    {
      "cell_type": "markdown",
      "metadata": {
        "id": "a39536c3"
      },
      "source": [
        "In this part, you will implement a seq2seq model **with attention mechanism** to directly learn the translation from NL query to SQL. You might find labs 4-4 and 4-5 particularly helpful, as the primary difference here is that we are using a different dataset.\n",
        "\n",
        "**Note:** We recommend using GPUs to train the model in this part (one way to get GPUs is to use [Google Colab](https://colab.research.google.com) and clicking Menu -> Runtime -> Change runtime type -> GPU), as we need to use a very large model to solve the task well. For development we recommend starting with a smaller model and training for only 1 epoch."
      ],
      "id": "a39536c3"
    },
    {
      "cell_type": "markdown",
      "metadata": {
        "id": "9fbbe32d"
      },
      "source": [
        "## Goal 2: Implement a seq2seq model (with attention)"
      ],
      "id": "9fbbe32d"
    },
    {
      "cell_type": "markdown",
      "metadata": {
        "id": "6b2e2745"
      },
      "source": [
        "In lab 4-5, you implemented a neural encoder-decoder model with attention. That model was used to convert English number phrases to numbers, but one of the biggest advantages of neural models is that we can easily apply them to different tasks (such as machine translation and document summarization) by using different training datasets.\n",
        "\n",
        "<img src=\"https://github.com/nlp-course/data/raw/master/img/encoderdecoder_attn_1layer.png\" alt=\"encoder-decoder-attn illustration\" />\n",
        "\n",
        "Implement the class `AttnEncoderDecoder` to convert natural language queries into SQL statements. You may find that you can reuse most of the code you wrote for lab 4-5. A reasonable way to proceed is to implement the following methods:\n",
        "\n",
        "* **Model**\n",
        "\n",
        "    1. `__init__`: an initializer where you create network modules.\n",
        "\n",
        "    2. `forward`: given source word ids of size `(max_src_len, batch_size)`, source lengths of size `(batch_size)` and decoder input target word ids `(max_tgt_len, batch_size)`, returns logits `(max_tgt_len, batch_size, V_tgt)`. For better modularity you might want to implement it by implementing two functions `forward_encoder` and `forward_decoder`.\n",
        "\n",
        "* **Optimization**\n",
        "\n",
        "    3. `train_all`: compute loss on training data, compute gradients, and update model parameters to minimize the loss.\n",
        "\n",
        "    4. `evaluate_ppl`: evaluate the current model's perplexity on a given dataset iterator, we use the perplexity value on the validation set to select the best model.\n",
        "\n",
        "* **Decoding**\n",
        "\n",
        "    5. `predict`: Generates the target sequence given a list of source tokens using beam search decoding. Note that here you can assume the batch size to be 1 for simplicity. "
      ],
      "id": "6b2e2745"
    },
    {
      "cell_type": "code",
      "source": [
        "def attention(batched_Q, batched_K, batched_V, mask=None):\n",
        "    \"\"\"\n",
        "    Performs the attention operation and returns the attention matrix\n",
        "    `batched_A` and the context matrix `batched_C` using queries \n",
        "    `batched_Q`, keys `batched_K`, and values `batched_V`.\n",
        "\n",
        "    Arguments:\n",
        "      batched_Q: (q_len, bsz, D)\n",
        "      batched_K: (k_len, bsz, D)\n",
        "      batched_V: (k_len, bsz, D)\n",
        "      mask: (bsz, q_len, k_len). An optional boolean mask *disallowing* \n",
        "            attentions where the mask value is *`False`*.\n",
        "    Returns:\n",
        "      batched_A: the normalized attention scores (bsz, q_len, k_ken)\n",
        "      batched_C: a tensor of size (q_len, bsz, D).\n",
        "    \"\"\"\n",
        "    # Check sizes\n",
        "    D = batched_Q.size(-1)\n",
        "    bsz = batched_Q.size(1)\n",
        "    q_len = batched_Q.size(0)\n",
        "    k_len = batched_K.size(0)\n",
        "    assert batched_K.size(-1) == D and batched_V.size(-1) == D\n",
        "    assert batched_K.size(1) == bsz and batched_V.size(1) == bsz\n",
        "    assert batched_V.size(0) == k_len\n",
        "    \n",
        "    batched_Q = torch.transpose(batched_Q, 0, 1)\n",
        "    batched_K = torch.transpose(batched_K, 0, 1)\n",
        "    batched_V = torch.transpose(batched_V, 0, 1)\n",
        "    \n",
        "    temp_A = torch.bmm(batched_Q, torch.transpose(batched_K, 1, 2))\n",
        "    \n",
        "    if mask is not None:\n",
        "        assert mask.size() == torch.Size([bsz, q_len, k_len])\n",
        "        mask = ~mask\n",
        "        temp_A = torch.masked_fill(temp_A, mask, -float('inf'))\n",
        "        \n",
        "    batched_A = torch.softmax(temp_A, dim=-1)\n",
        "    batched_C = torch.transpose(torch.bmm(batched_A, batched_V), 0, 1)\n",
        "    # Verify that things sum up to one properly.\n",
        "    assert torch.all(torch.isclose(batched_A.sum(-1), torch.ones(bsz, q_len).to(device)))\n",
        "    return batched_A, batched_C\n",
        "\n",
        "class Beam():\n",
        "  \"\"\"\n",
        "  Helper class for storing a hypothesis, its score and its decoder hidden state.\n",
        "  \"\"\"\n",
        "  def __init__(self, decoder_state, tokens, score):\n",
        "    self.decoder_state = decoder_state\n",
        "    self.tokens = tokens\n",
        "    self.score = score\n",
        "        \n",
        "class BeamSearcher():\n",
        "  \"\"\"\n",
        "  Main class for beam search.\n",
        "  \"\"\"\n",
        "  def __init__(self, model):\n",
        "    self.model = model\n",
        "    self.bos_id = model.bos_id\n",
        "    self.eos_id = model.eos_id\n",
        "    self.padding_id_src = model.padding_id_src\n",
        "    self.V = model.V_tgt\n",
        "\n",
        "\n",
        "  def beam_search(self, src, src_lengths, K, max_T):\n",
        "    \"\"\"\n",
        "    Performs beam search decoding.\n",
        "    Arguments:\n",
        "        src: src batch of size (max_src_len, 1)\n",
        "        src_lengths: src lengths of size (1)\n",
        "        K: beam size\n",
        "        max_T: max possible target length considered\n",
        "    Returns:\n",
        "        a list of token ids and a list of attentions\n",
        "    \"\"\"\n",
        "    finished = []\n",
        "    all_attns = []\n",
        "    # Initialize the beam\n",
        "    self.model.eval()\n",
        "    #TODO - fill in `memory_bank`, `encoder_final_state`, and `init_beam` below\n",
        "    memory_bank, encoder_final_state = self.model.forward_encoder(src, src_lengths)\n",
        "    init_beam = Beam(decoder_state=encoder_final_state, tokens=[self.bos_id], score=0)\n",
        "    beams = [init_beam]\n",
        "    \n",
        "    with torch.no_grad():\n",
        "      for t in range(max_T): # main body of search over time steps\n",
        "        \n",
        "        # Expand each beam by all possible tokens y_{t+1}\n",
        "        all_total_scores = []\n",
        "        for beam in beams:\n",
        "          y_1_to_t, score, decoder_state = beam.tokens, beam.score, beam.decoder_state\n",
        "          y_t = y_1_to_t[-1]\n",
        "          #TODO - finish the code below\n",
        "          # Hint: you might want to use `model.forward_decoder_incrementally` with `normalize=True`\n",
        "          src_mask = src.ne(self.padding_id_src)\n",
        "          logits, decoder_state, attn = self.model.forward_decoder_incrementally(decoder_state, torch.tensor(y_t).unsqueeze(0).to(device), memory_bank, src_mask, normalize=True)\n",
        "          total_scores = logits + score\n",
        "          all_total_scores.append(total_scores)\n",
        "          all_attns.append(attn) # keep attentions for visualization\n",
        "          beam.decoder_state = decoder_state # update decoder state in the beam\n",
        "        all_total_scores = torch.stack(all_total_scores) # (K, V) when t>0, (1, V) when t=0\n",
        "\n",
        "        # Find K best next beams\n",
        "        # The code below has the same functionality as line 6-12, but is more efficient\n",
        "        all_scores_flattened = all_total_scores.view(-1) # K*V when t>0, 1*V when t=0\n",
        "        topk_scores, topk_ids = all_scores_flattened.topk(K, 0)\n",
        "        beam_ids = topk_ids.div(self.V, rounding_mode='floor')\n",
        "        next_tokens = topk_ids - beam_ids * self.V\n",
        "        new_beams = []\n",
        "        for k in range(K):\n",
        "          beam_id = beam_ids[k]       # which beam it comes from\n",
        "          y_t_plus_1 = next_tokens[k] # which y_{t+1}\n",
        "          score = topk_scores[k]\n",
        "          beam = beams[beam_id]\n",
        "          decoder_state = beam.decoder_state\n",
        "          y_1_to_t = beam.tokens\n",
        "          #TODO\n",
        "          new_beam = Beam(decoder_state=decoder_state, tokens=y_1_to_t + [y_t_plus_1.item()], score=score)\n",
        "          new_beams.append(new_beam)\n",
        "        beams = new_beams\n",
        "\n",
        "        # Set aside completed beams\n",
        "        # TODO - move completed beams to `finished` (and remove them from `beams`)\n",
        "        for beam in beams:\n",
        "            y_t_plus_1 = beam.tokens[-1]\n",
        "            if y_t_plus_1 == self.eos_id:\n",
        "                finished.append(beam)\n",
        "                beams.remove(beam)\n",
        "        \n",
        "        # Break the loop if everything is completed\n",
        "        if len(beams) == 0:\n",
        "            break\n",
        "            \n",
        "    # Return the best hypothesis\n",
        "    if len(finished) > 0:\n",
        "      finished = sorted(finished, key=lambda beam: -beam.score)\n",
        "      return finished[0].tokens, all_attns\n",
        "    else: # when nothing is finished, return an unfinished hypothesis\n",
        "      return beams[0].tokens, all_attns\n",
        "\n",
        "#TODO - implement the 'AttnEncoderDecoder' class.\n",
        "class AttnEncoderDecoder(nn.Module):\n",
        "  def __init__(self, src_field, tgt_field, hidden_size=64, layers=3):\n",
        "    \"\"\"\n",
        "    Initializer. Creates network modules and loss function.\n",
        "    Arguments:\n",
        "        src_field: src field\n",
        "        tgt_field: tgt field\n",
        "        hidden_size: hidden layer size of both encoder and decoder\n",
        "        layers: number of layers of both encoder and decoder\n",
        "    \"\"\"\n",
        "    super().__init__()\n",
        "    self.src_field = src_field\n",
        "    self.tgt_field = tgt_field\n",
        "    \n",
        "    # Keep the vocabulary sizes available\n",
        "    self.V_src = len(src_field.vocab.itos)\n",
        "    self.V_tgt = len(tgt_field.vocab.itos)\n",
        "    \n",
        "    # Get special word ids\n",
        "    self.padding_id_src = src_field.vocab.stoi[src_field.pad_token]\n",
        "    self.padding_id_tgt = tgt_field.vocab.stoi[tgt_field.pad_token]\n",
        "    self.bos_id = tgt_field.vocab.stoi[tgt_field.init_token]\n",
        "    self.eos_id = tgt_field.vocab.stoi[tgt_field.eos_token]\n",
        "\n",
        "    # Keep hyper-parameters available\n",
        "    self.embedding_size = hidden_size\n",
        "    self.hidden_size = hidden_size\n",
        "    self.layers = layers\n",
        "\n",
        "    # Create essential modules\n",
        "    self.word_embeddings_src = nn.Embedding(self.V_src, self.embedding_size)\n",
        "    self.word_embeddings_tgt = nn.Embedding(self.V_tgt, self.embedding_size)\n",
        "\n",
        "    # RNN cells\n",
        "    self.encoder_rnn = nn.LSTM(\n",
        "      input_size    = self.embedding_size,\n",
        "      hidden_size   = hidden_size // 2, # to match decoder hidden size\n",
        "      num_layers    = layers,\n",
        "      bidirectional = True              # bidirectional encoder\n",
        "    )\n",
        "    self.decoder_rnn = nn.LSTM(\n",
        "      input_size    = self.embedding_size,\n",
        "      hidden_size   = hidden_size,\n",
        "      num_layers    = layers,\n",
        "      bidirectional = False             # unidirectional decoder\n",
        "    )\n",
        "\n",
        "    # Final projection layer\n",
        "    self.hidden2output = nn.Linear(2*hidden_size, self.V_tgt) # project the concatenation to logits\n",
        "   \n",
        "    # Create loss function\n",
        "    self.loss_function = nn.CrossEntropyLoss(reduction='sum', \n",
        "                                             ignore_index=self.padding_id_tgt)\n",
        "  \n",
        "  def forward_encoder(self, src, src_lengths):\n",
        "    \"\"\"\n",
        "    Encodes source words `src`.\n",
        "    Arguments:\n",
        "        src: src batch of size (max_src_len, bsz)\n",
        "        src_lengths: src lengths of size (bsz)\n",
        "    Returns:\n",
        "        memory_bank: a tensor of size (src_len, bsz, hidden_size)\n",
        "        (final_state, context): `final_state` is a tuple (h, c) where h/c is of size \n",
        "                                (layers, bsz, hidden_size), and `context` is `None`. \n",
        "    \"\"\"\n",
        "    #TODO\n",
        "    max_length = src.shape[0]\n",
        "    batch_size = src.shape[1]\n",
        "    embedding = self.word_embeddings_src(src)\n",
        "    packed = pack(embedding, src_lengths.to('cpu'))\n",
        "\n",
        "    # initialize hidden states\n",
        "    h0 = torch.randn(2 * self.layers, batch_size, self.hidden_size // 2).to(device)\n",
        "    c0 = torch.randn(2 * self.layers, batch_size, self.hidden_size // 2).to(device)\n",
        "\n",
        "    # run encoder rnn\n",
        "    output, (h, c) = self.encoder_rnn(packed, (h0, c0))\n",
        "\n",
        "    # reshape hidden states\n",
        "    h_split = h.reshape(self.layers, 2, batch_size, self.hidden_size // 2)\n",
        "    c_split = c.reshape(self.layers, 2, batch_size, self.hidden_size // 2)\n",
        "    h_swap = h_split.transpose(1, 2)\n",
        "    c_swap = c_split.transpose(1, 2)\n",
        "    h_join = h_swap.reshape(self.layers, batch_size, self.hidden_size)\n",
        "    c_join = c_swap.reshape(self.layers, batch_size, self.hidden_size)\n",
        "        \n",
        "    memory_bank, _ = unpack(output)\n",
        "    final_state = (h_join, c_join)\n",
        "    context = None\n",
        "    return memory_bank, (final_state, context)\n",
        "\n",
        "  def forward_decoder_incrementally(self, prev_decoder_states, tgt_in_onestep, \n",
        "                                    memory_bank, src_mask,\n",
        "                                    normalize=True):\n",
        "    \"\"\"\n",
        "    Forward the decoder for a single step with token `tgt_in_onestep`.\n",
        "    This function will be used both in `forward_decoder` and in beam search.\n",
        "    Note that bsz can be greater than 1.\n",
        "    Arguments:\n",
        "        prev_decoder_states: a tuple (prev_decoder_state, prev_context). `prev_context`\n",
        "                             is `None` for the first step\n",
        "        tgt_in_onestep: a tensor of size (bsz), tokens at one step\n",
        "        memory_bank: a tensor of size (src_len, bsz, hidden_size), encoder outputs \n",
        "                     at every position\n",
        "        src_mask: a tensor of size (src_len, bsz): a boolean tensor, `False` where\n",
        "                  src is padding (we disallow decoder to attend to those places).\n",
        "        normalize: use log_softmax to normalize or not. Beam search needs to normalize,\n",
        "                   while `forward_decoder` does not\n",
        "    Returns:\n",
        "        logits: log probabilities for `tgt_in_token` of size (bsz, V_tgt)\n",
        "        decoder_states: (`decoder_state`, `context`) which will be used for the \n",
        "                        next incremental update\n",
        "        attn: normalized attention scores at this step (bsz, src_len)\n",
        "    \"\"\"\n",
        "    prev_decoder_state, prev_context = prev_decoder_states\n",
        "    #TODO\n",
        "    \n",
        "    # Compute word embeddings\n",
        "    tgt_embeddings = self.word_embeddings_tgt(\n",
        "        tgt_in_onestep\n",
        "    )\n",
        "    \n",
        "    if prev_context is not None:\n",
        "        decoder_inp = tgt_embeddings + prev_context\n",
        "    else:\n",
        "        decoder_inp = tgt_embeddings\n",
        "        decoder_inp = decoder_inp.unsqueeze(0)\n",
        "        \n",
        "    # Forward decoder RNN and return all hidden states\n",
        "    decoder_outs, decoder_state = self.decoder_rnn(decoder_inp, prev_decoder_state)\n",
        "    \n",
        "    src_mask = torch.transpose(src_mask, 0, 1).unsqueeze(1)\n",
        "    \n",
        "    attn, context = attention(decoder_outs, memory_bank, memory_bank, mask = src_mask)\n",
        "    \n",
        "    attn = attn.squeeze(1)\n",
        "    \n",
        "    concat_out = torch.cat((decoder_outs, context), dim=2) \n",
        "        \n",
        "    # Project to get logits\n",
        "    logits = self.hidden2output(concat_out).squeeze(0) #bsz, V_tgt\n",
        "    \n",
        "    decoder_states = (decoder_state, context)\n",
        "    if normalize:\n",
        "      logits = torch.log_softmax(logits, dim=-1)\n",
        "    return logits, decoder_states, attn\n",
        "  \n",
        "  def forward_decoder(self, encoder_final_state, tgt_in, memory_bank, src_mask):\n",
        "    \"\"\"\n",
        "    Decodes based on encoder final state, memory bank, src_mask, and ground truth \n",
        "    target words.\n",
        "    Arguments:\n",
        "        encoder_final_state: (final_state, None) where final_state is the encoder\n",
        "                             final state used to initialize decoder. None is the\n",
        "                             initial context (there's no previous context at the\n",
        "                             first step).\n",
        "        tgt_in: a tensor of size (tgt_len, bsz)\n",
        "        memory_bank: a tensor of size (src_len, bsz, hidden_size), encoder outputs \n",
        "                     at every position\n",
        "        src_mask: a tensor of size (src_len, bsz): a boolean tensor, `False` where\n",
        "                  src is padding (we disallow decoder to attend to those places).\n",
        "    Returns:\n",
        "        Logits of size (tgt_len, bsz, V_tgt) (before the softmax operation)\n",
        "    \"\"\"\n",
        "    max_tgt_length = tgt_in.size(0)\n",
        "    \n",
        "    # Initialize decoder state, note that it's a tuple (state, context) here\n",
        "    decoder_states = encoder_final_state\n",
        "    \n",
        "    all_logits = []\n",
        "    for i in range(max_tgt_length):\n",
        "      logits, decoder_states, attn = \\\n",
        "        self.forward_decoder_incrementally(decoder_states, \n",
        "                                           tgt_in[i], \n",
        "                                           memory_bank,\n",
        "                                           src_mask,\n",
        "                                           normalize=False)\n",
        "      all_logits.append(logits)             # list of bsz, vocab_tgt\n",
        "    all_logits = torch.stack(all_logits, 0) # tgt_len, bsz, vocab_tgt\n",
        "    return all_logits\n",
        "  \n",
        "  def forward(self, src, src_lengths, tgt_in):\n",
        "    \"\"\"\n",
        "    Performs forward computation, returns logits.\n",
        "    Arguments:\n",
        "        src: src batch of size (max_src_len, bsz)\n",
        "        src_lengths: src lengths of size (bsz)\n",
        "        tgt_in:  a tensor of size (tgt_len, bsz)\n",
        "    \"\"\"\n",
        "    src_mask = src.ne(self.padding_id_src) # max_src_len, bsz\n",
        "    # Forward encoder\n",
        "    memory_bank, encode_final = self.forward_encoder(src, src_lengths)\n",
        "    # Forward decoder\n",
        "    logits = self.forward_decoder(encode_final, tgt_in, memory_bank, src_mask)\n",
        "    return logits\n",
        "\n",
        "  def evaluate_ppl(self, iterator):\n",
        "    \"\"\"Returns the model's perplexity on a given dataset `iterator`.\"\"\"\n",
        "    # Switch to eval mode\n",
        "    self.eval()\n",
        "    total_loss = 0\n",
        "    total_words = 0\n",
        "    for batch in iterator:\n",
        "      # Input and target\n",
        "      src, src_lengths = batch.src\n",
        "      tgt = batch.tgt # max_length_sql, bsz\n",
        "      tgt_in = tgt[:-1] # remove <eos> for decode input (y_0=<bos>, y_1, y_2)\n",
        "      tgt_out = tgt[1:] # remove <bos> as target        (y_1, y_2, y_3=<eos>)\n",
        "      # Forward to get logits\n",
        "      logits = self.forward(src, src_lengths, tgt_in)\n",
        "      # Compute cross entropy loss\n",
        "      loss = self.loss_function(logits.view(-1, self.V_tgt), tgt_out.view(-1))\n",
        "      total_loss += loss.item()\n",
        "      total_words += tgt_out.ne(self.padding_id_tgt).float().sum().item()\n",
        "    return math.exp(total_loss/total_words)\n",
        "  \n",
        "  def train_all(self, train_iter, val_iter, epochs=10, learning_rate=0.001):\n",
        "    \"\"\"Train the model.\"\"\"\n",
        "    # Switch the module to training mode\n",
        "    self.train()\n",
        "    # Use Adam to optimize the parameters\n",
        "    optim = torch.optim.Adam(self.parameters(), lr=learning_rate)\n",
        "    best_validation_ppl = float('inf')\n",
        "    best_model = None\n",
        "    # Run the optimization for multiple epochs\n",
        "    for epoch in range(epochs): \n",
        "      total_words = 0\n",
        "      total_loss = 0.0\n",
        "      for batch in tqdm(train_iter):\n",
        "        # Zero the parameter gradients\n",
        "        self.zero_grad()\n",
        "        # Input and target\n",
        "        src, src_lengths = batch.src # text: max_src_length, bsz\n",
        "        tgt = batch.tgt # max_tgt_length, bsz\n",
        "        tgt_in = tgt[:-1] # Remove <eos> for decode input (y_0=<bos>, y_1, y_2)\n",
        "        tgt_out = tgt[1:] # Remove <bos> as target        (y_1, y_2, y_3=<eos>)\n",
        "        bsz = tgt.size(1)\n",
        "        # Run forward pass and compute loss along the way.\n",
        "        logits = self.forward(src, src_lengths, tgt_in)\n",
        "        loss = self.loss_function(logits.view(-1, self.V_tgt), tgt_out.view(-1))\n",
        "        # Training stats\n",
        "        num_tgt_words = tgt_out.ne(self.padding_id_tgt).float().sum().item()\n",
        "        total_words += num_tgt_words\n",
        "        total_loss += loss.item()\n",
        "        # Perform backpropagation\n",
        "        loss.div(bsz).backward()\n",
        "        optim.step()\n",
        "\n",
        "      # Evaluate and track improvements on the validation dataset\n",
        "      validation_ppl = self.evaluate_ppl(val_iter)\n",
        "      self.train()\n",
        "      if validation_ppl < best_validation_ppl:\n",
        "        best_validation_ppl = validation_ppl\n",
        "        self.best_model = copy.deepcopy(self.state_dict())\n",
        "      epoch_loss = total_loss / total_words\n",
        "      print (f'Epoch: {epoch} Training Perplexity: {math.exp(epoch_loss):.4f} '\n",
        "             f'Validation Perplexity: {validation_ppl:.4f}')\n",
        "  \n",
        "  def predict(self, tokens, K, max_T):\n",
        "    beam_searcher = BeamSearcher(self)\n",
        "    source = torch.tensor([[self.src_field.vocab.stoi[t]] for t in tokens], device=device)\n",
        "    prediction, _ = beam_searcher.beam_search(source, torch.tensor([len(source)]), K, max_T)\n",
        "    prediction = ' '.join([TGT.vocab.itos[token] for token in prediction])\n",
        "    return prediction.lstrip('<bos>').rstrip('<eos>').strip()"
      ],
      "metadata": {
        "id": "5hZopA7YwMTL"
      },
      "id": "5hZopA7YwMTL",
      "execution_count": 63,
      "outputs": []
    },
    {
      "cell_type": "markdown",
      "metadata": {
        "id": "1ffdd71a"
      },
      "source": [
        "We provide the recommended hyperparameters for the final model in the script below, but you are free to tune the hyperparameters or change any part of the provided code. \n",
        "\n",
        ">For quick debugging, we recommend starting with smaller models (by using a very small `hidden_size`), and only a single epoch. If the model runs smoothly, then you can train the full model on GPUs."
      ],
      "id": "1ffdd71a"
    },
    {
      "cell_type": "code",
      "metadata": {
        "id": "c0f02be3",
        "colab": {
          "base_uri": "https://localhost:8080/",
          "height": 0
        },
        "outputId": "962ed8c9-8bb2-41ef-b9b5-872ceb9a7cde"
      },
      "source": [
        "EPOCHS = 50 # epochs; we recommend starting with a smaller number like 1\n",
        "LEARNING_RATE = 1e-4 # learning rate\n",
        "\n",
        "# Instantiate and train classifier\n",
        "model = AttnEncoderDecoder(SRC, TGT,\n",
        "  hidden_size    = 1024,\n",
        "  layers         = 1,\n",
        ").to(device)\n",
        "\n",
        "model.train_all(train_iter, val_iter, epochs=EPOCHS, learning_rate=LEARNING_RATE)\n",
        "model.load_state_dict(model.best_model)\n",
        "\n",
        "# Evaluate model performance, the expected value should be < 1.2\n",
        "print (f'Validation perplexity: {model.evaluate_ppl(val_iter):.3f}')"
      ],
      "id": "c0f02be3",
      "execution_count": 69,
      "outputs": [
        {
          "output_type": "stream",
          "name": "stderr",
          "text": [
            "100%|██████████| 229/229 [00:59<00:00,  3.82it/s]\n"
          ]
        },
        {
          "output_type": "stream",
          "name": "stdout",
          "text": [
            "Epoch: 0 Training Perplexity: 4.3667 Validation Perplexity: 1.7709\n"
          ]
        },
        {
          "output_type": "stream",
          "name": "stderr",
          "text": [
            "100%|██████████| 229/229 [00:59<00:00,  3.84it/s]\n"
          ]
        },
        {
          "output_type": "stream",
          "name": "stdout",
          "text": [
            "Epoch: 1 Training Perplexity: 1.5062 Validation Perplexity: 1.4142\n"
          ]
        },
        {
          "output_type": "stream",
          "name": "stderr",
          "text": [
            "100%|██████████| 229/229 [01:00<00:00,  3.81it/s]\n"
          ]
        },
        {
          "output_type": "stream",
          "name": "stdout",
          "text": [
            "Epoch: 2 Training Perplexity: 1.3099 Validation Perplexity: 1.3166\n"
          ]
        },
        {
          "output_type": "stream",
          "name": "stderr",
          "text": [
            "100%|██████████| 229/229 [00:59<00:00,  3.87it/s]\n"
          ]
        },
        {
          "output_type": "stream",
          "name": "stdout",
          "text": [
            "Epoch: 3 Training Perplexity: 1.2316 Validation Perplexity: 1.2379\n"
          ]
        },
        {
          "output_type": "stream",
          "name": "stderr",
          "text": [
            "100%|██████████| 229/229 [01:00<00:00,  3.78it/s]\n"
          ]
        },
        {
          "output_type": "stream",
          "name": "stdout",
          "text": [
            "Epoch: 4 Training Perplexity: 1.1780 Validation Perplexity: 1.2008\n"
          ]
        },
        {
          "output_type": "stream",
          "name": "stderr",
          "text": [
            "100%|██████████| 229/229 [00:59<00:00,  3.82it/s]\n"
          ]
        },
        {
          "output_type": "stream",
          "name": "stdout",
          "text": [
            "Epoch: 5 Training Perplexity: 1.1450 Validation Perplexity: 1.1744\n"
          ]
        },
        {
          "output_type": "stream",
          "name": "stderr",
          "text": [
            "100%|██████████| 229/229 [01:00<00:00,  3.78it/s]\n"
          ]
        },
        {
          "output_type": "stream",
          "name": "stdout",
          "text": [
            "Epoch: 6 Training Perplexity: 1.1207 Validation Perplexity: 1.1549\n"
          ]
        },
        {
          "output_type": "stream",
          "name": "stderr",
          "text": [
            "100%|██████████| 229/229 [00:59<00:00,  3.84it/s]\n"
          ]
        },
        {
          "output_type": "stream",
          "name": "stdout",
          "text": [
            "Epoch: 7 Training Perplexity: 1.0991 Validation Perplexity: 1.1404\n"
          ]
        },
        {
          "output_type": "stream",
          "name": "stderr",
          "text": [
            "100%|██████████| 229/229 [01:00<00:00,  3.82it/s]\n"
          ]
        },
        {
          "output_type": "stream",
          "name": "stdout",
          "text": [
            "Epoch: 8 Training Perplexity: 1.0854 Validation Perplexity: 1.1294\n"
          ]
        },
        {
          "output_type": "stream",
          "name": "stderr",
          "text": [
            "100%|██████████| 229/229 [00:59<00:00,  3.82it/s]\n"
          ]
        },
        {
          "output_type": "stream",
          "name": "stdout",
          "text": [
            "Epoch: 9 Training Perplexity: 1.0725 Validation Perplexity: 1.1229\n"
          ]
        },
        {
          "output_type": "stream",
          "name": "stderr",
          "text": [
            "100%|██████████| 229/229 [01:00<00:00,  3.81it/s]\n"
          ]
        },
        {
          "output_type": "stream",
          "name": "stdout",
          "text": [
            "Epoch: 10 Training Perplexity: 1.0625 Validation Perplexity: 1.1145\n"
          ]
        },
        {
          "output_type": "stream",
          "name": "stderr",
          "text": [
            "100%|██████████| 229/229 [00:58<00:00,  3.89it/s]\n"
          ]
        },
        {
          "output_type": "stream",
          "name": "stdout",
          "text": [
            "Epoch: 11 Training Perplexity: 1.0559 Validation Perplexity: 1.1036\n"
          ]
        },
        {
          "output_type": "stream",
          "name": "stderr",
          "text": [
            "100%|██████████| 229/229 [01:00<00:00,  3.78it/s]\n"
          ]
        },
        {
          "output_type": "stream",
          "name": "stdout",
          "text": [
            "Epoch: 12 Training Perplexity: 1.0474 Validation Perplexity: 1.1023\n"
          ]
        },
        {
          "output_type": "stream",
          "name": "stderr",
          "text": [
            "100%|██████████| 229/229 [01:00<00:00,  3.76it/s]\n"
          ]
        },
        {
          "output_type": "stream",
          "name": "stdout",
          "text": [
            "Epoch: 13 Training Perplexity: 1.0406 Validation Perplexity: 1.1008\n"
          ]
        },
        {
          "output_type": "stream",
          "name": "stderr",
          "text": [
            "100%|██████████| 229/229 [00:59<00:00,  3.86it/s]\n"
          ]
        },
        {
          "output_type": "stream",
          "name": "stdout",
          "text": [
            "Epoch: 14 Training Perplexity: 1.0373 Validation Perplexity: 1.0962\n"
          ]
        },
        {
          "output_type": "stream",
          "name": "stderr",
          "text": [
            "100%|██████████| 229/229 [00:59<00:00,  3.84it/s]\n"
          ]
        },
        {
          "output_type": "stream",
          "name": "stdout",
          "text": [
            "Epoch: 15 Training Perplexity: 1.0350 Validation Perplexity: 1.0936\n"
          ]
        },
        {
          "output_type": "stream",
          "name": "stderr",
          "text": [
            "100%|██████████| 229/229 [00:59<00:00,  3.83it/s]\n"
          ]
        },
        {
          "output_type": "stream",
          "name": "stdout",
          "text": [
            "Epoch: 16 Training Perplexity: 1.0298 Validation Perplexity: 1.0919\n"
          ]
        },
        {
          "output_type": "stream",
          "name": "stderr",
          "text": [
            "100%|██████████| 229/229 [00:59<00:00,  3.84it/s]\n"
          ]
        },
        {
          "output_type": "stream",
          "name": "stdout",
          "text": [
            "Epoch: 17 Training Perplexity: 1.0269 Validation Perplexity: 1.0893\n"
          ]
        },
        {
          "output_type": "stream",
          "name": "stderr",
          "text": [
            "100%|██████████| 229/229 [01:01<00:00,  3.74it/s]\n"
          ]
        },
        {
          "output_type": "stream",
          "name": "stdout",
          "text": [
            "Epoch: 18 Training Perplexity: 1.0248 Validation Perplexity: 1.0975\n"
          ]
        },
        {
          "output_type": "stream",
          "name": "stderr",
          "text": [
            "100%|██████████| 229/229 [01:00<00:00,  3.80it/s]\n"
          ]
        },
        {
          "output_type": "stream",
          "name": "stdout",
          "text": [
            "Epoch: 19 Training Perplexity: 1.0213 Validation Perplexity: 1.0890\n"
          ]
        },
        {
          "output_type": "stream",
          "name": "stderr",
          "text": [
            "100%|██████████| 229/229 [01:00<00:00,  3.81it/s]\n"
          ]
        },
        {
          "output_type": "stream",
          "name": "stdout",
          "text": [
            "Epoch: 20 Training Perplexity: 1.0187 Validation Perplexity: 1.0918\n"
          ]
        },
        {
          "output_type": "stream",
          "name": "stderr",
          "text": [
            "100%|██████████| 229/229 [01:00<00:00,  3.80it/s]\n"
          ]
        },
        {
          "output_type": "stream",
          "name": "stdout",
          "text": [
            "Epoch: 21 Training Perplexity: 1.0195 Validation Perplexity: 1.0928\n"
          ]
        },
        {
          "output_type": "stream",
          "name": "stderr",
          "text": [
            "100%|██████████| 229/229 [01:00<00:00,  3.82it/s]\n"
          ]
        },
        {
          "output_type": "stream",
          "name": "stdout",
          "text": [
            "Epoch: 22 Training Perplexity: 1.0195 Validation Perplexity: 1.0909\n"
          ]
        },
        {
          "output_type": "stream",
          "name": "stderr",
          "text": [
            "100%|██████████| 229/229 [01:00<00:00,  3.81it/s]\n"
          ]
        },
        {
          "output_type": "stream",
          "name": "stdout",
          "text": [
            "Epoch: 23 Training Perplexity: 1.0157 Validation Perplexity: 1.0903\n"
          ]
        },
        {
          "output_type": "stream",
          "name": "stderr",
          "text": [
            "100%|██████████| 229/229 [01:01<00:00,  3.74it/s]\n"
          ]
        },
        {
          "output_type": "stream",
          "name": "stdout",
          "text": [
            "Epoch: 24 Training Perplexity: 1.0134 Validation Perplexity: 1.0883\n"
          ]
        },
        {
          "output_type": "stream",
          "name": "stderr",
          "text": [
            "100%|██████████| 229/229 [01:00<00:00,  3.80it/s]\n"
          ]
        },
        {
          "output_type": "stream",
          "name": "stdout",
          "text": [
            "Epoch: 25 Training Perplexity: 1.0112 Validation Perplexity: 1.0866\n"
          ]
        },
        {
          "output_type": "stream",
          "name": "stderr",
          "text": [
            "100%|██████████| 229/229 [00:59<00:00,  3.85it/s]\n"
          ]
        },
        {
          "output_type": "stream",
          "name": "stdout",
          "text": [
            "Epoch: 26 Training Perplexity: 1.0102 Validation Perplexity: 1.0889\n"
          ]
        },
        {
          "output_type": "stream",
          "name": "stderr",
          "text": [
            "100%|██████████| 229/229 [01:00<00:00,  3.81it/s]\n"
          ]
        },
        {
          "output_type": "stream",
          "name": "stdout",
          "text": [
            "Epoch: 27 Training Perplexity: 1.0104 Validation Perplexity: 1.0994\n"
          ]
        },
        {
          "output_type": "stream",
          "name": "stderr",
          "text": [
            "100%|██████████| 229/229 [00:59<00:00,  3.85it/s]\n"
          ]
        },
        {
          "output_type": "stream",
          "name": "stdout",
          "text": [
            "Epoch: 28 Training Perplexity: 1.0140 Validation Perplexity: 1.0893\n"
          ]
        },
        {
          "output_type": "stream",
          "name": "stderr",
          "text": [
            "100%|██████████| 229/229 [00:59<00:00,  3.85it/s]\n"
          ]
        },
        {
          "output_type": "stream",
          "name": "stdout",
          "text": [
            "Epoch: 29 Training Perplexity: 1.0113 Validation Perplexity: 1.0887\n"
          ]
        },
        {
          "output_type": "stream",
          "name": "stderr",
          "text": [
            "100%|██████████| 229/229 [00:59<00:00,  3.85it/s]\n"
          ]
        },
        {
          "output_type": "stream",
          "name": "stdout",
          "text": [
            "Epoch: 30 Training Perplexity: 1.0096 Validation Perplexity: 1.0892\n"
          ]
        },
        {
          "output_type": "stream",
          "name": "stderr",
          "text": [
            "100%|██████████| 229/229 [01:00<00:00,  3.80it/s]\n"
          ]
        },
        {
          "output_type": "stream",
          "name": "stdout",
          "text": [
            "Epoch: 31 Training Perplexity: 1.0073 Validation Perplexity: 1.0911\n"
          ]
        },
        {
          "output_type": "stream",
          "name": "stderr",
          "text": [
            "100%|██████████| 229/229 [01:00<00:00,  3.76it/s]\n"
          ]
        },
        {
          "output_type": "stream",
          "name": "stdout",
          "text": [
            "Epoch: 32 Training Perplexity: 1.0057 Validation Perplexity: 1.0898\n"
          ]
        },
        {
          "output_type": "stream",
          "name": "stderr",
          "text": [
            "100%|██████████| 229/229 [01:00<00:00,  3.78it/s]\n"
          ]
        },
        {
          "output_type": "stream",
          "name": "stdout",
          "text": [
            "Epoch: 33 Training Perplexity: 1.0048 Validation Perplexity: 1.0977\n"
          ]
        },
        {
          "output_type": "stream",
          "name": "stderr",
          "text": [
            "100%|██████████| 229/229 [01:00<00:00,  3.81it/s]\n"
          ]
        },
        {
          "output_type": "stream",
          "name": "stdout",
          "text": [
            "Epoch: 34 Training Perplexity: 1.0052 Validation Perplexity: 1.0997\n"
          ]
        },
        {
          "output_type": "stream",
          "name": "stderr",
          "text": [
            "100%|██████████| 229/229 [00:59<00:00,  3.83it/s]\n"
          ]
        },
        {
          "output_type": "stream",
          "name": "stdout",
          "text": [
            "Epoch: 35 Training Perplexity: 1.0085 Validation Perplexity: 1.0932\n"
          ]
        },
        {
          "output_type": "stream",
          "name": "stderr",
          "text": [
            "100%|██████████| 229/229 [01:01<00:00,  3.73it/s]\n"
          ]
        },
        {
          "output_type": "stream",
          "name": "stdout",
          "text": [
            "Epoch: 36 Training Perplexity: 1.0083 Validation Perplexity: 1.0984\n"
          ]
        },
        {
          "output_type": "stream",
          "name": "stderr",
          "text": [
            "100%|██████████| 229/229 [01:00<00:00,  3.79it/s]\n"
          ]
        },
        {
          "output_type": "stream",
          "name": "stdout",
          "text": [
            "Epoch: 37 Training Perplexity: 1.0087 Validation Perplexity: 1.0988\n"
          ]
        },
        {
          "output_type": "stream",
          "name": "stderr",
          "text": [
            "100%|██████████| 229/229 [00:59<00:00,  3.84it/s]\n"
          ]
        },
        {
          "output_type": "stream",
          "name": "stdout",
          "text": [
            "Epoch: 38 Training Perplexity: 1.0085 Validation Perplexity: 1.0958\n"
          ]
        },
        {
          "output_type": "stream",
          "name": "stderr",
          "text": [
            "100%|██████████| 229/229 [01:00<00:00,  3.80it/s]\n"
          ]
        },
        {
          "output_type": "stream",
          "name": "stdout",
          "text": [
            "Epoch: 39 Training Perplexity: 1.0071 Validation Perplexity: 1.0937\n"
          ]
        },
        {
          "output_type": "stream",
          "name": "stderr",
          "text": [
            "100%|██████████| 229/229 [00:59<00:00,  3.82it/s]\n"
          ]
        },
        {
          "output_type": "stream",
          "name": "stdout",
          "text": [
            "Epoch: 40 Training Perplexity: 1.0055 Validation Perplexity: 1.0914\n"
          ]
        },
        {
          "output_type": "stream",
          "name": "stderr",
          "text": [
            "100%|██████████| 229/229 [01:00<00:00,  3.80it/s]\n"
          ]
        },
        {
          "output_type": "stream",
          "name": "stdout",
          "text": [
            "Epoch: 41 Training Perplexity: 1.0038 Validation Perplexity: 1.0918\n"
          ]
        },
        {
          "output_type": "stream",
          "name": "stderr",
          "text": [
            "100%|██████████| 229/229 [01:00<00:00,  3.77it/s]\n"
          ]
        },
        {
          "output_type": "stream",
          "name": "stdout",
          "text": [
            "Epoch: 42 Training Perplexity: 1.0030 Validation Perplexity: 1.0930\n"
          ]
        },
        {
          "output_type": "stream",
          "name": "stderr",
          "text": [
            "100%|██████████| 229/229 [00:59<00:00,  3.84it/s]\n"
          ]
        },
        {
          "output_type": "stream",
          "name": "stdout",
          "text": [
            "Epoch: 43 Training Perplexity: 1.0026 Validation Perplexity: 1.1001\n"
          ]
        },
        {
          "output_type": "stream",
          "name": "stderr",
          "text": [
            "100%|██████████| 229/229 [01:00<00:00,  3.80it/s]\n"
          ]
        },
        {
          "output_type": "stream",
          "name": "stdout",
          "text": [
            "Epoch: 44 Training Perplexity: 1.0040 Validation Perplexity: 1.1008\n"
          ]
        },
        {
          "output_type": "stream",
          "name": "stderr",
          "text": [
            "100%|██████████| 229/229 [01:00<00:00,  3.81it/s]\n"
          ]
        },
        {
          "output_type": "stream",
          "name": "stdout",
          "text": [
            "Epoch: 45 Training Perplexity: 1.0036 Validation Perplexity: 1.1022\n"
          ]
        },
        {
          "output_type": "stream",
          "name": "stderr",
          "text": [
            "100%|██████████| 229/229 [01:00<00:00,  3.80it/s]\n"
          ]
        },
        {
          "output_type": "stream",
          "name": "stdout",
          "text": [
            "Epoch: 46 Training Perplexity: 1.0051 Validation Perplexity: 1.0980\n"
          ]
        },
        {
          "output_type": "stream",
          "name": "stderr",
          "text": [
            "100%|██████████| 229/229 [01:00<00:00,  3.81it/s]\n"
          ]
        },
        {
          "output_type": "stream",
          "name": "stdout",
          "text": [
            "Epoch: 47 Training Perplexity: 1.0054 Validation Perplexity: 1.0997\n"
          ]
        },
        {
          "output_type": "stream",
          "name": "stderr",
          "text": [
            "100%|██████████| 229/229 [01:00<00:00,  3.79it/s]\n"
          ]
        },
        {
          "output_type": "stream",
          "name": "stdout",
          "text": [
            "Epoch: 48 Training Perplexity: 1.0065 Validation Perplexity: 1.0995\n"
          ]
        },
        {
          "output_type": "stream",
          "name": "stderr",
          "text": [
            "100%|██████████| 229/229 [01:00<00:00,  3.81it/s]\n"
          ]
        },
        {
          "output_type": "stream",
          "name": "stdout",
          "text": [
            "Epoch: 49 Training Perplexity: 1.0050 Validation Perplexity: 1.0997\n",
            "Validation perplexity: 1.088\n"
          ]
        }
      ]
    },
    {
      "cell_type": "markdown",
      "metadata": {
        "id": "60fc51fc"
      },
      "source": [
        "With a trained model, we can convert questions to SQL statements. We recommend making sure that the model can generate at least reasonable results on the examples from before, before evaluating on the full test set."
      ],
      "id": "60fc51fc"
    },
    {
      "cell_type": "code",
      "metadata": {
        "id": "15ff735c"
      },
      "source": [
        "def seq2seq_trial(sentence, gold_sql):\n",
        "  print(\"Sentence: \", sentence, \"\\n\")\n",
        "  tokens = tokenize(sentence)\n",
        "\n",
        "  predicted_sql = model.predict(tokens, K=1, max_T=400)\n",
        "  print(\"Predicted SQL:\\n\\n\", predicted_sql, \"\\n\")\n",
        "\n",
        "  if verify(predicted_sql, gold_sql, silent=False):\n",
        "    print ('Correct!')\n",
        "  else:\n",
        "    print ('Incorrect!')"
      ],
      "id": "15ff735c",
      "execution_count": 70,
      "outputs": []
    },
    {
      "cell_type": "code",
      "metadata": {
        "id": "3dbfffe1",
        "colab": {
          "base_uri": "https://localhost:8080/",
          "height": 0
        },
        "outputId": "8622a80b-b1e4-41df-d931-6788d4e245ec"
      },
      "source": [
        "seq2seq_trial(example_1, gold_sql_1)"
      ],
      "id": "3dbfffe1",
      "execution_count": 71,
      "outputs": [
        {
          "output_type": "stream",
          "name": "stdout",
          "text": [
            "Sentence:  flights from phoenix to milwaukee \n",
            "\n",
            "Predicted SQL:\n",
            "\n",
            " SELECT DISTINCT flight_1.flight_id FROM flight flight_1 , airport_service airport_service_1 , city city_1 , airport_service airport_service_2 , city city_2 WHERE flight_1.from_airport = airport_service_1.airport_code AND airport_service_1.city_code = city_1.city_code AND city_1.city_name = 'PHOENIX' AND flight_1.to_airport = airport_service_2.airport_code AND airport_service_2.city_code = city_2.city_code AND city_2.city_name = 'MILWAUKEE' \n",
            "\n",
            "Predicted DB result:\n",
            "\n",
            " [(108086,), (108087,), (301763,), (301764,), (301765,), (301766,), (302323,), (304881,), (310619,), (310620,)] \n",
            "\n",
            "Gold DB result:\n",
            "\n",
            " [(108086,), (108087,), (301763,), (301764,), (301765,), (301766,), (302323,), (304881,), (310619,), (310620,)] \n",
            "\n",
            "Correct!\n"
          ]
        }
      ]
    },
    {
      "cell_type": "code",
      "metadata": {
        "id": "d6dc990c",
        "colab": {
          "base_uri": "https://localhost:8080/",
          "height": 0
        },
        "outputId": "13da8545-3beb-4913-9c22-dbcb45d9b04c"
      },
      "source": [
        "seq2seq_trial(example_2, gold_sql_2)"
      ],
      "id": "d6dc990c",
      "execution_count": 72,
      "outputs": [
        {
          "output_type": "stream",
          "name": "stdout",
          "text": [
            "Sentence:  i would like a united flight \n",
            "\n",
            "Predicted SQL:\n",
            "\n",
            " SELECT DISTINCT flight_1.flight_id FROM flight flight_1 , airport_service airport_service_1 , city city_1 WHERE flight_1.airline_code = 'UA' AND flight_1.from_airport = airport_service_1.airport_code AND airport_service_1.city_code = city_1.city_code AND city_1.city_name = 'DENVER' \n",
            "\n",
            "Predicted DB result:\n",
            "\n",
            " [(100094,), (100099,), (100699,), (100703,), (100704,), (100705,), (100706,), (101082,), (101083,), (101084,)] \n",
            "\n",
            "Gold DB result:\n",
            "\n",
            " [(100094,), (100099,), (100145,), (100158,), (100164,), (100167,), (100169,), (100203,), (100204,), (100296,)] \n",
            "\n",
            "Incorrect!\n"
          ]
        }
      ]
    },
    {
      "cell_type": "code",
      "metadata": {
        "id": "dff3d5a7",
        "colab": {
          "base_uri": "https://localhost:8080/",
          "height": 0
        },
        "outputId": "6e96aa41-3376-455b-89df-cc92d5ce62ad"
      },
      "source": [
        "seq2seq_trial(example_3, gold_sql_3)"
      ],
      "id": "dff3d5a7",
      "execution_count": 73,
      "outputs": [
        {
          "output_type": "stream",
          "name": "stdout",
          "text": [
            "Sentence:  i would like a flight between boston and dallas \n",
            "\n",
            "Predicted SQL:\n",
            "\n",
            " SELECT DISTINCT flight_1.flight_id FROM flight flight_1 , airport_service airport_service_1 , city city_1 , airport_service airport_service_2 , city city_2 WHERE flight_1.from_airport = airport_service_1.airport_code AND airport_service_1.city_code = city_1.city_code AND city_1.city_name = 'BOSTON' AND flight_1.to_airport = airport_service_2.airport_code AND airport_service_2.city_code = city_2.city_code AND city_2.city_name = 'DALLAS' \n",
            "\n",
            "Predicted DB result:\n",
            "\n",
            " [(103171,), (103172,), (103173,), (103174,), (103175,), (103176,), (103177,), (103178,), (103179,), (103180,)] \n",
            "\n",
            "Gold DB result:\n",
            "\n",
            " [(103171,), (103172,), (103173,), (103174,), (103175,), (103176,), (103177,), (103178,), (103179,), (103180,)] \n",
            "\n",
            "Correct!\n"
          ]
        }
      ]
    },
    {
      "cell_type": "code",
      "metadata": {
        "id": "45b7ef49",
        "colab": {
          "base_uri": "https://localhost:8080/",
          "height": 0
        },
        "outputId": "f80e4b5f-76fe-4e41-f88e-36b1d8e58270"
      },
      "source": [
        "seq2seq_trial(example_4, gold_sql_4)"
      ],
      "id": "45b7ef49",
      "execution_count": 74,
      "outputs": [
        {
          "output_type": "stream",
          "name": "stdout",
          "text": [
            "Sentence:  show me the united flights from denver to baltimore \n",
            "\n",
            "Predicted SQL:\n",
            "\n",
            " SELECT DISTINCT flight_1.flight_id FROM flight flight_1 , airport_service airport_service_1 , city city_1 , airport_service airport_service_2 , city city_2 WHERE flight_1.airline_code = 'UA' AND ( flight_1.from_airport = airport_service_1.airport_code AND airport_service_1.city_code = city_1.city_code AND city_1.city_name = 'DENVER' AND flight_1.to_airport = airport_service_2.airport_code AND airport_service_2.city_code = city_2.city_code AND city_2.city_name = 'BALTIMORE' ) \n",
            "\n",
            "Predicted DB result:\n",
            "\n",
            " [(101231,), (101233,), (305983,)] \n",
            "\n",
            "Gold DB result:\n",
            "\n",
            " [(101231,), (101233,), (305983,)] \n",
            "\n",
            "Correct!\n"
          ]
        }
      ]
    },
    {
      "cell_type": "code",
      "metadata": {
        "id": "6787061f",
        "colab": {
          "base_uri": "https://localhost:8080/",
          "height": 0
        },
        "outputId": "fa6f5f4d-dee4-4305-829e-1f57a679fb0a"
      },
      "source": [
        "seq2seq_trial(example_5, gold_sql_5)"
      ],
      "id": "6787061f",
      "execution_count": 75,
      "outputs": [
        {
          "output_type": "stream",
          "name": "stdout",
          "text": [
            "Sentence:  show flights from cleveland to miami that arrive before 4pm \n",
            "\n",
            "Predicted SQL:\n",
            "\n",
            " SELECT DISTINCT flight_1.flight_id FROM flight flight_1 , airport_service airport_service_1 , city city_1 , airport_service airport_service_2 , city city_2 WHERE flight_1.from_airport = airport_service_1.airport_code AND airport_service_1.city_code = city_1.city_code AND city_1.city_name = 'CLEVELAND' AND ( flight_1.to_airport = airport_service_2.airport_code AND airport_service_2.city_code = city_2.city_code AND city_2.city_name = 'MIAMI' AND flight_1.arrival_time < 1600 ) \n",
            "\n",
            "Predicted DB result:\n",
            "\n",
            " [(107698,), (301117,)] \n",
            "\n",
            "Gold DB result:\n",
            "\n",
            " [(107698,), (301117,)] \n",
            "\n",
            "Correct!\n"
          ]
        }
      ]
    },
    {
      "cell_type": "code",
      "metadata": {
        "id": "a3b99c6b",
        "colab": {
          "base_uri": "https://localhost:8080/",
          "height": 0
        },
        "outputId": "392816d7-1488-4b88-9e7d-449e39619071"
      },
      "source": [
        "seq2seq_trial(example_6, gold_sql_6b)"
      ],
      "id": "a3b99c6b",
      "execution_count": 76,
      "outputs": [
        {
          "output_type": "stream",
          "name": "stdout",
          "text": [
            "Sentence:  okay how about a flight on sunday from tampa to charlotte \n",
            "\n",
            "Predicted SQL:\n",
            "\n",
            " SELECT DISTINCT flight_1.flight_id FROM flight flight_1 , airport_service airport_service_1 , city city_1 , airport_service airport_service_2 , city city_2 , days days_1 , date_day date_day_1 WHERE flight_1.from_airport = airport_service_1.airport_code AND airport_service_1.city_code = city_1.city_code AND city_1.city_name = 'TAMPA' AND ( flight_1.to_airport = airport_service_2.airport_code AND airport_service_2.city_code = city_2.city_code AND city_2.city_name = 'CHARLOTTE' AND flight_1.flight_days = days_1.days_code AND days_1.day_name = date_day_1.day_name AND date_day_1.year = 1991 AND date_day_1.month_number = 8 AND date_day_1.day_number = 27 ) \n",
            "\n",
            "Predicted DB result:\n",
            "\n",
            " [(101860,), (101861,), (101862,), (101863,), (101864,), (101865,), (305231,)] \n",
            "\n",
            "Gold DB result:\n",
            "\n",
            " [(101860,), (101861,), (101862,), (101863,), (101864,), (101865,), (305231,)] \n",
            "\n",
            "Correct!\n"
          ]
        }
      ]
    },
    {
      "cell_type": "code",
      "metadata": {
        "id": "81cc3c0a",
        "colab": {
          "base_uri": "https://localhost:8080/",
          "height": 0
        },
        "outputId": "eb47e322-09bb-4243-cd36-1f41506b264e"
      },
      "source": [
        "seq2seq_trial(example_7, gold_sql_7b)"
      ],
      "id": "81cc3c0a",
      "execution_count": 77,
      "outputs": [
        {
          "output_type": "stream",
          "name": "stdout",
          "text": [
            "Sentence:  list all flights going from boston to atlanta that leaves before 7 am on thursday \n",
            "\n",
            "Predicted SQL:\n",
            "\n",
            " SELECT DISTINCT flight_1.flight_id FROM flight flight_1 , airport_service airport_service_1 , city city_1 , airport_service airport_service_2 , city city_2 , days days_1 , date_day date_day_1 WHERE flight_1.from_airport = airport_service_1.airport_code AND airport_service_1.city_code = city_1.city_code AND city_1.city_name = 'BOSTON' AND ( flight_1.to_airport = airport_service_2.airport_code AND airport_service_2.city_code = city_2.city_code AND city_2.city_name = 'ATLANTA' AND ( flight_1.flight_days = days_1.days_code AND days_1.day_name = date_day_1.day_name AND date_day_1.year = 1991 AND date_day_1.month_number = 5 AND date_day_1.day_number = 24 AND flight_1.departure_time < 700 ) ) \n",
            "\n",
            "Predicted DB result:\n",
            "\n",
            " [(100014,)] \n",
            "\n",
            "Gold DB result:\n",
            "\n",
            " [(100014,)] \n",
            "\n",
            "Correct!\n"
          ]
        }
      ]
    },
    {
      "cell_type": "code",
      "metadata": {
        "id": "205f0d76",
        "colab": {
          "base_uri": "https://localhost:8080/",
          "height": 0
        },
        "outputId": "d90694a8-7771-4cd9-fdbb-0fc658d8f25a"
      },
      "source": [
        "seq2seq_trial(example_8, gold_sql_8)"
      ],
      "id": "205f0d76",
      "execution_count": 78,
      "outputs": [
        {
          "output_type": "stream",
          "name": "stdout",
          "text": [
            "Sentence:  list the flights from dallas to san francisco on american airlines \n",
            "\n",
            "Predicted SQL:\n",
            "\n",
            " SELECT DISTINCT flight_1.flight_id FROM flight flight_1 , airport_service airport_service_1 , city city_1 , airport_service airport_service_2 , city city_2 WHERE flight_1.airline_code = 'AA' AND ( flight_1.from_airport = airport_service_1.airport_code AND airport_service_1.city_code = city_1.city_code AND city_1.city_name = 'DALLAS' AND flight_1.to_airport = airport_service_2.airport_code AND airport_service_2.city_code = city_2.city_code AND city_2.city_name = 'SAN FRANCISCO' ) \n",
            "\n",
            "Predicted DB result:\n",
            "\n",
            " [(108452,), (108454,), (108456,), (111083,), (111085,), (111086,), (111090,), (111091,), (111092,), (111094,)] \n",
            "\n",
            "Gold DB result:\n",
            "\n",
            " [(108452,), (108454,), (108456,), (111083,), (111085,), (111086,), (111090,), (111091,), (111092,), (111094,)] \n",
            "\n",
            "Correct!\n"
          ]
        }
      ]
    },
    {
      "cell_type": "markdown",
      "metadata": {
        "id": "999a6edd"
      },
      "source": [
        "### Evaluation\n",
        "\n",
        "Now we are ready to run the full evaluation. A proper implementation should reach more than 35% precision/recall/F1."
      ],
      "id": "999a6edd"
    },
    {
      "cell_type": "code",
      "metadata": {
        "id": "bd261825"
      },
      "source": [
        "def seq2seq_predictor(tokens):\n",
        "  prediction = model.predict(tokens, K=1, max_T=400)\n",
        "  return prediction"
      ],
      "id": "bd261825",
      "execution_count": 79,
      "outputs": []
    },
    {
      "cell_type": "code",
      "metadata": {
        "id": "94e2a108",
        "colab": {
          "base_uri": "https://localhost:8080/",
          "height": 0
        },
        "outputId": "701637a9-24ee-48ad-93bb-e1c20b6bca3d"
      },
      "source": [
        "precision, recall, f1 = evaluate(seq2seq_predictor, test_iter.dataset, num_examples=0)\n",
        "print(f\"precision: {precision:3.2f}\")\n",
        "print(f\"recall:    {recall:3.2f}\")\n",
        "print(f\"F1:        {f1:3.2f}\")"
      ],
      "id": "94e2a108",
      "execution_count": 80,
      "outputs": [
        {
          "output_type": "stream",
          "name": "stderr",
          "text": [
            "100%|██████████| 332/332 [00:54<00:00,  6.14it/s]"
          ]
        },
        {
          "output_type": "stream",
          "name": "stdout",
          "text": [
            "precision: 0.43\n",
            "recall:    0.43\n",
            "F1:        0.43\n"
          ]
        },
        {
          "output_type": "stream",
          "name": "stderr",
          "text": [
            "\n"
          ]
        }
      ]
    },
    {
      "cell_type": "markdown",
      "metadata": {
        "id": "3c8bf8f5"
      },
      "source": [
        "## Goal 3: Implement a seq2seq model (with cross attention and self attention)\n",
        "\n",
        "In the previous section, you have implemented a seq2seq model with attention. The attention mechanism used in that section is usually referred to as \"cross-attention\", as at each decoding step, the decoder attends to encoder outputs, enabling a dynamic view on the encoder side as decoding proceeds.\n",
        "\n",
        "Similarly, we can have a dynamic view on the decoder side as well as decoding proceeds, i.e., the decoder attends to decoder outputs at previous steps. This is called \"self attention\", and has been found very useful in modern neural architectures such as transformers.\n",
        "\n",
        "Augment the seq2seq model you implemented before with a decoder self-attention mechanism as class `AttnEncoderDecoder2`. A model diagram can be found below:\n",
        "\n",
        "\n",
        "<img src=\"https://github.com/nlp-course/data/raw/master/img/encoderdecoder_attn_selfattn.png\" alt=\"encoder-decoder-attn-with-selfattn illustration\" />\n",
        "\n",
        "At each decoding step, the decoder LSTM first produces an output state $o_t$, then it attends to all previous output states $o_1, \\ldots, o_{t-1}$ (decoder self-attention). You need to special case the first decoding step to not perform self-attention, as there are no previous decoder states. The attention result is added to $o_t$ itself and the sum is used as $q_t$ to attend to the encoder side (encoder-decoder cross-attention). The rest of the model is the same as encoder-decoder with attention.\n"
      ],
      "id": "3c8bf8f5"
    },
    {
      "cell_type": "code",
      "source": [
        "#TODO - implement the 'AttnEncoderDecoder' class.\n",
        "class AttnEncoderDecoder2(nn.Module):\n",
        "  def __init__(self, src_field, tgt_field, hidden_size=64, layers=3):\n",
        "    \"\"\"\n",
        "    Initializer. Creates network modules and loss function.\n",
        "    Arguments:\n",
        "        src_field: src field\n",
        "        tgt_field: tgt field\n",
        "        hidden_size: hidden layer size of both encoder and decoder\n",
        "        layers: number of layers of both encoder and decoder\n",
        "    \"\"\"\n",
        "    super().__init__()\n",
        "    self.src_field = src_field\n",
        "    self.tgt_field = tgt_field\n",
        "    \n",
        "    # Keep the vocabulary sizes available\n",
        "    self.V_src = len(src_field.vocab.itos)\n",
        "    self.V_tgt = len(tgt_field.vocab.itos)\n",
        "    \n",
        "    # Get special word ids\n",
        "    self.padding_id_src = src_field.vocab.stoi[src_field.pad_token]\n",
        "    self.padding_id_tgt = tgt_field.vocab.stoi[tgt_field.pad_token]\n",
        "    self.bos_id = tgt_field.vocab.stoi[tgt_field.init_token]\n",
        "    self.eos_id = tgt_field.vocab.stoi[tgt_field.eos_token]\n",
        "\n",
        "    # Keep hyper-parameters available\n",
        "    self.embedding_size = hidden_size\n",
        "    self.hidden_size = hidden_size\n",
        "    self.layers = layers\n",
        "\n",
        "    # Create essential modules\n",
        "    self.word_embeddings_src = nn.Embedding(self.V_src, self.embedding_size)\n",
        "    self.word_embeddings_tgt = nn.Embedding(self.V_tgt, self.embedding_size)\n",
        "\n",
        "    # RNN cells\n",
        "    self.encoder_rnn = nn.LSTM(\n",
        "      input_size    = self.embedding_size,\n",
        "      hidden_size   = hidden_size // 2, # to match decoder hidden size\n",
        "      num_layers    = layers,\n",
        "      bidirectional = True              # bidirectional encoder\n",
        "    )\n",
        "    self.decoder_rnn = nn.LSTM(\n",
        "      input_size    = self.embedding_size,\n",
        "      hidden_size   = hidden_size,\n",
        "      num_layers    = layers,\n",
        "      bidirectional = False             # unidirectional decoder\n",
        "    )\n",
        "\n",
        "    # Final projection layer\n",
        "    self.hidden2output = nn.Linear(2*hidden_size, self.V_tgt) # project the concatenation to logits\n",
        "   \n",
        "    # Create loss function\n",
        "    self.loss_function = nn.CrossEntropyLoss(reduction='sum', \n",
        "                                             ignore_index=self.padding_id_tgt)\n",
        "  \n",
        "  def forward_encoder(self, src, src_lengths):\n",
        "    \"\"\"\n",
        "    Encodes source words `src`.\n",
        "    Arguments:\n",
        "        src: src batch of size (max_src_len, bsz)\n",
        "        src_lengths: src lengths of size (bsz)\n",
        "    Returns:\n",
        "        memory_bank: a tensor of size (src_len, bsz, hidden_size)\n",
        "        (final_state, context): `final_state` is a tuple (h, c) where h/c is of size \n",
        "                                (layers, bsz, hidden_size), and `context` is `None`. \n",
        "    \"\"\"\n",
        "    #TODO\n",
        "    max_length = src.shape[0]\n",
        "    batch_size = src.shape[1]\n",
        "    embedding = self.word_embeddings_src(src)\n",
        "    packed = pack(embedding, src_lengths.to('cpu'))\n",
        "\n",
        "    # initialize hidden states\n",
        "    h0 = torch.randn(2 * self.layers, batch_size, self.hidden_size // 2).to(device)\n",
        "    c0 = torch.randn(2 * self.layers, batch_size, self.hidden_size // 2).to(device)\n",
        "\n",
        "    # run encoder rnn\n",
        "    output, (h, c) = self.encoder_rnn(packed, (h0, c0))\n",
        "\n",
        "    # reshape hidden states\n",
        "    h_split = h.reshape(self.layers, 2, batch_size, self.hidden_size // 2)\n",
        "    c_split = c.reshape(self.layers, 2, batch_size, self.hidden_size // 2)\n",
        "    h_swap = h_split.transpose(1, 2)\n",
        "    c_swap = c_split.transpose(1, 2)\n",
        "    h_join = h_swap.reshape(self.layers, batch_size, self.hidden_size)\n",
        "    c_join = c_swap.reshape(self.layers, batch_size, self.hidden_size)\n",
        "        \n",
        "    memory_bank, _ = unpack(output)\n",
        "    final_state = (h_join, c_join)\n",
        "    context = None\n",
        "    return memory_bank, (final_state, context, None)\n",
        "\n",
        "  def forward_decoder_incrementally(self, prev_decoder_states, tgt_in_onestep, \n",
        "                                    memory_bank, src_mask,\n",
        "                                    normalize=True):\n",
        "    \"\"\"\n",
        "    Forward the decoder for a single step with token `tgt_in_onestep`.\n",
        "    This function will be used both in `forward_decoder` and in beam search.\n",
        "    Note that bsz can be greater than 1.\n",
        "    Arguments:\n",
        "        prev_decoder_states: a tuple (prev_decoder_state, prev_context). `prev_context`\n",
        "                             is `None` for the first step\n",
        "        tgt_in_onestep: a tensor of size (bsz), tokens at one step\n",
        "        memory_bank: a tensor of size (src_len, bsz, hidden_size), encoder outputs \n",
        "                     at every position\n",
        "        src_mask: a tensor of size (src_len, bsz): a boolean tensor, `False` where\n",
        "                  src is padding (we disallow decoder to attend to those places).\n",
        "        normalize: use log_softmax to normalize or not. Beam search needs to normalize,\n",
        "                   while `forward_decoder` does not\n",
        "    Returns:\n",
        "        logits: log probabilities for `tgt_in_token` of size (bsz, V_tgt)\n",
        "        decoder_states: (`decoder_state`, `context`) which will be used for the \n",
        "                        next incremental update\n",
        "        attn: normalized attention scores at this step (bsz, src_len)\n",
        "    \"\"\"\n",
        "    prev_decoder_state, prev_context, prev_output = prev_decoder_states\n",
        "    #TODO\n",
        "    \n",
        "    # Compute word embeddings\n",
        "    tgt_embeddings = self.word_embeddings_tgt(\n",
        "        tgt_in_onestep\n",
        "    )\n",
        "    \n",
        "    if prev_context is not None:\n",
        "        decoder_inp = tgt_embeddings + prev_context\n",
        "    else:\n",
        "        decoder_inp = tgt_embeddings\n",
        "        decoder_inp = decoder_inp.unsqueeze(0)\n",
        "        \n",
        "    # Forward decoder RNN and return all hidden states\n",
        "    decoder_outs, decoder_state = self.decoder_rnn(decoder_inp, prev_decoder_state)\n",
        "    \n",
        "    #self attn\n",
        "    if prev_output is None:\n",
        "      prev_output = decoder_outs\n",
        "    else:\n",
        "      _, cont_self = attention(decoder_outs, prev_output, prev_output, mask = None)\n",
        "      prev_output = torch.cat((prev_output, decoder_outs), dim = 0)\n",
        "      decoder_outs = torch.add(cont_self, decoder_outs)\n",
        "\n",
        "    src_mask = torch.transpose(src_mask, 0, 1).unsqueeze(1)\n",
        "    \n",
        "    attn, context = attention(decoder_outs, memory_bank, memory_bank, mask = src_mask)\n",
        "    \n",
        "    attn = attn.squeeze(1)\n",
        "    \n",
        "    concat_out = torch.cat((decoder_outs, context), dim=2) \n",
        "        \n",
        "    # Project to get logits\n",
        "    logits = self.hidden2output(concat_out).squeeze(0) #bsz, V_tgt\n",
        "    \n",
        "    decoder_states = (decoder_state, context, prev_output)\n",
        "    if normalize:\n",
        "      logits = torch.log_softmax(logits, dim=-1)\n",
        "    return logits, decoder_states, attn\n",
        "  \n",
        "  def forward_decoder(self, encoder_final_state, tgt_in, memory_bank, src_mask):\n",
        "    \"\"\"\n",
        "    Decodes based on encoder final state, memory bank, src_mask, and ground truth \n",
        "    target words.\n",
        "    Arguments:\n",
        "        encoder_final_state: (final_state, None) where final_state is the encoder\n",
        "                             final state used to initialize decoder. None is the\n",
        "                             initial context (there's no previous context at the\n",
        "                             first step).\n",
        "        tgt_in: a tensor of size (tgt_len, bsz)\n",
        "        memory_bank: a tensor of size (src_len, bsz, hidden_size), encoder outputs \n",
        "                     at every position\n",
        "        src_mask: a tensor of size (src_len, bsz): a boolean tensor, `False` where\n",
        "                  src is padding (we disallow decoder to attend to those places).\n",
        "    Returns:\n",
        "        Logits of size (tgt_len, bsz, V_tgt) (before the softmax operation)\n",
        "    \"\"\"\n",
        "    max_tgt_length = tgt_in.size(0)\n",
        "    \n",
        "    # Initialize decoder state, note that it's a tuple (state, context) here\n",
        "    decoder_states = encoder_final_state\n",
        "    \n",
        "    all_logits = []\n",
        "    for i in range(max_tgt_length):\n",
        "      logits, decoder_states, attn = \\\n",
        "        self.forward_decoder_incrementally(decoder_states, \n",
        "                                           tgt_in[i], \n",
        "                                           memory_bank,\n",
        "                                           src_mask,\n",
        "                                           normalize=False)\n",
        "      all_logits.append(logits)             # list of bsz, vocab_tgt\n",
        "    all_logits = torch.stack(all_logits, 0) # tgt_len, bsz, vocab_tgt\n",
        "    return all_logits\n",
        "  \n",
        "  def forward(self, src, src_lengths, tgt_in):\n",
        "    \"\"\"\n",
        "    Performs forward computation, returns logits.\n",
        "    Arguments:\n",
        "        src: src batch of size (max_src_len, bsz)\n",
        "        src_lengths: src lengths of size (bsz)\n",
        "        tgt_in:  a tensor of size (tgt_len, bsz)\n",
        "    \"\"\"\n",
        "    src_mask = src.ne(self.padding_id_src) # max_src_len, bsz\n",
        "    # Forward encoder\n",
        "    memory_bank, encode_final = self.forward_encoder(src, src_lengths)\n",
        "    # Forward decoder\n",
        "    logits = self.forward_decoder(encode_final, tgt_in, memory_bank, src_mask)\n",
        "    return logits\n",
        "\n",
        "  def evaluate_ppl(self, iterator):\n",
        "    \"\"\"Returns the model's perplexity on a given dataset `iterator`.\"\"\"\n",
        "    # Switch to eval mode\n",
        "    self.eval()\n",
        "    total_loss = 0\n",
        "    total_words = 0\n",
        "    for batch in iterator:\n",
        "      # Input and target\n",
        "      src, src_lengths = batch.src\n",
        "      tgt = batch.tgt # max_length_sql, bsz\n",
        "      tgt_in = tgt[:-1] # remove <eos> for decode input (y_0=<bos>, y_1, y_2)\n",
        "      tgt_out = tgt[1:] # remove <bos> as target        (y_1, y_2, y_3=<eos>)\n",
        "      # Forward to get logits\n",
        "      logits = self.forward(src, src_lengths, tgt_in)\n",
        "      # Compute cross entropy loss\n",
        "      loss = self.loss_function(logits.view(-1, self.V_tgt), tgt_out.view(-1))\n",
        "      total_loss += loss.item()\n",
        "      total_words += tgt_out.ne(self.padding_id_tgt).float().sum().item()\n",
        "    return math.exp(total_loss/total_words)\n",
        "  \n",
        "  def train_all(self, train_iter, val_iter, epochs=10, learning_rate=0.001):\n",
        "    \"\"\"Train the model.\"\"\"\n",
        "    # Switch the module to training mode\n",
        "    self.train()\n",
        "    # Use Adam to optimize the parameters\n",
        "    optim = torch.optim.Adam(self.parameters(), lr=learning_rate)\n",
        "    best_validation_ppl = float('inf')\n",
        "    best_model = None\n",
        "    # Run the optimization for multiple epochs\n",
        "    for epoch in range(epochs): \n",
        "      total_words = 0\n",
        "      total_loss = 0.0\n",
        "      for batch in tqdm(train_iter):\n",
        "        # Zero the parameter gradients\n",
        "        self.zero_grad()\n",
        "        # Input and target\n",
        "        src, src_lengths = batch.src # text: max_src_length, bsz\n",
        "        tgt = batch.tgt # max_tgt_length, bsz\n",
        "        tgt_in = tgt[:-1] # Remove <eos> for decode input (y_0=<bos>, y_1, y_2)\n",
        "        tgt_out = tgt[1:] # Remove <bos> as target        (y_1, y_2, y_3=<eos>)\n",
        "        bsz = tgt.size(1)\n",
        "        # Run forward pass and compute loss along the way.\n",
        "        logits = self.forward(src, src_lengths, tgt_in)\n",
        "        loss = self.loss_function(logits.view(-1, self.V_tgt), tgt_out.view(-1))\n",
        "        # Training stats\n",
        "        num_tgt_words = tgt_out.ne(self.padding_id_tgt).float().sum().item()\n",
        "        total_words += num_tgt_words\n",
        "        total_loss += loss.item()\n",
        "        # Perform backpropagation\n",
        "        loss.div(bsz).backward()\n",
        "        optim.step()\n",
        "\n",
        "      # Evaluate and track improvements on the validation dataset\n",
        "      validation_ppl = self.evaluate_ppl(val_iter)\n",
        "      self.train()\n",
        "      if validation_ppl < best_validation_ppl:\n",
        "        best_validation_ppl = validation_ppl\n",
        "        self.best_model = copy.deepcopy(self.state_dict())\n",
        "      epoch_loss = total_loss / total_words\n",
        "      print (f'Epoch: {epoch} Training Perplexity: {math.exp(epoch_loss):.4f} '\n",
        "             f'Validation Perplexity: {validation_ppl:.4f}')\n",
        "  \n",
        "  def predict(self, tokens, K, max_T):\n",
        "    beam_searcher = BeamSearcher(self)\n",
        "    source = torch.tensor([[self.src_field.vocab.stoi[t]] for t in tokens], device=device)\n",
        "    prediction, _ = beam_searcher.beam_search(source, torch.tensor([len(source)]), K, max_T)\n",
        "    prediction = ' '.join([TGT.vocab.itos[token] for token in prediction])\n",
        "    return prediction.lstrip('<bos>').rstrip('<eos>').strip()"
      ],
      "metadata": {
        "id": "bziYdBqQ6cUc"
      },
      "id": "bziYdBqQ6cUc",
      "execution_count": 101,
      "outputs": []
    },
    {
      "cell_type": "code",
      "metadata": {
        "id": "5c794758",
        "colab": {
          "base_uri": "https://localhost:8080/",
          "height": 0
        },
        "outputId": "8afa4700-bda2-4309-cc29-76e3ab1de0c7"
      },
      "source": [
        "EPOCHS = 50 # epochs, we recommend starting with a smaller number like 1\n",
        "LEARNING_RATE = 1e-4 # learning rate\n",
        "\n",
        "# Instantiate and train classifier\n",
        "model2 = AttnEncoderDecoder2(SRC, TGT,\n",
        "  hidden_size    = 1024,\n",
        "  layers         = 1,\n",
        ").to(device)\n",
        "\n",
        "model2.train_all(train_iter, val_iter, epochs=EPOCHS, learning_rate=LEARNING_RATE)\n",
        "model2.load_state_dict(model2.best_model)\n",
        "\n",
        "# Evaluate model performance, the expected value should be < 1.2\n",
        "print (f'Validation perplexity: {model2.evaluate_ppl(val_iter):.3f}')"
      ],
      "id": "5c794758",
      "execution_count": 105,
      "outputs": [
        {
          "output_type": "stream",
          "name": "stderr",
          "text": [
            "100%|██████████| 229/229 [01:23<00:00,  2.74it/s]\n"
          ]
        },
        {
          "output_type": "stream",
          "name": "stdout",
          "text": [
            "Epoch: 0 Training Perplexity: 4.1771 Validation Perplexity: 1.8814\n"
          ]
        },
        {
          "output_type": "stream",
          "name": "stderr",
          "text": [
            "100%|██████████| 229/229 [01:23<00:00,  2.73it/s]\n"
          ]
        },
        {
          "output_type": "stream",
          "name": "stdout",
          "text": [
            "Epoch: 1 Training Perplexity: 1.6052 Validation Perplexity: 1.5430\n"
          ]
        },
        {
          "output_type": "stream",
          "name": "stderr",
          "text": [
            "100%|██████████| 229/229 [01:23<00:00,  2.74it/s]\n"
          ]
        },
        {
          "output_type": "stream",
          "name": "stdout",
          "text": [
            "Epoch: 2 Training Perplexity: 1.3946 Validation Perplexity: 1.3822\n"
          ]
        },
        {
          "output_type": "stream",
          "name": "stderr",
          "text": [
            "100%|██████████| 229/229 [01:23<00:00,  2.73it/s]\n"
          ]
        },
        {
          "output_type": "stream",
          "name": "stdout",
          "text": [
            "Epoch: 3 Training Perplexity: 1.2964 Validation Perplexity: 1.3072\n"
          ]
        },
        {
          "output_type": "stream",
          "name": "stderr",
          "text": [
            "100%|██████████| 229/229 [01:23<00:00,  2.75it/s]\n"
          ]
        },
        {
          "output_type": "stream",
          "name": "stdout",
          "text": [
            "Epoch: 4 Training Perplexity: 1.2418 Validation Perplexity: 1.2627\n"
          ]
        },
        {
          "output_type": "stream",
          "name": "stderr",
          "text": [
            "100%|██████████| 229/229 [01:24<00:00,  2.70it/s]\n"
          ]
        },
        {
          "output_type": "stream",
          "name": "stdout",
          "text": [
            "Epoch: 5 Training Perplexity: 1.1934 Validation Perplexity: 1.2235\n"
          ]
        },
        {
          "output_type": "stream",
          "name": "stderr",
          "text": [
            "100%|██████████| 229/229 [01:22<00:00,  2.76it/s]\n"
          ]
        },
        {
          "output_type": "stream",
          "name": "stdout",
          "text": [
            "Epoch: 6 Training Perplexity: 1.1645 Validation Perplexity: 1.2037\n"
          ]
        },
        {
          "output_type": "stream",
          "name": "stderr",
          "text": [
            "100%|██████████| 229/229 [01:22<00:00,  2.77it/s]\n"
          ]
        },
        {
          "output_type": "stream",
          "name": "stdout",
          "text": [
            "Epoch: 7 Training Perplexity: 1.1436 Validation Perplexity: 1.1928\n"
          ]
        },
        {
          "output_type": "stream",
          "name": "stderr",
          "text": [
            "100%|██████████| 229/229 [01:22<00:00,  2.76it/s]\n"
          ]
        },
        {
          "output_type": "stream",
          "name": "stdout",
          "text": [
            "Epoch: 8 Training Perplexity: 1.1246 Validation Perplexity: 1.1780\n"
          ]
        },
        {
          "output_type": "stream",
          "name": "stderr",
          "text": [
            "100%|██████████| 229/229 [01:24<00:00,  2.72it/s]\n"
          ]
        },
        {
          "output_type": "stream",
          "name": "stdout",
          "text": [
            "Epoch: 9 Training Perplexity: 1.1099 Validation Perplexity: 1.1594\n"
          ]
        },
        {
          "output_type": "stream",
          "name": "stderr",
          "text": [
            "100%|██████████| 229/229 [01:23<00:00,  2.73it/s]\n"
          ]
        },
        {
          "output_type": "stream",
          "name": "stdout",
          "text": [
            "Epoch: 10 Training Perplexity: 1.0939 Validation Perplexity: 1.1634\n"
          ]
        },
        {
          "output_type": "stream",
          "name": "stderr",
          "text": [
            "100%|██████████| 229/229 [01:22<00:00,  2.76it/s]\n"
          ]
        },
        {
          "output_type": "stream",
          "name": "stdout",
          "text": [
            "Epoch: 11 Training Perplexity: 1.0877 Validation Perplexity: 1.1472\n"
          ]
        },
        {
          "output_type": "stream",
          "name": "stderr",
          "text": [
            "100%|██████████| 229/229 [01:24<00:00,  2.72it/s]\n"
          ]
        },
        {
          "output_type": "stream",
          "name": "stdout",
          "text": [
            "Epoch: 12 Training Perplexity: 1.0752 Validation Perplexity: 1.1468\n"
          ]
        },
        {
          "output_type": "stream",
          "name": "stderr",
          "text": [
            "100%|██████████| 229/229 [01:24<00:00,  2.72it/s]\n"
          ]
        },
        {
          "output_type": "stream",
          "name": "stdout",
          "text": [
            "Epoch: 13 Training Perplexity: 1.0658 Validation Perplexity: 1.1382\n"
          ]
        },
        {
          "output_type": "stream",
          "name": "stderr",
          "text": [
            "100%|██████████| 229/229 [01:23<00:00,  2.73it/s]\n"
          ]
        },
        {
          "output_type": "stream",
          "name": "stdout",
          "text": [
            "Epoch: 14 Training Perplexity: 1.0599 Validation Perplexity: 1.1335\n"
          ]
        },
        {
          "output_type": "stream",
          "name": "stderr",
          "text": [
            "100%|██████████| 229/229 [01:23<00:00,  2.73it/s]\n"
          ]
        },
        {
          "output_type": "stream",
          "name": "stdout",
          "text": [
            "Epoch: 15 Training Perplexity: 1.0558 Validation Perplexity: 1.1345\n"
          ]
        },
        {
          "output_type": "stream",
          "name": "stderr",
          "text": [
            "100%|██████████| 229/229 [01:22<00:00,  2.78it/s]\n"
          ]
        },
        {
          "output_type": "stream",
          "name": "stdout",
          "text": [
            "Epoch: 16 Training Perplexity: 1.0492 Validation Perplexity: 1.1320\n"
          ]
        },
        {
          "output_type": "stream",
          "name": "stderr",
          "text": [
            "100%|██████████| 229/229 [01:23<00:00,  2.74it/s]\n"
          ]
        },
        {
          "output_type": "stream",
          "name": "stdout",
          "text": [
            "Epoch: 17 Training Perplexity: 1.0466 Validation Perplexity: 1.1344\n"
          ]
        },
        {
          "output_type": "stream",
          "name": "stderr",
          "text": [
            "100%|██████████| 229/229 [01:23<00:00,  2.75it/s]\n"
          ]
        },
        {
          "output_type": "stream",
          "name": "stdout",
          "text": [
            "Epoch: 18 Training Perplexity: 1.0466 Validation Perplexity: 1.1284\n"
          ]
        },
        {
          "output_type": "stream",
          "name": "stderr",
          "text": [
            "100%|██████████| 229/229 [01:23<00:00,  2.75it/s]\n"
          ]
        },
        {
          "output_type": "stream",
          "name": "stdout",
          "text": [
            "Epoch: 19 Training Perplexity: 1.0400 Validation Perplexity: 1.1199\n"
          ]
        },
        {
          "output_type": "stream",
          "name": "stderr",
          "text": [
            "100%|██████████| 229/229 [01:21<00:00,  2.80it/s]\n"
          ]
        },
        {
          "output_type": "stream",
          "name": "stdout",
          "text": [
            "Epoch: 20 Training Perplexity: 1.0310 Validation Perplexity: 1.1159\n"
          ]
        },
        {
          "output_type": "stream",
          "name": "stderr",
          "text": [
            "100%|██████████| 229/229 [01:23<00:00,  2.73it/s]\n"
          ]
        },
        {
          "output_type": "stream",
          "name": "stdout",
          "text": [
            "Epoch: 21 Training Perplexity: 1.0281 Validation Perplexity: 1.1155\n"
          ]
        },
        {
          "output_type": "stream",
          "name": "stderr",
          "text": [
            "100%|██████████| 229/229 [01:23<00:00,  2.73it/s]\n"
          ]
        },
        {
          "output_type": "stream",
          "name": "stdout",
          "text": [
            "Epoch: 22 Training Perplexity: 1.0242 Validation Perplexity: 1.1177\n"
          ]
        },
        {
          "output_type": "stream",
          "name": "stderr",
          "text": [
            "100%|██████████| 229/229 [01:23<00:00,  2.73it/s]\n"
          ]
        },
        {
          "output_type": "stream",
          "name": "stdout",
          "text": [
            "Epoch: 23 Training Perplexity: 1.0278 Validation Perplexity: 1.1311\n"
          ]
        },
        {
          "output_type": "stream",
          "name": "stderr",
          "text": [
            "100%|██████████| 229/229 [01:23<00:00,  2.74it/s]\n"
          ]
        },
        {
          "output_type": "stream",
          "name": "stdout",
          "text": [
            "Epoch: 24 Training Perplexity: 1.0267 Validation Perplexity: 1.1407\n"
          ]
        },
        {
          "output_type": "stream",
          "name": "stderr",
          "text": [
            "100%|██████████| 229/229 [01:23<00:00,  2.74it/s]\n"
          ]
        },
        {
          "output_type": "stream",
          "name": "stdout",
          "text": [
            "Epoch: 25 Training Perplexity: 1.0229 Validation Perplexity: 1.1136\n"
          ]
        },
        {
          "output_type": "stream",
          "name": "stderr",
          "text": [
            "100%|██████████| 229/229 [01:24<00:00,  2.72it/s]\n"
          ]
        },
        {
          "output_type": "stream",
          "name": "stdout",
          "text": [
            "Epoch: 26 Training Perplexity: 1.0193 Validation Perplexity: 1.1195\n"
          ]
        },
        {
          "output_type": "stream",
          "name": "stderr",
          "text": [
            "100%|██████████| 229/229 [01:22<00:00,  2.76it/s]\n"
          ]
        },
        {
          "output_type": "stream",
          "name": "stdout",
          "text": [
            "Epoch: 27 Training Perplexity: 1.0214 Validation Perplexity: 1.1194\n"
          ]
        },
        {
          "output_type": "stream",
          "name": "stderr",
          "text": [
            "100%|██████████| 229/229 [01:24<00:00,  2.72it/s]\n"
          ]
        },
        {
          "output_type": "stream",
          "name": "stdout",
          "text": [
            "Epoch: 28 Training Perplexity: 1.0203 Validation Perplexity: 1.1138\n"
          ]
        },
        {
          "output_type": "stream",
          "name": "stderr",
          "text": [
            "100%|██████████| 229/229 [01:22<00:00,  2.77it/s]\n"
          ]
        },
        {
          "output_type": "stream",
          "name": "stdout",
          "text": [
            "Epoch: 29 Training Perplexity: 1.0166 Validation Perplexity: 1.1090\n"
          ]
        },
        {
          "output_type": "stream",
          "name": "stderr",
          "text": [
            "100%|██████████| 229/229 [01:22<00:00,  2.78it/s]\n"
          ]
        },
        {
          "output_type": "stream",
          "name": "stdout",
          "text": [
            "Epoch: 30 Training Perplexity: 1.0145 Validation Perplexity: 1.1152\n"
          ]
        },
        {
          "output_type": "stream",
          "name": "stderr",
          "text": [
            "100%|██████████| 229/229 [01:23<00:00,  2.75it/s]\n"
          ]
        },
        {
          "output_type": "stream",
          "name": "stdout",
          "text": [
            "Epoch: 31 Training Perplexity: 1.0135 Validation Perplexity: 1.1210\n"
          ]
        },
        {
          "output_type": "stream",
          "name": "stderr",
          "text": [
            "100%|██████████| 229/229 [01:23<00:00,  2.73it/s]\n"
          ]
        },
        {
          "output_type": "stream",
          "name": "stdout",
          "text": [
            "Epoch: 32 Training Perplexity: 1.0140 Validation Perplexity: 1.1190\n"
          ]
        },
        {
          "output_type": "stream",
          "name": "stderr",
          "text": [
            "100%|██████████| 229/229 [01:23<00:00,  2.73it/s]\n"
          ]
        },
        {
          "output_type": "stream",
          "name": "stdout",
          "text": [
            "Epoch: 33 Training Perplexity: 1.0152 Validation Perplexity: 1.1154\n"
          ]
        },
        {
          "output_type": "stream",
          "name": "stderr",
          "text": [
            "100%|██████████| 229/229 [01:23<00:00,  2.75it/s]\n"
          ]
        },
        {
          "output_type": "stream",
          "name": "stdout",
          "text": [
            "Epoch: 34 Training Perplexity: 1.0112 Validation Perplexity: 1.1174\n"
          ]
        },
        {
          "output_type": "stream",
          "name": "stderr",
          "text": [
            "100%|██████████| 229/229 [01:23<00:00,  2.76it/s]\n"
          ]
        },
        {
          "output_type": "stream",
          "name": "stdout",
          "text": [
            "Epoch: 35 Training Perplexity: 1.0132 Validation Perplexity: 1.1123\n"
          ]
        },
        {
          "output_type": "stream",
          "name": "stderr",
          "text": [
            "100%|██████████| 229/229 [01:23<00:00,  2.74it/s]\n"
          ]
        },
        {
          "output_type": "stream",
          "name": "stdout",
          "text": [
            "Epoch: 36 Training Perplexity: 1.0127 Validation Perplexity: 1.1213\n"
          ]
        },
        {
          "output_type": "stream",
          "name": "stderr",
          "text": [
            "100%|██████████| 229/229 [01:23<00:00,  2.74it/s]\n"
          ]
        },
        {
          "output_type": "stream",
          "name": "stdout",
          "text": [
            "Epoch: 37 Training Perplexity: 1.0112 Validation Perplexity: 1.1175\n"
          ]
        },
        {
          "output_type": "stream",
          "name": "stderr",
          "text": [
            "100%|██████████| 229/229 [01:24<00:00,  2.71it/s]\n"
          ]
        },
        {
          "output_type": "stream",
          "name": "stdout",
          "text": [
            "Epoch: 38 Training Perplexity: 1.0102 Validation Perplexity: 1.1199\n"
          ]
        },
        {
          "output_type": "stream",
          "name": "stderr",
          "text": [
            "100%|██████████| 229/229 [01:23<00:00,  2.75it/s]\n"
          ]
        },
        {
          "output_type": "stream",
          "name": "stdout",
          "text": [
            "Epoch: 39 Training Perplexity: 1.0106 Validation Perplexity: 1.1181\n"
          ]
        },
        {
          "output_type": "stream",
          "name": "stderr",
          "text": [
            "100%|██████████| 229/229 [01:23<00:00,  2.74it/s]\n"
          ]
        },
        {
          "output_type": "stream",
          "name": "stdout",
          "text": [
            "Epoch: 40 Training Perplexity: 1.0130 Validation Perplexity: 1.1191\n"
          ]
        },
        {
          "output_type": "stream",
          "name": "stderr",
          "text": [
            "100%|██████████| 229/229 [01:22<00:00,  2.78it/s]\n"
          ]
        },
        {
          "output_type": "stream",
          "name": "stdout",
          "text": [
            "Epoch: 41 Training Perplexity: 1.0132 Validation Perplexity: 1.1189\n"
          ]
        },
        {
          "output_type": "stream",
          "name": "stderr",
          "text": [
            "100%|██████████| 229/229 [01:22<00:00,  2.76it/s]\n"
          ]
        },
        {
          "output_type": "stream",
          "name": "stdout",
          "text": [
            "Epoch: 42 Training Perplexity: 1.0092 Validation Perplexity: 1.1125\n"
          ]
        },
        {
          "output_type": "stream",
          "name": "stderr",
          "text": [
            "100%|██████████| 229/229 [01:24<00:00,  2.71it/s]\n"
          ]
        },
        {
          "output_type": "stream",
          "name": "stdout",
          "text": [
            "Epoch: 43 Training Perplexity: 1.0086 Validation Perplexity: 1.1153\n"
          ]
        },
        {
          "output_type": "stream",
          "name": "stderr",
          "text": [
            "100%|██████████| 229/229 [01:24<00:00,  2.72it/s]\n"
          ]
        },
        {
          "output_type": "stream",
          "name": "stdout",
          "text": [
            "Epoch: 44 Training Perplexity: 1.0070 Validation Perplexity: 1.1190\n"
          ]
        },
        {
          "output_type": "stream",
          "name": "stderr",
          "text": [
            "100%|██████████| 229/229 [01:23<00:00,  2.73it/s]\n"
          ]
        },
        {
          "output_type": "stream",
          "name": "stdout",
          "text": [
            "Epoch: 45 Training Perplexity: 1.0062 Validation Perplexity: 1.1179\n"
          ]
        },
        {
          "output_type": "stream",
          "name": "stderr",
          "text": [
            "100%|██████████| 229/229 [01:23<00:00,  2.76it/s]\n"
          ]
        },
        {
          "output_type": "stream",
          "name": "stdout",
          "text": [
            "Epoch: 46 Training Perplexity: 1.0073 Validation Perplexity: 1.1213\n"
          ]
        },
        {
          "output_type": "stream",
          "name": "stderr",
          "text": [
            "100%|██████████| 229/229 [01:22<00:00,  2.77it/s]\n"
          ]
        },
        {
          "output_type": "stream",
          "name": "stdout",
          "text": [
            "Epoch: 47 Training Perplexity: 1.0066 Validation Perplexity: 1.1162\n"
          ]
        },
        {
          "output_type": "stream",
          "name": "stderr",
          "text": [
            "100%|██████████| 229/229 [01:23<00:00,  2.73it/s]\n"
          ]
        },
        {
          "output_type": "stream",
          "name": "stdout",
          "text": [
            "Epoch: 48 Training Perplexity: 1.0069 Validation Perplexity: 1.1189\n"
          ]
        },
        {
          "output_type": "stream",
          "name": "stderr",
          "text": [
            "100%|██████████| 229/229 [01:22<00:00,  2.76it/s]\n"
          ]
        },
        {
          "output_type": "stream",
          "name": "stdout",
          "text": [
            "Epoch: 49 Training Perplexity: 1.0087 Validation Perplexity: 1.1297\n",
            "Validation perplexity: 1.110\n"
          ]
        }
      ]
    },
    {
      "cell_type": "markdown",
      "metadata": {
        "id": "f16694cf"
      },
      "source": [
        "### Evaluation\n",
        "\n",
        "Now we are ready to run the full evaluation. A proper implementation should reach more than 35% precision/recall/F1."
      ],
      "id": "f16694cf"
    },
    {
      "cell_type": "code",
      "metadata": {
        "id": "6afaf1cb"
      },
      "source": [
        "def seq2seq_predictor2(tokens):\n",
        "  prediction = model2.predict(tokens, K=1, max_T=400)\n",
        "  return prediction"
      ],
      "id": "6afaf1cb",
      "execution_count": 106,
      "outputs": []
    },
    {
      "cell_type": "code",
      "metadata": {
        "id": "bddaf61a",
        "colab": {
          "base_uri": "https://localhost:8080/",
          "height": 0
        },
        "outputId": "f671ab83-a3dc-41c3-8251-83ab0882341e"
      },
      "source": [
        "precision, recall, f1 = evaluate(seq2seq_predictor2, test_iter.dataset, num_examples=0)\n",
        "print(f\"precision: {precision:3.2f}\")\n",
        "print(f\"recall:    {recall:3.2f}\")\n",
        "print(f\"F1:        {f1:3.2f}\")"
      ],
      "id": "bddaf61a",
      "execution_count": 107,
      "outputs": [
        {
          "output_type": "stream",
          "name": "stderr",
          "text": [
            "100%|██████████| 332/332 [00:56<00:00,  5.87it/s]"
          ]
        },
        {
          "output_type": "stream",
          "name": "stdout",
          "text": [
            "precision: 0.39\n",
            "recall:    0.39\n",
            "F1:        0.39\n"
          ]
        },
        {
          "output_type": "stream",
          "name": "stderr",
          "text": [
            "\n"
          ]
        }
      ]
    },
    {
      "cell_type": "markdown",
      "metadata": {
        "id": "874edc55"
      },
      "source": [
        "# Discussion"
      ],
      "id": "874edc55"
    },
    {
      "cell_type": "markdown",
      "metadata": {
        "deletable": false,
        "editable": false,
        "id": "c4f5c727"
      },
      "source": [
        "<!-- BEGIN QUESTION -->\n",
        "\n",
        "## Goal 4: Compare the pros and cons of rule-based and neural approaches.\n",
        "\n",
        "Compare the pros and cons of the rule-based approach and the neural approaches with relevant examples from your experiments above. Concerning the accuracy, which approach would you choose to be used in a product? Explain.\n",
        "<!--\n",
        "BEGIN QUESTION\n",
        "name: open_response_comp\n",
        "manual: true\n",
        "-->"
      ],
      "id": "c4f5c727"
    },
    {
      "cell_type": "markdown",
      "metadata": {
        "id": "59a1b21a"
      },
      "source": [
        "There are several benefits of the rules based approach. First it does not require vast amounts of training data to implement. If you have the correct understanding of the desired output, you require no training data to implement a rules based approach. The rules based approach also, while perhaps time consuming to create and specify each rule, requires no time to train since there is no training data. This is comparison to the neural approaches which can require vast amounts of training data and take large amounts of time and computation recourses to train, which might not be feasible on some problems.\n",
        "\n",
        "The other area where a rules based approach could have an advantage opposed to a neural approach, is when the sentences get longer than the neural approach has been trained on. Consider the sentence \"show me united flights on sunday from new york to los angeles that arrive before 5pm\". The neural model has never seen a training example of this length and therefore will not provide an accuracte prediction. While the rules based approach has correctly made rules for all of these subqueries within the query and thus will create an accurate prediction. See this example and more demonstrated below. The reliance on the training data can be both a weakness and a strength of the neural approach.\n",
        "\n",
        "One place that a neural approach could have an advantage is both when the system of rules of a language is too complex to fully detail through the rules based approach. In this project we are confining our queries to questions which one would ask a travel agent, and already the rules based approach is very complex. However, this is nothing compared to the complexity of the human language, and there a rules based approach where one would have to detail every logical relation imaginable would not be feasible. The other advantage that a neural approach could have is when queries have typos or have never been encountered before. See examples of this detailed below. A neural approach could look at a query and use similiar training data to predict a response, however the rules based approach can not do this and therefore will fail to give a response when faced with a typo or different phrasing than it has been programmed to handle.\n",
        "\n",
        "There is also the tradeoff between precision and recall between the rules based and neural approach. As we see in this lab, the enumeration of all possible inputs with the rule based approach leads to a higher precision and lower recall then than the neural approachess. However, the neural approach without self attention achieves a higher overall F1 score of .43, while the one with self attention achieves a similar F1 of .39 score compared to the rules based approach with an F1 of .39. This suggests that with neural models better coverage and F1 score is perhaps easier to achieve, but it might come at the cost of a lower precision compared to the rules based approach.\n",
        "\n",
        "Overall it is impossible to say which I would use in a product without knowing the details of the product and the natrual language that I am attempting to parse. If the product does not have training data than my only option is the rules based approach. If the product is using a simpler, limited language that all possibilites can be fully enumerated then again a rules based approach might be superior. But as the langauge gets more complex and the amount of training data available grows a neural approach would likely become superior. For some products the best option might be to combine both approaches, combining both the scalability and deterministic nature of the rules based approach with the flexibility of the neural approach. However again this will depend on the specific of the product and what recourses we have access to\n"
      ],
      "id": "59a1b21a"
    },
    {
      "cell_type": "code",
      "source": [
        "def verify2(predicted_sql, gold_sql, silent=True):\n",
        "  \"\"\"\n",
        "  Compare the correctness of the generated SQL by executing on the \n",
        "  ATIS database and comparing the returned results.\n",
        "  Arguments:\n",
        "      predicted_sql: the predicted SQL query\n",
        "      gold_sql: the reference SQL query to compare against\n",
        "      silent: print outputs or not\n",
        "  Returns: True if the returned results are the same, otherwise False\n",
        "  \"\"\"\n",
        "  # Execute predicted SQL\n",
        "  try:\n",
        "    predicted_result = execute_sql(predicted_sql)\n",
        "  except BaseException as e:\n",
        "    if not silent:\n",
        "      print(f\"Rules exec failed: {e}\")\n",
        "    return False\n",
        "  if not silent:\n",
        "    print(\"Rules result:\\n\\n\", predicted_result[:10], \"\\n\")\n",
        "\n",
        "  # Execute gold SQL\n",
        "  try:\n",
        "    gold_result = execute_sql(gold_sql)\n",
        "  except BaseException as e:\n",
        "    if not silent:\n",
        "      print(f\"Neural exec failed: {e}\")\n",
        "    return False\n",
        "  if not silent:\n",
        "    print(\"Neural result:\\n\\n\", gold_result[:10], \"\\n\")\n",
        "  \n",
        "  # Verify correctness\n",
        "  if gold_result == predicted_result:\n",
        "    return True"
      ],
      "metadata": {
        "id": "wggQ-Gpahfdz"
      },
      "id": "wggQ-Gpahfdz",
      "execution_count": 201,
      "outputs": []
    },
    {
      "cell_type": "code",
      "source": [
        "#Example 1 which shows that the rules based approach can give a result on\n",
        "#longer sentences, when the neural approach cannot \n",
        "sample_query1 = \"show me united flights on sunday from new york to los angeles that arrive before 5pm\"\n",
        "rules_based1 = interpret(parse_tree(sample_query1), atis_augmentations)\n",
        "print(\"Rules Predicted SQL:\\n\\n\", rules_based1, \"\\n\")\n",
        "\n",
        "neural_based1 = model2.predict(tokenize(sample_query1), K=1, max_T=400)\n",
        "print(\"Neural Predicted SQL:\\n\\n\", neural_based1, \"\\n\")\n",
        "\n",
        "verify2(rules_based1, neural_based1, silent = False)"
      ],
      "metadata": {
        "colab": {
          "base_uri": "https://localhost:8080/",
          "height": 0
        },
        "id": "2AsAx6m9YJ-e",
        "outputId": "7ce31501-ad76-416c-cdf9-c375ebb2f797"
      },
      "id": "2AsAx6m9YJ-e",
      "execution_count": 208,
      "outputs": [
        {
          "output_type": "stream",
          "name": "stdout",
          "text": [
            "Rules Predicted SQL:\n",
            "\n",
            " \n",
            "    SELECT DISTINCT flight.flight_id FROM flight WHERE \n",
            "    (\n",
            "    (flight.arrival_time < 1700 AND \n",
            "    (\n",
            "    flight.to_airport IN \n",
            "    (SELECT airport_service.airport_code FROM airport_service WHERE airport_service.city_code IN\n",
            "      (SELECT city.city_code FROM city WHERE city.city_name = \"LOS ANGELES\"))\n",
            "  \n",
            "   AND \n",
            "    (\n",
            "    flight.from_airport IN \n",
            "    (SELECT airport_service.airport_code FROM airport_service WHERE airport_service.city_code IN\n",
            "      (SELECT city.city_code FROM city WHERE city.city_name = \"NEW YORK\"))\n",
            "  \n",
            "   AND \n",
            "    (flight.flight_days IN (SELECT days.days_code FROM days WHERE days.day_name = 'SUNDAY') AND 1)\n",
            "  )\n",
            "  )\n",
            "  )\n",
            "   AND \n",
            "    flight.airline_code = 'UA'\n",
            "  )\n",
            "  \n",
            "   \n",
            "\n",
            "Neural Predicted SQL:\n",
            "\n",
            " SELECT DISTINCT flight_1.flight_id FROM flight flight_1 , airport_service airport_service_1 , city city_1 , airport_service airport_service_2 , city city_2 , days days_1 , date_day date_day_1 WHERE flight_1.from_airport = airport_service_1.airport_code AND airport_service_1.city_code = city_1.city_code AND city_1.city_name = 'NEW YORK' AND ( flight_1.to_airport = airport_service_2.airport_code AND airport_service_2.city_code = city_2.city_code AND city_2.city_name = 'LOS ANGELES' AND ( ( flight_1.arrival_time < 1600 AND ( flight_1.flight_days = days_1.days_code AND days_1.day_name = date_day_1.day_name AND date_day_1.year = 1991 AND date_day_1.month_number = 5 AND date_day_1.day_number = 24 AND ( flight_1.arrival_time < flight_1.departure_time AND 1 = 1 ) ) ) OR ( flight_1.flight_days = days_1.days_code AND days_1.day_name = date_day_1.day_name AND date_day_1.year = 1991 AND date_day_1.month_number = 5 AND date_day_1.day_number = 24 AND ( flight_1.departure_time < flight_1.departure_time AND 1 = 1 ) ) ) ) ) \n",
            "\n",
            "Rules result:\n",
            "\n",
            " [(105946,), (105949,), (105951,), (105960,), (105995,), (105998,), (106002,), (302247,), (304509,), (304510,)] \n",
            "\n",
            "Neural exec failed: near \")\": syntax error\n"
          ]
        },
        {
          "output_type": "execute_result",
          "data": {
            "text/plain": [
              "False"
            ]
          },
          "metadata": {},
          "execution_count": 208
        }
      ]
    },
    {
      "cell_type": "code",
      "source": [
        "#Example 2 which shows that the rules based approach can give a result on\n",
        "#longer sentences, when the neural approach cannot \n",
        "sample_query2 = \"show me american flights on tuesday that arrive before 10pm between boston and charlotte\"\n",
        "rules_based2 = interpret(parse_tree(sample_query2), atis_augmentations)\n",
        "print(\"Rules Predicted SQL:\\n\\n\", rules_based2, \"\\n\")\n",
        "\n",
        "neural_based2 = model2.predict(tokenize(sample_query2), K=1, max_T=400)\n",
        "print(\"Neural Predicted SQL:\\n\\n\", neural_based2, \"\\n\")\n",
        "\n",
        "verify2(rules_based2, neural_based2, silent = False)"
      ],
      "metadata": {
        "colab": {
          "base_uri": "https://localhost:8080/",
          "height": 0
        },
        "id": "AT4r8K5SgXJE",
        "outputId": "f5422e86-b949-4c93-a359-b87ff58f9c7e"
      },
      "id": "AT4r8K5SgXJE",
      "execution_count": 209,
      "outputs": [
        {
          "output_type": "stream",
          "name": "stdout",
          "text": [
            "Rules Predicted SQL:\n",
            "\n",
            " \n",
            "    SELECT DISTINCT flight.flight_id FROM flight WHERE \n",
            "    (\n",
            "    (\n",
            "    (\n",
            "    flight.from_airport IN \n",
            "    (SELECT airport_service.airport_code FROM airport_service WHERE airport_service.city_code IN\n",
            "      (SELECT city.city_code FROM city WHERE city.city_name = \"BOSTON\"))\n",
            "  \n",
            "   AND \n",
            "    flight.to_airport IN \n",
            "    (SELECT airport_service.airport_code FROM airport_service WHERE airport_service.city_code IN\n",
            "      (SELECT city.city_code FROM city WHERE city.city_name = \"CHARLOTTE\"))\n",
            "  \n",
            "  )\n",
            "   AND \n",
            "    (flight.arrival_time < 2200 AND \n",
            "    (flight.flight_days IN (SELECT days.days_code FROM days WHERE days.day_name = 'TUESDAY') AND 1)\n",
            "  )\n",
            "  )\n",
            "   AND \n",
            "    flight.airline_code = 'AA'\n",
            "  )\n",
            "  \n",
            "   \n",
            "\n",
            "Neural Predicted SQL:\n",
            "\n",
            " SELECT DISTINCT flight_1.flight_id FROM flight flight_1 , airport_service airport_service_1 , city city_1 , airport_service airport_service_2 , city city_2 , days days_1 , date_day date_day_1 WHERE flight_1.airline_code = 'AA' AND ( flight_1.from_airport = airport_service_1.airport_code AND airport_service_1.city_code = city_1.city_code AND city_1.city_name = 'BOSTON' AND ( flight_1.to_airport = airport_service_2.airport_code AND airport_service_2.city_code = city_2.city_code AND city_2.city_name = 'CHARLOTTE' AND ( flight_1.flight_days = days_1.days_code AND days_1.day_name = date_day_1.day_name AND date_day_1.year = 1991 AND date_day_1.month_number = 3 AND date_day_1.day_number = 22 AND ( flight_1.arrival_time < flight_1.departure_time AND 1 = 1 ) ) ) OR ( flight_1.arrival_time < flight_1.departure_time AND 1 = 1 ) ) ) ) ) \n",
            "\n",
            "Rules result:\n",
            "\n",
            " [] \n",
            "\n",
            "Neural exec failed: near \")\": syntax error\n"
          ]
        },
        {
          "output_type": "execute_result",
          "data": {
            "text/plain": [
              "False"
            ]
          },
          "metadata": {},
          "execution_count": 209
        }
      ]
    },
    {
      "cell_type": "code",
      "source": [
        "#Example 3 which shows that a neural based approach will predict a sentence \n",
        "#when faced with a typo while the rules based will fail\n",
        "sample_query3 = \"show me all unied flights from boston\"\n",
        "try:\n",
        "  rules_based3 = interpret(parse_tree(sample_query3), atis_augmentations)\n",
        "  print(\"Rules Predicted SQL:\\n\\n\", rules_based3, \"\\n\")\n",
        "except:\n",
        "  print(\"The rules based approach was unable to parse this sentence\")\n",
        "neural_based3 = model2.predict(tokenize(sample_query3), K=1, max_T=400)\n",
        "print(\"Neural Predicted SQL:\\n\\n\", neural_based3, \"\\n\")"
      ],
      "metadata": {
        "colab": {
          "base_uri": "https://localhost:8080/",
          "height": 0
        },
        "id": "3v3VilGChDb8",
        "outputId": "7ec74ec9-b7d5-4d93-df5b-6bc3d812e569"
      },
      "id": "3v3VilGChDb8",
      "execution_count": 210,
      "outputs": [
        {
          "output_type": "stream",
          "name": "stdout",
          "text": [
            "The rules based approach was unable to parse this sentence\n",
            "Neural Predicted SQL:\n",
            "\n",
            " SELECT DISTINCT flight_1.flight_id FROM flight flight_1 , airport_service airport_service_1 , city city_1 , airport_service airport_service_2 , city city_2 WHERE flight_1.from_airport = airport_service_1.airport_code AND airport_service_1.city_code = city_1.city_code AND city_1.city_name = 'BOSTON' AND ( flight_1.to_airport = airport_service_2.airport_code AND airport_service_2.city_code = city_2.city_code AND city_2.city_name = 'BOSTON' AND flight_1.departure_time = <unk> ) \n",
            "\n"
          ]
        }
      ]
    },
    {
      "cell_type": "code",
      "source": [
        "#Example 4 which shows that a neural based approach will predict a sentence \n",
        "#when faced with a unique structure while the rules based will fail\n",
        "sample_query4 = \"united flights, list all of them from boston \"\n",
        "try:\n",
        "  rules_based4 = interpret(parse_tree(sample_query4), atis_augmentations)\n",
        "  print(\"Rules Predicted SQL:\\n\\n\", rules_based4, \"\\n\")\n",
        "except:\n",
        "  print(\"The rules based approach was unable to parse this sentence\")\n",
        "neural_based4 = model2.predict(tokenize(sample_query4), K=1, max_T=400)\n",
        "print(\"Neural Predicted SQL:\\n\\n\", neural_based4, \"\\n\")"
      ],
      "metadata": {
        "colab": {
          "base_uri": "https://localhost:8080/",
          "height": 0
        },
        "id": "F244CkFRiqkT",
        "outputId": "4fcd6f89-9c19-4fb3-a85f-e81efd52273c"
      },
      "id": "F244CkFRiqkT",
      "execution_count": 212,
      "outputs": [
        {
          "output_type": "stream",
          "name": "stdout",
          "text": [
            "The rules based approach was unable to parse this sentence\n",
            "Neural Predicted SQL:\n",
            "\n",
            " SELECT DISTINCT flight_1.flight_id FROM flight flight_1 , airport_service airport_service_1 , city city_1 WHERE flight_1.airline_code = 'UA' AND ( flight_1.from_airport = airport_service_1.airport_code AND airport_service_1.city_code = city_1.city_code AND city_1.city_name = 'BOSTON' AND flight_1.to_airport = airport_service_2.airport_code AND airport_service_2.city_code = city_2.city_code AND city_2.city_name = 'BOSTON' ) \n",
            "\n"
          ]
        }
      ]
    },
    {
      "cell_type": "markdown",
      "metadata": {
        "id": "cf7005e0"
      },
      "source": [
        "<!-- END QUESTION -->\n",
        "\n",
        "\n",
        "\n",
        "## (Optional) Goal 5: Use state-of-the-art pretrained transformers\n",
        "\n",
        "\n",
        "The most recent breakthrough in natural-language processing stems from the use of pretrained transformer models. For example, you might have heard of pretrained transformers such as [GPT-3](https://arxiv.org/abs/2005.14165) and [BERT](https://arxiv.org/abs/1810.04805). (BERT is already used in [Google search](https://searchengineland.com/google-bert-used-on-almost-every-english-query-342193).) These models are usually trained on vast amounts of text data using variants of language modeling objectives, and researchers have found that finetuning them on downstream tasks usually results in better performance as compared to training a model from scratch.\n",
        "\n",
        "In the previous part, you implemented an LSTM-based sequence-to-sequence approach. To \"upgrade\" the model to be a state-of-the-art pretrained transformer only requires minor modifications.\n",
        "\n",
        "The pretrained model that we will use is [BART](https://arxiv.org/abs/1910.13461), which uses a bidirectional transformer encoder and a unidirectional transformer decoder, as illustrated in the below diagram (image courtesy https://arxiv.org/pdf/1910.13461):\n",
        "\n",
        "<img src=\"https://raw.githubusercontent.com/nlp-course/data/master/img/bart_architecture.png\" alt=\"encoder-decoder illustration\" />\n",
        "\n",
        "We can see that this model is strikingly similar to the LSTM-based encoder-decoder model we've been using. The only difference is that they use transformers instead of LSTMs. Therefore, we only need to change the modeling parts of the code, as we will see later."
      ],
      "id": "cf7005e0"
    },
    {
      "cell_type": "markdown",
      "metadata": {
        "id": "794e0ace"
      },
      "source": [
        "First, we download and load the pretrained BART model from the [transformers](https://github.com/huggingface/transformers) package by Huggingface. Note that we also need to use the \"tokenizer\" of BART, which is actually a combination of a tokenizer and a mapping from strings to word ids."
      ],
      "id": "794e0ace"
    },
    {
      "cell_type": "code",
      "metadata": {
        "id": "6500ba0a",
        "colab": {
          "base_uri": "https://localhost:8080/",
          "height": 393,
          "referenced_widgets": [
            "27f7ff56cf69477cb1b381cc6dfb79f3",
            "6c1f3c5297c04fa1a6db4780d0950c57",
            "117c2d14a3d34957a6f463cded926562",
            "13b81bee8c8d4e3eb6f8f7088c21d9bf",
            "9a05572c70104145a6d7ec4e7747d785",
            "5f61b4b5d51741cbb08dd5dd784ea502",
            "a5cdd5335c534728b3595621a2841840",
            "b673f9e76a0e4d6bab9c723b22997764",
            "6c5f6683cd464db2b6042de06f65b8a0",
            "9d74bb76ef4f4eeaa74e3ef2adb07096",
            "77a431823c30459991430952a378f0ef",
            "6f82365836e6459584a2f729a2acb5bc",
            "2284e8778a0b48ed9610ef9a85de9b05",
            "169282fb9db344b5af886530cc0c5038",
            "3c6e7eb6d2b84274b536b23cba52bfd6",
            "3152d1c7e02e4e0894d989cf2004131d",
            "1d4f8cdc566d4011972efadfee81dc7d",
            "47946bca60184052a7d5653d55cfcccf",
            "fa3d478a6fad44e3a0dd43690bcc0a53",
            "89136fad083247a68ce29e1adc09ebfc",
            "c37360e07d534e11bd366440a21c5958",
            "f0e7eb800d874712bf6eaba307f3aadb"
          ]
        },
        "outputId": "030265d0-2202-4f4c-ae7d-ba3651aa9c26"
      },
      "source": [
        "pretrained_bart = BartForConditionalGeneration.from_pretrained('facebook/bart-base')\n",
        "bart_tokenizer = BartTokenizer.from_pretrained('facebook/bart-base')"
      ],
      "id": "6500ba0a",
      "execution_count": 213,
      "outputs": [
        {
          "output_type": "display_data",
          "data": {
            "application/vnd.jupyter.widget-view+json": {
              "model_id": "27f7ff56cf69477cb1b381cc6dfb79f3",
              "version_minor": 0,
              "version_major": 2
            },
            "text/plain": [
              "Downloading:   0%|          | 0.00/1.65k [00:00<?, ?B/s]"
            ]
          },
          "metadata": {}
        },
        {
          "output_type": "display_data",
          "data": {
            "application/vnd.jupyter.widget-view+json": {
              "model_id": "6f82365836e6459584a2f729a2acb5bc",
              "version_minor": 0,
              "version_major": 2
            },
            "text/plain": [
              "Downloading:   0%|          | 0.00/532M [00:00<?, ?B/s]"
            ]
          },
          "metadata": {}
        },
        {
          "output_type": "error",
          "ename": "KeyboardInterrupt",
          "evalue": "ignored",
          "traceback": [
            "\u001b[0;31m---------------------------------------------------------------------------\u001b[0m",
            "\u001b[0;31mKeyboardInterrupt\u001b[0m                         Traceback (most recent call last)",
            "\u001b[0;32m<ipython-input-213-3b66a79a017a>\u001b[0m in \u001b[0;36m<module>\u001b[0;34m()\u001b[0m\n\u001b[0;32m----> 1\u001b[0;31m \u001b[0mpretrained_bart\u001b[0m \u001b[0;34m=\u001b[0m \u001b[0mBartForConditionalGeneration\u001b[0m\u001b[0;34m.\u001b[0m\u001b[0mfrom_pretrained\u001b[0m\u001b[0;34m(\u001b[0m\u001b[0;34m'facebook/bart-base'\u001b[0m\u001b[0;34m)\u001b[0m\u001b[0;34m\u001b[0m\u001b[0;34m\u001b[0m\u001b[0m\n\u001b[0m\u001b[1;32m      2\u001b[0m \u001b[0mbart_tokenizer\u001b[0m \u001b[0;34m=\u001b[0m \u001b[0mBartTokenizer\u001b[0m\u001b[0;34m.\u001b[0m\u001b[0mfrom_pretrained\u001b[0m\u001b[0;34m(\u001b[0m\u001b[0;34m'facebook/bart-base'\u001b[0m\u001b[0;34m)\u001b[0m\u001b[0;34m\u001b[0m\u001b[0;34m\u001b[0m\u001b[0m\n",
            "\u001b[0;32m/usr/local/lib/python3.7/dist-packages/transformers/modeling_utils.py\u001b[0m in \u001b[0;36mfrom_pretrained\u001b[0;34m(cls, pretrained_model_name_or_path, *model_args, **kwargs)\u001b[0m\n\u001b[1;32m   1331\u001b[0m                     \u001b[0mlocal_files_only\u001b[0m\u001b[0;34m=\u001b[0m\u001b[0mlocal_files_only\u001b[0m\u001b[0;34m,\u001b[0m\u001b[0;34m\u001b[0m\u001b[0;34m\u001b[0m\u001b[0m\n\u001b[1;32m   1332\u001b[0m                     \u001b[0muse_auth_token\u001b[0m\u001b[0;34m=\u001b[0m\u001b[0muse_auth_token\u001b[0m\u001b[0;34m,\u001b[0m\u001b[0;34m\u001b[0m\u001b[0;34m\u001b[0m\u001b[0m\n\u001b[0;32m-> 1333\u001b[0;31m                     \u001b[0muser_agent\u001b[0m\u001b[0;34m=\u001b[0m\u001b[0muser_agent\u001b[0m\u001b[0;34m,\u001b[0m\u001b[0;34m\u001b[0m\u001b[0;34m\u001b[0m\u001b[0m\n\u001b[0m\u001b[1;32m   1334\u001b[0m                 )\n\u001b[1;32m   1335\u001b[0m             \u001b[0;32mexcept\u001b[0m \u001b[0mEnvironmentError\u001b[0m \u001b[0;32mas\u001b[0m \u001b[0merr\u001b[0m\u001b[0;34m:\u001b[0m\u001b[0;34m\u001b[0m\u001b[0;34m\u001b[0m\u001b[0m\n",
            "\u001b[0;32m/usr/local/lib/python3.7/dist-packages/transformers/file_utils.py\u001b[0m in \u001b[0;36mcached_path\u001b[0;34m(url_or_filename, cache_dir, force_download, proxies, resume_download, user_agent, extract_compressed_file, force_extract, use_auth_token, local_files_only)\u001b[0m\n\u001b[1;32m   1631\u001b[0m             \u001b[0muser_agent\u001b[0m\u001b[0;34m=\u001b[0m\u001b[0muser_agent\u001b[0m\u001b[0;34m,\u001b[0m\u001b[0;34m\u001b[0m\u001b[0;34m\u001b[0m\u001b[0m\n\u001b[1;32m   1632\u001b[0m             \u001b[0muse_auth_token\u001b[0m\u001b[0;34m=\u001b[0m\u001b[0muse_auth_token\u001b[0m\u001b[0;34m,\u001b[0m\u001b[0;34m\u001b[0m\u001b[0;34m\u001b[0m\u001b[0m\n\u001b[0;32m-> 1633\u001b[0;31m             \u001b[0mlocal_files_only\u001b[0m\u001b[0;34m=\u001b[0m\u001b[0mlocal_files_only\u001b[0m\u001b[0;34m,\u001b[0m\u001b[0;34m\u001b[0m\u001b[0;34m\u001b[0m\u001b[0m\n\u001b[0m\u001b[1;32m   1634\u001b[0m         )\n\u001b[1;32m   1635\u001b[0m     \u001b[0;32melif\u001b[0m \u001b[0mos\u001b[0m\u001b[0;34m.\u001b[0m\u001b[0mpath\u001b[0m\u001b[0;34m.\u001b[0m\u001b[0mexists\u001b[0m\u001b[0;34m(\u001b[0m\u001b[0murl_or_filename\u001b[0m\u001b[0;34m)\u001b[0m\u001b[0;34m:\u001b[0m\u001b[0;34m\u001b[0m\u001b[0;34m\u001b[0m\u001b[0m\n",
            "\u001b[0;32m/usr/local/lib/python3.7/dist-packages/transformers/file_utils.py\u001b[0m in \u001b[0;36mget_from_cache\u001b[0;34m(url, cache_dir, force_download, proxies, etag_timeout, resume_download, user_agent, use_auth_token, local_files_only)\u001b[0m\n\u001b[1;32m   1887\u001b[0m             \u001b[0mlogger\u001b[0m\u001b[0;34m.\u001b[0m\u001b[0minfo\u001b[0m\u001b[0;34m(\u001b[0m\u001b[0;34mf\"{url} not found in cache or force_download set to True, downloading to {temp_file.name}\"\u001b[0m\u001b[0;34m)\u001b[0m\u001b[0;34m\u001b[0m\u001b[0;34m\u001b[0m\u001b[0m\n\u001b[1;32m   1888\u001b[0m \u001b[0;34m\u001b[0m\u001b[0m\n\u001b[0;32m-> 1889\u001b[0;31m             \u001b[0mhttp_get\u001b[0m\u001b[0;34m(\u001b[0m\u001b[0murl_to_download\u001b[0m\u001b[0;34m,\u001b[0m \u001b[0mtemp_file\u001b[0m\u001b[0;34m,\u001b[0m \u001b[0mproxies\u001b[0m\u001b[0;34m=\u001b[0m\u001b[0mproxies\u001b[0m\u001b[0;34m,\u001b[0m \u001b[0mresume_size\u001b[0m\u001b[0;34m=\u001b[0m\u001b[0mresume_size\u001b[0m\u001b[0;34m,\u001b[0m \u001b[0mheaders\u001b[0m\u001b[0;34m=\u001b[0m\u001b[0mheaders\u001b[0m\u001b[0;34m)\u001b[0m\u001b[0;34m\u001b[0m\u001b[0;34m\u001b[0m\u001b[0m\n\u001b[0m\u001b[1;32m   1890\u001b[0m \u001b[0;34m\u001b[0m\u001b[0m\n\u001b[1;32m   1891\u001b[0m         \u001b[0mlogger\u001b[0m\u001b[0;34m.\u001b[0m\u001b[0minfo\u001b[0m\u001b[0;34m(\u001b[0m\u001b[0;34mf\"storing {url} in cache at {cache_path}\"\u001b[0m\u001b[0;34m)\u001b[0m\u001b[0;34m\u001b[0m\u001b[0;34m\u001b[0m\u001b[0m\n",
            "\u001b[0;32m/usr/local/lib/python3.7/dist-packages/transformers/file_utils.py\u001b[0m in \u001b[0;36mhttp_get\u001b[0;34m(url, temp_file, proxies, resume_size, headers)\u001b[0m\n\u001b[1;32m   1749\u001b[0m         \u001b[0;32mif\u001b[0m \u001b[0mchunk\u001b[0m\u001b[0;34m:\u001b[0m  \u001b[0;31m# filter out keep-alive new chunks\u001b[0m\u001b[0;34m\u001b[0m\u001b[0;34m\u001b[0m\u001b[0m\n\u001b[1;32m   1750\u001b[0m             \u001b[0mprogress\u001b[0m\u001b[0;34m.\u001b[0m\u001b[0mupdate\u001b[0m\u001b[0;34m(\u001b[0m\u001b[0mlen\u001b[0m\u001b[0;34m(\u001b[0m\u001b[0mchunk\u001b[0m\u001b[0;34m)\u001b[0m\u001b[0;34m)\u001b[0m\u001b[0;34m\u001b[0m\u001b[0;34m\u001b[0m\u001b[0m\n\u001b[0;32m-> 1751\u001b[0;31m             \u001b[0mtemp_file\u001b[0m\u001b[0;34m.\u001b[0m\u001b[0mwrite\u001b[0m\u001b[0;34m(\u001b[0m\u001b[0mchunk\u001b[0m\u001b[0;34m)\u001b[0m\u001b[0;34m\u001b[0m\u001b[0;34m\u001b[0m\u001b[0m\n\u001b[0m\u001b[1;32m   1752\u001b[0m     \u001b[0mprogress\u001b[0m\u001b[0;34m.\u001b[0m\u001b[0mclose\u001b[0m\u001b[0;34m(\u001b[0m\u001b[0;34m)\u001b[0m\u001b[0;34m\u001b[0m\u001b[0;34m\u001b[0m\u001b[0m\n\u001b[1;32m   1753\u001b[0m \u001b[0;34m\u001b[0m\u001b[0m\n",
            "\u001b[0;32m/usr/lib/python3.7/tempfile.py\u001b[0m in \u001b[0;36mfunc_wrapper\u001b[0;34m(*args, **kwargs)\u001b[0m\n\u001b[1;32m    618\u001b[0m             \u001b[0;34m@\u001b[0m\u001b[0m_functools\u001b[0m\u001b[0;34m.\u001b[0m\u001b[0mwraps\u001b[0m\u001b[0;34m(\u001b[0m\u001b[0mfunc\u001b[0m\u001b[0;34m)\u001b[0m\u001b[0;34m\u001b[0m\u001b[0;34m\u001b[0m\u001b[0m\n\u001b[1;32m    619\u001b[0m             \u001b[0;32mdef\u001b[0m \u001b[0mfunc_wrapper\u001b[0m\u001b[0;34m(\u001b[0m\u001b[0;34m*\u001b[0m\u001b[0margs\u001b[0m\u001b[0;34m,\u001b[0m \u001b[0;34m**\u001b[0m\u001b[0mkwargs\u001b[0m\u001b[0;34m)\u001b[0m\u001b[0;34m:\u001b[0m\u001b[0;34m\u001b[0m\u001b[0;34m\u001b[0m\u001b[0m\n\u001b[0;32m--> 620\u001b[0;31m                 \u001b[0;32mreturn\u001b[0m \u001b[0mfunc\u001b[0m\u001b[0;34m(\u001b[0m\u001b[0;34m*\u001b[0m\u001b[0margs\u001b[0m\u001b[0;34m,\u001b[0m \u001b[0;34m**\u001b[0m\u001b[0mkwargs\u001b[0m\u001b[0;34m)\u001b[0m\u001b[0;34m\u001b[0m\u001b[0;34m\u001b[0m\u001b[0m\n\u001b[0m\u001b[1;32m    621\u001b[0m             \u001b[0;31m# Avoid closing the file as long as the wrapper is alive,\u001b[0m\u001b[0;34m\u001b[0m\u001b[0;34m\u001b[0m\u001b[0;34m\u001b[0m\u001b[0m\n\u001b[1;32m    622\u001b[0m             \u001b[0;31m# see issue #18879.\u001b[0m\u001b[0;34m\u001b[0m\u001b[0;34m\u001b[0m\u001b[0;34m\u001b[0m\u001b[0m\n",
            "\u001b[0;31mKeyboardInterrupt\u001b[0m: "
          ]
        }
      ]
    },
    {
      "cell_type": "markdown",
      "metadata": {
        "id": "4ecf8b5f"
      },
      "source": [
        "Below we demonstrate how to use BART's tokenizer to convert a sentence to a list of word ids, and vice versa."
      ],
      "id": "4ecf8b5f"
    },
    {
      "cell_type": "code",
      "metadata": {
        "id": "10a2d105"
      },
      "source": [
        "# BART uses a predefined \"tokenizer\", which directly maps a sentence \n",
        "# to a list of ids\n",
        "def bart_tokenize(string):\n",
        "  return bart_tokenizer(string)['input_ids'][:1024] # BART model can process at most 1024 tokens\n",
        "\n",
        "def bart_detokenize(token_ids):\n",
        "    return bart_tokenizer.decode(token_ids, skip_special_tokens=True)\n",
        "\n",
        "## Demonstrating the tokenizer\n",
        "question = 'Are there any first-class flights from St. Louis at 11pm for less than $3.50?'\n",
        "\n",
        "tokenized_question = bart_tokenize(question)\n",
        "print('tokenized:', tokenized_question)\n",
        "\n",
        "detokenized_question = bart_detokenize(tokenized_question)\n",
        "print('detokenized:', detokenized_question)"
      ],
      "id": "10a2d105",
      "execution_count": null,
      "outputs": []
    },
    {
      "cell_type": "markdown",
      "metadata": {
        "id": "903dae4a"
      },
      "source": [
        "We need to reprocess the data using our new tokenizer. Note that here we set `batch_first` to `True`, since that's the expected input shape of the transformers package."
      ],
      "id": "903dae4a"
    },
    {
      "cell_type": "code",
      "metadata": {
        "id": "1d0ca8d1"
      },
      "source": [
        "SRC_BART = tt.data.Field(include_lengths=True,   # include lengths\n",
        "                         batch_first=True,       # batches will be batch_size x max_len\n",
        "                         tokenize=bart_tokenize, # use bart tokenizer\n",
        "                         use_vocab=False,        # bart tokenizer already converts to int ids\n",
        "                         pad_token=bart_tokenizer.pad_token_id\n",
        "                        ) \n",
        "TGT_BART = tt.data.Field(include_lengths=False,\n",
        "                         batch_first=True,       # batches will be batch_size x max_len\n",
        "                         tokenize=bart_tokenize, # use bart tokenizer\n",
        "                         use_vocab=False,        # bart tokenizer already converts to int ids\n",
        "                         pad_token=bart_tokenizer.pad_token_id\n",
        "                        )\n",
        "fields_bart = [('src', SRC_BART), ('tgt', TGT_BART)]\n",
        "\n",
        "# Make splits for data\n",
        "train_data_bart, val_data_bart, test_data_bart = tt.datasets.TranslationDataset.splits(\n",
        "    ('_flightid.nl', '_flightid.sql'), fields_bart, path='./data/',\n",
        "    train='train', validation='dev', test='test')\n",
        "\n",
        "BATCH_SIZE = 1 # batch size for training/validation\n",
        "TEST_BATCH_SIZE = 1 # batch size for test, we use 1 to make beam search implementation easier\n",
        "\n",
        "train_iter_bart, val_iter_bart = tt.data.BucketIterator.splits((train_data_bart, val_data_bart),\n",
        "                                                     batch_size=BATCH_SIZE, \n",
        "                                                     device=device,\n",
        "                                                     repeat=False, \n",
        "                                                     sort_key=lambda x: len(x.src), \n",
        "                                                     sort_within_batch=True)\n",
        "test_iter_bart = tt.data.BucketIterator(test_data_bart, \n",
        "                                   batch_size=1, \n",
        "                                   device=device,\n",
        "                                   repeat=False, \n",
        "                                   sort=False, \n",
        "                                   train=False)"
      ],
      "id": "1d0ca8d1",
      "execution_count": null,
      "outputs": []
    },
    {
      "cell_type": "markdown",
      "metadata": {
        "id": "ccfd94b7"
      },
      "source": [
        "Let's take a look at the batch. Note that the shape of the batch is `batch_size x max_len`, instead of `max_len x batch_size` as in the previous part."
      ],
      "id": "ccfd94b7"
    },
    {
      "cell_type": "code",
      "metadata": {
        "id": "b1b10983"
      },
      "source": [
        "batch = next(iter(train_iter_bart))\n",
        "train_batch_text, train_batch_text_lengths = batch.src\n",
        "print (f\"Size of text batch: {train_batch_text.shape}\")\n",
        "print (f\"First sentence in batch: {train_batch_text[0]}\")\n",
        "print (f\"Length of the third sentence in batch: {train_batch_text_lengths[0]}\")\n",
        "print (f\"Converted back to string: {bart_detokenize(train_batch_text[0])}\")\n",
        "\n",
        "train_batch_sql = batch.tgt\n",
        "print (f\"Size of sql batch: {train_batch_sql.shape}\")\n",
        "print (f\"First sql in batch: {train_batch_sql[0]}\")\n",
        "print (f\"Converted back to string: {bart_detokenize(train_batch_sql[0])}\")"
      ],
      "id": "b1b10983",
      "execution_count": null,
      "outputs": []
    },
    {
      "cell_type": "markdown",
      "metadata": {
        "id": "5e0ff77c"
      },
      "source": [
        "Now we are ready to implement the BART-based approach for the text-to-SQL conversion problem. In the below `BART` class, we have provided the constructer `__init__`, the `forward` function, and the `predict` function. Your job is to implement the main optimization `train_all`, and `evaluate_ppl` for evaluating validation perplexity for model selection.\n",
        "\n",
        "> Hint: you can use almost the same `train_all` and `evaluate_ppl` function you implemented before, but here a major difference is that due to setting `batch_first=True`, the batched source/target tensors are of size `batch_size x max_len`, as opposed to `max_len x batch_size` in the LSTM-based approach, and you need to make changes in `train_all` and `evaluate_ppl` accordingly."
      ],
      "id": "5e0ff77c"
    },
    {
      "cell_type": "code",
      "metadata": {
        "id": "bdfb7741"
      },
      "source": [
        "#TODO - finish implementing the `BART` class.\n",
        "class BART(nn.Module):\n",
        "  def __init__(self, tokenizer, pretrained_bart):\n",
        "    \"\"\"\n",
        "    Initializer. Creates network modules and loss function.\n",
        "    Arguments:\n",
        "        tokenizer: BART tokenizer\n",
        "        pretrained_bart: pretrained BART\n",
        "    \"\"\"\n",
        "    super(BART, self).__init__()\n",
        "    \n",
        "    self.V_tgt = len(tokenizer)\n",
        "    \n",
        "    # Get special word ids\n",
        "    self.padding_id_tgt = tokenizer.pad_token_id\n",
        "\n",
        "    # Create essential modules\n",
        "    self.bart = pretrained_bart\n",
        "\n",
        "    # Create loss function\n",
        "    self.loss_function = nn.CrossEntropyLoss(reduction=\"sum\", \n",
        "                                             ignore_index=self.padding_id_tgt)\n",
        "\n",
        "  def forward(self, src, src_lengths, tgt_in):\n",
        "    \"\"\"\n",
        "    Performs forward computation, returns logits.\n",
        "    Arguments:\n",
        "        src: src batch of size (batch_size, max_src_len)\n",
        "        src_lengths: src lengths of size (batch_size)\n",
        "        tgt_in:  a tensor of size (tgt_len, bsz)\n",
        "    \"\"\"\n",
        "    # BART assumes inputs to be batch-first\n",
        "    # This single function is forwarding both encoder and decoder (w/ cross attn),\n",
        "    # using `input_ids` as encoder inputs, and `decoder_input_ids`\n",
        "    # as decoder inputs.\n",
        "    logits = self.bart(input_ids=src, \n",
        "                       decoder_input_ids=tgt_in,\n",
        "                       use_cache=False\n",
        "                      ).logits\n",
        "    return logits\n",
        "\n",
        "  def evaluate_ppl(self, iterator):\n",
        "    \"\"\"Returns the model's perplexity on a given dataset `iterator`.\"\"\"\n",
        "    #TODO - implement this function\n",
        "    ...\n",
        "    ppl = ...\n",
        "    return ppl\n",
        "\n",
        "  def train_all(self, train_iter, val_iter, epochs=10, learning_rate=0.001):\n",
        "    \"\"\"Train the model.\"\"\"\n",
        "    #TODO - implement this function\n",
        "    ...\n",
        "        \n",
        "  def predict(self, tokens, K=1, max_T=400):\n",
        "    \"\"\"\n",
        "    Generates the target sequence given the source sequence using beam search decoding. \n",
        "    Note that for simplicity, we only use batch size 1.\n",
        "    Arguments:\n",
        "        tokens: a list of strings, the source sentence.\n",
        "        max_T: at most proceed this many steps of decoding\n",
        "    Returns: \n",
        "        a string of the generated target sentence.\n",
        "    \"\"\"\n",
        "    string = ' '.join(tokens) # first convert to a string\n",
        "    # Tokenize and map to a list of word ids\n",
        "    inputs = torch.LongTensor(bart_tokenize(string)).to(device).view(1, -1)\n",
        "    # The `transformers` package provides built-in beam search support\n",
        "    prediction = self.bart.generate(inputs, \n",
        "                                    num_beams=K, \n",
        "                                    max_length=max_T, \n",
        "                                    early_stopping=True, \n",
        "                                    no_repeat_ngram_size=0,\n",
        "                                    decoder_start_token_id=0, \n",
        "                                    use_cache=True)[0]\n",
        "    return bart_detokenize(prediction)"
      ],
      "id": "bdfb7741",
      "execution_count": null,
      "outputs": []
    },
    {
      "cell_type": "markdown",
      "metadata": {
        "id": "fcfea1b9"
      },
      "source": [
        "The code below will kick off training, and evaluate the validation perplexity. You should expect to see a value very close to 1."
      ],
      "id": "fcfea1b9"
    },
    {
      "cell_type": "code",
      "metadata": {
        "id": "f33cdf86"
      },
      "source": [
        "EPOCHS = 50 # epochs, we recommend starting with a smaller number like 1\n",
        "LEARNING_RATE = 1e-5 # learning rate\n",
        "\n",
        "# Instantiate and train classifier\n",
        "bart_model = BART(bart_tokenizer,\n",
        "                 pretrained_bart\n",
        ").to(device)\n",
        "\n",
        "bart_model.train_all(train_iter_bart, val_iter_bart, epochs=EPOCHS, learning_rate=LEARNING_RATE)\n",
        "bart_model.load_state_dict(bart_model.best_model)\n",
        "\n",
        "# Evaluate model performance, the expected value should be < 1.2\n",
        "print (f'Validation perplexity: {bart_model.evaluate_ppl(val_iter_bart):.3f}')"
      ],
      "id": "f33cdf86",
      "execution_count": null,
      "outputs": []
    },
    {
      "cell_type": "markdown",
      "metadata": {
        "id": "e0d77243"
      },
      "source": [
        "As before, make sure that your model is making reasonable predictions on a few examples before evaluating on the entire test set."
      ],
      "id": "e0d77243"
    },
    {
      "cell_type": "code",
      "metadata": {
        "id": "0c00f1b0"
      },
      "source": [
        "def bart_trial(sentence, gold_sql):\n",
        "  print(\"Sentence: \", sentence, \"\\n\")\n",
        "  tokens = tokenize(sentence)\n",
        "\n",
        "  predicted_sql = bart_model.predict(tokens, K=1, max_T=300)\n",
        "  print(\"Predicted SQL:\\n\\n\", predicted_sql, \"\\n\")\n",
        "\n",
        "  if verify(predicted_sql, gold_sql, silent=False):\n",
        "    print ('Correct!')\n",
        "  else:\n",
        "    print ('Incorrect!')"
      ],
      "id": "0c00f1b0",
      "execution_count": null,
      "outputs": []
    },
    {
      "cell_type": "code",
      "metadata": {
        "id": "a1cd22e8"
      },
      "source": [
        "bart_trial(example_1, gold_sql_1)"
      ],
      "id": "a1cd22e8",
      "execution_count": null,
      "outputs": []
    },
    {
      "cell_type": "code",
      "metadata": {
        "id": "111f4a02"
      },
      "source": [
        "bart_trial(example_2, gold_sql_2)"
      ],
      "id": "111f4a02",
      "execution_count": null,
      "outputs": []
    },
    {
      "cell_type": "code",
      "metadata": {
        "id": "0734784a"
      },
      "source": [
        "bart_trial(example_3, gold_sql_3)"
      ],
      "id": "0734784a",
      "execution_count": null,
      "outputs": []
    },
    {
      "cell_type": "code",
      "metadata": {
        "id": "2154b0c2"
      },
      "source": [
        "bart_trial(example_4, gold_sql_4)"
      ],
      "id": "2154b0c2",
      "execution_count": null,
      "outputs": []
    },
    {
      "cell_type": "code",
      "metadata": {
        "id": "33982cdf"
      },
      "source": [
        "bart_trial(example_5, gold_sql_5)"
      ],
      "id": "33982cdf",
      "execution_count": null,
      "outputs": []
    },
    {
      "cell_type": "code",
      "metadata": {
        "id": "ecbbb38c"
      },
      "source": [
        "bart_trial(example_6, gold_sql_6b)"
      ],
      "id": "ecbbb38c",
      "execution_count": null,
      "outputs": []
    },
    {
      "cell_type": "code",
      "metadata": {
        "id": "395ff379"
      },
      "source": [
        "bart_trial(example_7, gold_sql_7b)"
      ],
      "id": "395ff379",
      "execution_count": null,
      "outputs": []
    },
    {
      "cell_type": "code",
      "metadata": {
        "id": "14dea3a2"
      },
      "source": [
        "bart_trial(example_8, gold_sql_8)"
      ],
      "id": "14dea3a2",
      "execution_count": null,
      "outputs": []
    },
    {
      "cell_type": "markdown",
      "metadata": {
        "id": "e6c62528"
      },
      "source": [
        "### Evaluation"
      ],
      "id": "e6c62528"
    },
    {
      "cell_type": "markdown",
      "metadata": {
        "id": "ed606dda"
      },
      "source": [
        "The code below will evaluate on the entire test set. You should expect to see precision/recall/F1 greater than 40%."
      ],
      "id": "ed606dda"
    },
    {
      "cell_type": "code",
      "metadata": {
        "id": "4ea89388"
      },
      "source": [
        "def seq2seq_predictor_bart(tokens):\n",
        "  prediction = bart_model.predict(tokens, K=4, max_T=400)\n",
        "  return prediction"
      ],
      "id": "4ea89388",
      "execution_count": null,
      "outputs": []
    },
    {
      "cell_type": "code",
      "metadata": {
        "id": "a3654ee7"
      },
      "source": [
        "precision, recall, f1 = evaluate(seq2seq_predictor_bart, test_iter.dataset, num_examples=0)\n",
        "print(f\"precision: {precision:3.2f}\")\n",
        "print(f\"recall:    {recall:3.2f}\")\n",
        "print(f\"F1:        {f1:3.2f}\")"
      ],
      "id": "a3654ee7",
      "execution_count": null,
      "outputs": []
    },
    {
      "cell_type": "markdown",
      "metadata": {
        "deletable": false,
        "editable": false,
        "id": "227d1056"
      },
      "source": [
        "<!-- BEGIN QUESTION -->\n",
        "\n",
        "# Debrief\n",
        "\n",
        "**Question:** We're interested in any thoughts you have about this project segment so that we can improve it for later years, and to inform later segments for this year. Please list any issues that arose or comments you have to improve the project segment. Useful things to comment on might include the following: \n",
        "\n",
        "* Was the project segment clear or unclear? Which portions?\n",
        "* Were the readings appropriate background for the project segment? \n",
        "* Are there additions or changes you think would make the project segment better?\n",
        "\n",
        "<!--\n",
        "BEGIN QUESTION\n",
        "name: open_response_debrief\n",
        "manual: true\n",
        "-->\n",
        "\n",
        "but you should comment on whatever aspects you found especially positive or negative."
      ],
      "id": "227d1056"
    },
    {
      "cell_type": "markdown",
      "metadata": {
        "id": "46834d00"
      },
      "source": [
        "The segment was clear and I thought provided a very interesting comparison between the rules based approach and some more complex neural approaches. The readings and LAb 4-5 left me feeling prepared to do this assigment. I found the two hours of training required before submission frusturating and think that perhaps in future labs the desired accuracy and number of epochs run for could be reduced to prevent this. The training length and frusturation after a long time spent training and then fixing an error I think could be prevented with shorter desired training length. I also think that many people had issues with running this on Google Colab when they were more familiar with Jupyter Notebooks the entire year, so maybe making this project more compatible with Colab would be helpful. Overall I found that this project was a great capstone to the course and allowed me to see the full range of working with natural language. I also think that after projects are submitted it would be helpful for this project segment and previous ones to see a solution key so that we can see what we got wrong and iterate for the next one."
      ],
      "id": "46834d00"
    },
    {
      "cell_type": "markdown",
      "metadata": {
        "id": "7302348c"
      },
      "source": [
        "<!-- END QUESTION -->\n",
        "\n",
        "\n",
        "\n",
        "# Instructions for submission of the project segment\n",
        "\n",
        "This project segment should be submitted to Gradescope at <http://go.cs187.info/project4-submit-code> and <http://go.cs187.info/project4-submit-pdf>, which will be made available some time before the due date.\n",
        "\n",
        "Project segment notebooks are manually graded, not autograded using otter as labs are. (Otter is used within project segment notebooks to synchronize distribution and solution code however.) **We will not run your notebook before grading it.** Instead, we ask that you submit the already freshly run notebook. The best method is to \"restart kernel and run all cells\", allowing time for all cells to be run to completion. You should submit your code to Gradescope at the code submission assignment at <http://go.cs187.info/project4-submit-code>. Make sure that you are also submitting your `data/grammar` file as part of your solution code as well.\n",
        "\n",
        "We also request that you **submit a PDF of the freshly run notebook**. The simplest method is to use \"Export notebook to PDF\", which will render the notebook to PDF via LaTeX. If that doesn't work, the method that seems to be most reliable is to export the notebook as HTML (if you are using Jupyter Notebook, you can do so using `File -> Print Preview`), open the HTML in a browser, and print it to a file. Then make sure to add the file to your git commit. Please name the file the same name as this notebook, but with a `.pdf` extension. (Conveniently, the methods just described will use that name by default.) You can then perform a git commit and push and submit the commit to Gradescope at <http://go.cs187.info/project4-submit-pdf>."
      ],
      "id": "7302348c"
    },
    {
      "cell_type": "markdown",
      "metadata": {
        "id": "6377f4dd"
      },
      "source": [
        "# End of project segment 4 {-}"
      ],
      "id": "6377f4dd"
    }
  ]
}