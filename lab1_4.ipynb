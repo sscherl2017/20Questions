{
  "nbformat": 4,
  "nbformat_minor": 0,
  "metadata": {
    "kernelspec": {
      "display_name": "Python 3",
      "language": "python",
      "name": "python3"
    },
    "language_info": {
      "codemirror_mode": {
        "name": "ipython",
        "version": 3
      },
      "file_extension": ".py",
      "mimetype": "text/x-python",
      "name": "python",
      "nbconvert_exporter": "python",
      "pygments_lexer": "ipython3",
      "version": "3.8.10"
    },
    "title": "CS187 Lab 1-4: Discriminative methods for classification",
    "colab": {
      "name": "lab1-4.ipynb",
      "provenance": [],
      "collapsed_sections": [
        "6eo3Hg630Elq",
        "AyABjPif0Elu",
        "5BRwmccJ0Elx"
      ],
      "include_colab_link": true
    }
  },
  "cells": [
    {
      "cell_type": "markdown",
      "metadata": {
        "id": "view-in-github",
        "colab_type": "text"
      },
      "source": [
        "<a href=\"https://colab.research.google.com/github/sscherl2017/20Questions/blob/master/lab1_4.ipynb\" target=\"_parent\"><img src=\"https://colab.research.google.com/assets/colab-badge.svg\" alt=\"Open In Colab\"/></a>"
      ]
    },
    {
      "cell_type": "code",
      "metadata": {
        "colab": {
          "base_uri": "https://localhost:8080/",
          "height": 463
        },
        "id": "TvaLZACKkTTw",
        "outputId": "5139c70b-bafa-4039-a35d-a336186c029c"
      },
      "source": [
        "pip install tornado==6"
      ],
      "execution_count": 1,
      "outputs": [
        {
          "output_type": "stream",
          "name": "stdout",
          "text": [
            "Collecting tornado==6\n",
            "  Downloading tornado-6.0.tar.gz (481 kB)\n",
            "\u001b[?25l\r\u001b[K     |▊                               | 10 kB 15.3 MB/s eta 0:00:01\r\u001b[K     |█▍                              | 20 kB 20.1 MB/s eta 0:00:01\r\u001b[K     |██                              | 30 kB 11.8 MB/s eta 0:00:01\r\u001b[K     |██▊                             | 40 kB 9.0 MB/s eta 0:00:01\r\u001b[K     |███▍                            | 51 kB 7.0 MB/s eta 0:00:01\r\u001b[K     |████                            | 61 kB 7.4 MB/s eta 0:00:01\r\u001b[K     |████▊                           | 71 kB 6.2 MB/s eta 0:00:01\r\u001b[K     |█████▌                          | 81 kB 6.9 MB/s eta 0:00:01\r\u001b[K     |██████▏                         | 92 kB 6.1 MB/s eta 0:00:01\r\u001b[K     |██████▉                         | 102 kB 6.6 MB/s eta 0:00:01\r\u001b[K     |███████▌                        | 112 kB 6.6 MB/s eta 0:00:01\r\u001b[K     |████████▏                       | 122 kB 6.6 MB/s eta 0:00:01\r\u001b[K     |████████▉                       | 133 kB 6.6 MB/s eta 0:00:01\r\u001b[K     |█████████▌                      | 143 kB 6.6 MB/s eta 0:00:01\r\u001b[K     |██████████▏                     | 153 kB 6.6 MB/s eta 0:00:01\r\u001b[K     |███████████                     | 163 kB 6.6 MB/s eta 0:00:01\r\u001b[K     |███████████▋                    | 174 kB 6.6 MB/s eta 0:00:01\r\u001b[K     |████████████▎                   | 184 kB 6.6 MB/s eta 0:00:01\r\u001b[K     |█████████████                   | 194 kB 6.6 MB/s eta 0:00:01\r\u001b[K     |█████████████▋                  | 204 kB 6.6 MB/s eta 0:00:01\r\u001b[K     |██████████████▎                 | 215 kB 6.6 MB/s eta 0:00:01\r\u001b[K     |███████████████                 | 225 kB 6.6 MB/s eta 0:00:01\r\u001b[K     |███████████████▋                | 235 kB 6.6 MB/s eta 0:00:01\r\u001b[K     |████████████████▍               | 245 kB 6.6 MB/s eta 0:00:01\r\u001b[K     |█████████████████               | 256 kB 6.6 MB/s eta 0:00:01\r\u001b[K     |█████████████████▊              | 266 kB 6.6 MB/s eta 0:00:01\r\u001b[K     |██████████████████▍             | 276 kB 6.6 MB/s eta 0:00:01\r\u001b[K     |███████████████████             | 286 kB 6.6 MB/s eta 0:00:01\r\u001b[K     |███████████████████▊            | 296 kB 6.6 MB/s eta 0:00:01\r\u001b[K     |████████████████████▍           | 307 kB 6.6 MB/s eta 0:00:01\r\u001b[K     |█████████████████████           | 317 kB 6.6 MB/s eta 0:00:01\r\u001b[K     |█████████████████████▉          | 327 kB 6.6 MB/s eta 0:00:01\r\u001b[K     |██████████████████████▌         | 337 kB 6.6 MB/s eta 0:00:01\r\u001b[K     |███████████████████████▏        | 348 kB 6.6 MB/s eta 0:00:01\r\u001b[K     |███████████████████████▉        | 358 kB 6.6 MB/s eta 0:00:01\r\u001b[K     |████████████████████████▌       | 368 kB 6.6 MB/s eta 0:00:01\r\u001b[K     |█████████████████████████▏      | 378 kB 6.6 MB/s eta 0:00:01\r\u001b[K     |█████████████████████████▉      | 389 kB 6.6 MB/s eta 0:00:01\r\u001b[K     |██████████████████████████▌     | 399 kB 6.6 MB/s eta 0:00:01\r\u001b[K     |███████████████████████████▎    | 409 kB 6.6 MB/s eta 0:00:01\r\u001b[K     |████████████████████████████    | 419 kB 6.6 MB/s eta 0:00:01\r\u001b[K     |████████████████████████████▋   | 430 kB 6.6 MB/s eta 0:00:01\r\u001b[K     |█████████████████████████████▎  | 440 kB 6.6 MB/s eta 0:00:01\r\u001b[K     |██████████████████████████████  | 450 kB 6.6 MB/s eta 0:00:01\r\u001b[K     |██████████████████████████████▋ | 460 kB 6.6 MB/s eta 0:00:01\r\u001b[K     |███████████████████████████████▎| 471 kB 6.6 MB/s eta 0:00:01\r\u001b[K     |████████████████████████████████| 481 kB 6.6 MB/s eta 0:00:01\r\u001b[K     |████████████████████████████████| 481 kB 6.6 MB/s \n",
            "\u001b[?25hBuilding wheels for collected packages: tornado\n",
            "  Building wheel for tornado (setup.py) ... \u001b[?25l\u001b[?25hdone\n",
            "  Created wheel for tornado: filename=tornado-6.0-cp37-cp37m-linux_x86_64.whl size=423695 sha256=676283ec85ff1d91475e773f3cdc52b55d43574d6f9e8cb1f2d27a7a859e30df\n",
            "  Stored in directory: /root/.cache/pip/wheels/03/62/26/d1c265e578834a9007b8a19b59979ebee5aa0d8f71446a0d12\n",
            "Successfully built tornado\n",
            "Installing collected packages: tornado\n",
            "  Attempting uninstall: tornado\n",
            "    Found existing installation: tornado 5.1.1\n",
            "    Uninstalling tornado-5.1.1:\n",
            "      Successfully uninstalled tornado-5.1.1\n",
            "\u001b[31mERROR: pip's dependency resolver does not currently take into account all the packages that are installed. This behaviour is the source of the following dependency conflicts.\n",
            "google-colab 1.0.0 requires tornado~=5.1.0; python_version >= \"3.0\", but you have tornado 6.0 which is incompatible.\u001b[0m\n",
            "Successfully installed tornado-6.0\n"
          ]
        },
        {
          "output_type": "display_data",
          "data": {
            "application/vnd.colab-display-data+json": {
              "pip_warning": {
                "packages": [
                  "tornado"
                ]
              }
            }
          },
          "metadata": {}
        }
      ]
    },
    {
      "cell_type": "code",
      "metadata": {
        "deletable": false,
        "editable": false,
        "jupyter": {
          "outputs_hidden": true,
          "source_hidden": true
        },
        "colab": {
          "base_uri": "https://localhost:8080/"
        },
        "id": "evhCcSk_0ElL",
        "outputId": "1d537c79-ff59-4449-f765-c8c4faf6b5d2"
      },
      "source": [
        "# Please do not change this cell because some hidden tests might depend on it.\n",
        "import os\n",
        "\n",
        "# Otter grader does not handle ! commands well, so we define and use our\n",
        "# own function to execute shell commands.\n",
        "def shell(commands, warn=True):\n",
        "    \"\"\"Executes the string `commands` as a sequence of shell commands.\n",
        "     \n",
        "       Prints the result to stdout and returns the exit status. \n",
        "       Provides a printed warning on non-zero exit status unless `warn` \n",
        "       flag is unset.\n",
        "    \"\"\"\n",
        "    file = os.popen(commands)\n",
        "    print (file.read().rstrip('\\n'))\n",
        "    exit_status = file.close()\n",
        "    if warn and exit_status != None:\n",
        "        print(f\"Completed with errors. Exit status: {exit_status}\\n\")\n",
        "    return exit_status\n",
        "\n",
        "shell(\"\"\"\n",
        "ls requirements.txt >/dev/null 2>&1\n",
        "if [ ! $? = 0 ]; then\n",
        " rm -rf .tmp\n",
        " git clone https://github.com/cs187-2021/lab1-4.git .tmp\n",
        " mv .tmp/tests ./\n",
        " mv .tmp/requirements.txt ./\n",
        " rm -rf .tmp\n",
        "fi\n",
        "pip install -q -r requirements.txt\n",
        "\"\"\")"
      ],
      "execution_count": 1,
      "outputs": [
        {
          "output_type": "stream",
          "name": "stdout",
          "text": [
            "\n"
          ]
        }
      ]
    },
    {
      "cell_type": "code",
      "metadata": {
        "deletable": false,
        "editable": false,
        "id": "a82502e0"
      },
      "source": [
        "# Initialize Otter\n",
        "import otter\n",
        "grader = otter.Notebook()"
      ],
      "execution_count": 2,
      "outputs": []
    },
    {
      "cell_type": "raw",
      "metadata": {
        "jupyter": {
          "source_hidden": true
        },
        "id": "FHB5Zmwp0ElR"
      },
      "source": [
        "%%latex\n",
        "\\newcommand{\\vect}[1]{\\mathbf{#1}}\n",
        "\\newcommand{\\cnt}[1]{\\sharp(#1)}\n",
        "\\newcommand{\\argmax}[1]{\\underset{#1}{\\operatorname{argmax}}}\n",
        "\\newcommand{\\softmax}{\\operatorname{softmax}}\n",
        "\\newcommand{\\Prob}{\\Pr}\n",
        "\\newcommand{\\given}{\\,|\\,}"
      ]
    },
    {
      "cell_type": "markdown",
      "metadata": {
        "id": "zAqfsZEN0ElS"
      },
      "source": [
        "$$\n",
        "\\renewcommand{\\vect}[1]{\\mathbf{#1}}\n",
        "\\renewcommand{\\cnt}[1]{\\sharp(#1)}\n",
        "\\renewcommand{\\argmax}[1]{\\underset{#1}{\\operatorname{argmax}}}\n",
        "\\renewcommand{\\softmax}{\\operatorname{softmax}}\n",
        "\\renewcommand{\\Prob}{\\Pr}\n",
        "\\renewcommand{\\given}{\\,|\\,}\n",
        "$$"
      ]
    },
    {
      "cell_type": "markdown",
      "metadata": {
        "tags": [
          "remove_for_latex"
        ],
        "id": "yli6is3Q0ElU"
      },
      "source": [
        "# CS187\n",
        "## Lab 1-4 – Discriminative methods for classification"
      ]
    },
    {
      "cell_type": "markdown",
      "metadata": {
        "id": "60hw2QPj0ElV"
      },
      "source": [
        "In this lab, you'll apply a discriminative classification method to the _Federalist_ papers' authorship attribution problem, the logistic regression (perceptron) model. \n",
        "\n",
        "After this lab, you should be able to\n",
        "\n",
        "* Derive the basic equations for the logistic regression classification method;\n",
        "* Perform the forward computation to generate the class that a logistic regression model predicts for some input;\n",
        "* Calculate a loss for that prediction, the cross-entropy loss;\n",
        "* Update the parameters of a logistic regression model by stochastic gradient descent."
      ]
    },
    {
      "cell_type": "markdown",
      "metadata": {
        "id": "4JDJU9D20ElW"
      },
      "source": [
        "New bits of Python used for the first time in the _solution set_ for this lab, and which you may therefore find useful:\n",
        "\n",
        "* `numpy.exp`\n",
        "* `torch.dot`"
      ]
    },
    {
      "cell_type": "markdown",
      "metadata": {
        "id": "r7uCX07f0ElX"
      },
      "source": [
        "# Preparation – Loading packages and data"
      ]
    },
    {
      "cell_type": "code",
      "metadata": {
        "deletable": false,
        "id": "XjH0tLy20ElY"
      },
      "source": [
        "# Please do not change these imports because some hidden tests might depend on them.\n",
        "# You can add a cell below if you need to import anything else.\n",
        "import json\n",
        "import math\n",
        "import matplotlib\n",
        "import matplotlib.pyplot as plt\n",
        "matplotlib.style.use('tableau-colorblind10')\n",
        "import os\n",
        "import torch\n",
        "import wget\n",
        "\n",
        "from torch import log2\n",
        "from pprint import pprint"
      ],
      "execution_count": 3,
      "outputs": []
    },
    {
      "cell_type": "code",
      "metadata": {
        "id": "-KiXU_PM0ElZ"
      },
      "source": [
        "# Download and read the Federalist data from the json file\n",
        "os.makedirs('data', exist_ok=True)\n",
        "wget.download('https://github.com/nlp-course/data/raw/master/Federalist/federalist_data.json', out='data/')\n",
        "with open('data/federalist_data.json', 'r') as fin:\n",
        "    dataset = json.load(fin)"
      ],
      "execution_count": 4,
      "outputs": []
    },
    {
      "cell_type": "code",
      "metadata": {
        "id": "dDJlLVSl0ElZ"
      },
      "source": [
        "# As before, we tensorize the count vectors...\n",
        "for example in dataset:\n",
        "    example['counts'] = torch.tensor(example['counts']).type(torch.float)\n",
        "    \n",
        "# ...and extract the papers by either of Madison and Hamilton \n",
        "# to serve as training data....\n",
        "training = list(filter(lambda ex: ex['authors'] in ['Madison', 'Hamilton'],\n",
        "                       dataset))"
      ],
      "execution_count": 5,
      "outputs": []
    },
    {
      "cell_type": "markdown",
      "metadata": {
        "id": "UQzV9Sj40Ela"
      },
      "source": [
        "# Logistic regression\n",
        "\n",
        "You've read about logistic regression, a method for classification that is discriminative rather than generative. Like the generative Naive Bayes method, each example is characterized by a vector of features (the counts of word types for a text, say, as for the _Federalist_ example that we've been using). In logistic regression, each such feature is assigned a weight, and the score for an example is given by weighting each feature value by its weight and summing the result; that is, the score is the dot product of the feature vector and the weight vector. Let's take an example, one of the Federalist papers. We'll extract from the training data the counts for the first example in the training set. That's the feature vector for this example."
      ]
    },
    {
      "cell_type": "code",
      "metadata": {
        "colab": {
          "base_uri": "https://localhost:8080/"
        },
        "id": "FUtFtu8R0Elb",
        "outputId": "9c6b0a33-aeda-438c-8494-8d709c49ecbb"
      },
      "source": [
        "training0_counts = training[0]['counts']\n",
        "training0_counts"
      ],
      "execution_count": 6,
      "outputs": [
        {
          "output_type": "execute_result",
          "data": {
            "text/plain": [
              "tensor([9., 6., 2., 0.])"
            ]
          },
          "metadata": {},
          "execution_count": 6
        }
      ]
    },
    {
      "cell_type": "markdown",
      "metadata": {
        "id": "93GS1Bb90Elb"
      },
      "source": [
        "Suppose the weights for the features are as given by the following vector:"
      ]
    },
    {
      "cell_type": "code",
      "metadata": {
        "id": "iSVaA3DV0Elc"
      },
      "source": [
        "weights = torch.tensor([-.1, .2, .3, -1])"
      ],
      "execution_count": 7,
      "outputs": []
    },
    {
      "cell_type": "markdown",
      "metadata": {
        "deletable": false,
        "editable": false,
        "id": "EcJnucLV0Elc"
      },
      "source": [
        "What would the weighted sum of the counts with these weights be? Feel free to use `torch.dot` to take the dot product for you. (Alternatively, you can also use basic tensor operations such as `*` and `.sum()`.)\n",
        "<!--\n",
        "BEGIN QUESTION\n",
        "name: wtd_sum\n",
        "-->"
      ]
    },
    {
      "cell_type": "code",
      "metadata": {
        "id": "SCkYq9zz0Eld"
      },
      "source": [
        "#TODO: Take the weighted sum of `training0_counts` with `weights`\n",
        "wtd_sum = torch.dot(training0_counts, weights)"
      ],
      "execution_count": 8,
      "outputs": []
    },
    {
      "cell_type": "code",
      "metadata": {
        "deletable": false,
        "editable": false,
        "colab": {
          "base_uri": "https://localhost:8080/",
          "height": 46
        },
        "id": "8daed892",
        "outputId": "7f68740a-21bc-4e22-8e0f-77738ba82f0f"
      },
      "source": [
        "grader.check(\"wtd_sum\")"
      ],
      "execution_count": 9,
      "outputs": [
        {
          "output_type": "execute_result",
          "data": {
            "text/html": [
              "\n",
              "    \n",
              "    \n",
              "        <p>All tests passed!</p>\n",
              "    \n",
              "    "
            ],
            "text/plain": [
              "\n",
              "    All tests passed!\n",
              "    "
            ]
          },
          "metadata": {},
          "execution_count": 9
        }
      ]
    },
    {
      "cell_type": "markdown",
      "metadata": {
        "deletable": false,
        "editable": false,
        "id": "l9IGyttB0Eld"
      },
      "source": [
        "<!-- BEGIN QUESTION -->\n",
        "\n",
        "**Question:** What is the range of possible values that such a weighted sum can take on?\n",
        "<!--\n",
        "BEGIN QUESTION\n",
        "name: open_response_possible_sums\n",
        "manual: true\n",
        "-->"
      ]
    },
    {
      "cell_type": "markdown",
      "metadata": {
        "id": "7ddddda5"
      },
      "source": [
        "*The weighted sum can range from -infinity to +infinity, given that the weights are sufficiently small or large, respectively.*"
      ]
    },
    {
      "cell_type": "markdown",
      "metadata": {
        "deletable": false,
        "editable": false,
        "id": "cFzFXfp20Ele"
      },
      "source": [
        "<!-- END QUESTION -->\n",
        "\n",
        "In order to have a standard way of comparing these numbers, it helps to be able to place them on a fixed scale, from 0 to 1, say. This way, they can be interpreted as probabilities. We use the _logistic function_ ($\\sigma$) to carry out this conversion:\n",
        "\n",
        "$$ \\sigma(x) = \\frac{1}{1 + e^{-k x}}$$\n",
        "\n",
        "In addition to its argument $x$, the function takes an additional parameter $k$, which we will explore shortly.\n",
        "\n",
        "Define a function `sigma` implementing the logistic function. (We've established a default value for `k` of 1 in the header line below.)\n",
        "\n",
        "> Hint: For exponentiation, you can use [the `exp` function provided by `torch`](https://pytorch.org/docs/stable/generated/torch.exp.html).\n",
        "<!--\n",
        "BEGIN QUESTION\n",
        "name: sigma\n",
        "-->"
      ]
    },
    {
      "cell_type": "code",
      "metadata": {
        "id": "YLCR6gMk0Ele"
      },
      "source": [
        "#TODO: Implement the logistic function.\n",
        "def sigma(x, k=1):\n",
        "    \"\"\"Computes sigma(x) = 1 / (1 + exp(-kx)).\n",
        "    Arguments:\n",
        "      x: a tensor\n",
        "    Returns: sigma applied to each element of x\"\"\"\n",
        "    return 1 / (1 + torch.exp(-k * x))"
      ],
      "execution_count": 10,
      "outputs": []
    },
    {
      "cell_type": "code",
      "metadata": {
        "deletable": false,
        "editable": false,
        "colab": {
          "base_uri": "https://localhost:8080/",
          "height": 46
        },
        "id": "703c40cd",
        "outputId": "3fbb5aa9-3ddb-4a3f-b818-086db5cfc021"
      },
      "source": [
        "grader.check(\"sigma\")"
      ],
      "execution_count": 11,
      "outputs": [
        {
          "output_type": "execute_result",
          "data": {
            "text/html": [
              "\n",
              "    \n",
              "    \n",
              "        <p>All tests passed!</p>\n",
              "    \n",
              "    "
            ],
            "text/plain": [
              "\n",
              "    All tests passed!\n",
              "    "
            ]
          },
          "metadata": {},
          "execution_count": 11
        }
      ]
    },
    {
      "cell_type": "markdown",
      "metadata": {
        "id": "jMw4zJ1f0Elf"
      },
      "source": [
        "To get a sense of the logistic function, we graph it for several values of $k$."
      ]
    },
    {
      "cell_type": "code",
      "metadata": {
        "colab": {
          "base_uri": "https://localhost:8080/",
          "height": 281
        },
        "id": "t42kzhlS0Elf",
        "outputId": "3cba0bce-3c92-4dbb-cbfc-6a4ac3bb89dc"
      },
      "source": [
        "def sigma_plot():\n",
        "    x = torch.linspace(-2, 2, 100)\n",
        "    fig, ax = plt.subplots()\n",
        "    for k in [0, 1, 2, 10]:\n",
        "        ax.plot(x, sigma(x, k), label = f\"k = {k}\")\n",
        "    plt.title(\"Logistic functions\")\n",
        "    plt.legend()\n",
        "    \n",
        "sigma_plot()"
      ],
      "execution_count": 12,
      "outputs": [
        {
          "output_type": "display_data",
          "data": {
            "image/png": "[encoded data removed]",
            "text/plain": [
              "<Figure size 432x288 with 1 Axes>"
            ]
          },
          "metadata": {
            "needs_background": "light"
          }
        }
      ]
    },
    {
      "cell_type": "markdown",
      "metadata": {
        "deletable": false,
        "editable": false,
        "id": "avh4qw2X0Elg"
      },
      "source": [
        "<!-- BEGIN QUESTION -->\n",
        "\n",
        "**Question:** What does the $k$ parameter do to the logistic function?\n",
        "<!--\n",
        "BEGIN QUESTION\n",
        "manual: true\n",
        "name: open_response_k\n",
        "-->"
      ]
    },
    {
      "cell_type": "markdown",
      "metadata": {
        "id": "f36d5ea4"
      },
      "source": [
        "*Increasing the k parameter increases the slope of the middle, vertical section.*"
      ]
    },
    {
      "cell_type": "markdown",
      "metadata": {
        "deletable": false,
        "editable": false,
        "id": "KdTte84F0Elg"
      },
      "source": [
        "<!-- END QUESTION -->\n",
        "\n",
        "<!-- BEGIN QUESTION -->\n",
        "\n",
        "**Question:** In the figure, the logistic function looks to be radially symmetric. In particular, it appears that $\\sigma(x) = 1 - \\sigma(-x)$. (If so, we can use a simple thresholding for classificiation purposes, $\\sigma(x) > 0.5$ to capture $x > 0$.)\n",
        "\n",
        "Prove the identity $\\sigma(x) = 1 - \\sigma(-x)$.\n",
        "\n",
        "> Hint: *Don't* get hung up on this problem during the lab session. You can always come back to it later.\n",
        "\n",
        "<!--\n",
        "BEGIN QUESTION\n",
        "manual: true\n",
        "name: open_response_sigma_identity\n",
        "-->"
      ]
    },
    {
      "cell_type": "markdown",
      "metadata": {
        "id": "397d58a6"
      },
      "source": [
        "![Lab 1-4 Proof 1.PNG](data:image/png;base64,iVBORw0KGgoAAAANSUhEUgAAAkgAAAD0CAYAAABgidmIAAAAAXNSR0IArs4c6QAAAARnQU1BAACxjwv8YQUAAAAJcEhZcwAADsMAAA7DAcdvqGQAAC9QSURBVHhe7d35jxP3/cfx/AP80h8q8RPSV8oPqKpQlR8aNaoABQWUVGFBBFIRSEi5jwRCgEADLFfCfQSWEKCwiCtQoFBxCFjCGRBXOQOIK5yBcoV7ud9fvT6ZIcPU9o69a+/Y+3xII/B4PLZnvP68/Dnm85IBAADgBQQkAACAEAISAABACAEJAAAghIAEAAAQQkACAAAIISABAACEEJAAAABCCEgAAAAhaQek+/fv240bN+zx48femprh4cOH7n0/ffrUW5OZqtqPT+dh4cKFdvbsWW9Najdv3rSSkhK7cuWKt6ZmO378uC1evLjKzkfYhQsX7JtvvrG7d+96a/KT/u712Xn27Jm3BgAKW6SApC/FDRs22AcffGCrV6+2M2fO2OTJk624uLjgC1q992XLllnv3r1t3Lhx1r17d1dYpKuq9hOkfS5YsMDWrVvnrYnmxx9/tEGDBuW00FYAWbNmjQskcXH58mX3Gb5165a3Jjt2795t48ePj/Sj4uLFi/bVV1/ZqVOnvDXVS6956tSpNmzYMOvXr5+NHj3anjx54t37onv37rnvhf/7v/+zoUOHunX79u2zd9991+rVq2fHjh1z6wAgH1QYkFQIz58/35o1a+YKlKBNmzZZgwYN7MiRI96awvPTTz9ZUVGRHThwwMrKymzRokUZ1Z5V1X6CtK/+/fvbgwcPvDXRzZs3z6ZPn+7ObzYpEKlQ7datm9WuXdu2bdvm3VO9dOwHDx5sO3fu9NZkjwLFyJEjbe3atd6a5FauXGm//e1v3b9xcPjwYXv77bft3Llz9s9//tOF8VSfGb1XfSb9gCT6nNavX5+ABCCvVBiQ9Ov35ZdfTvjlroJZNSLvvPOOazYqRPpSf+ONNyr95V5V+/GpIFItkMJWJlRToRpBBbdc0PtWLUJcApIKfoW2XNWiKSR06dIl75radL4aN25s165d89ZUTOEoGJCq+rMPALmQMiCpEB44cKCrJVKBmoh+UdaqVSvjgjpXHj16lLLGRvdpm7B0v9yraj8VUTOnmi6SnZeK+L/0022ey5Ted5wCkpq8pk2b5t3Kvtu3b1vHjh1dUMqE/7lK9vkKq2i78vJyVxPk/5tMqoCU7LFRA5L//FUh6vsBgKhSBiR9KerLsU2bNu4LPhF94auG6YsvvnDbqznlN7/5jWvC0Rf08uXLXfV6p06dXJ8bbaPQpVD15Zdf2meffWZ//vOfbc+ePd4eX7R+/Xr3+L/85S82fPhw16F2wIABru+IXpPf70HNN+ojoWYTBbp///vf7vFHjx61jz/+2DZu3OjCQN++fV1zge/SpUuuFkxNGioM9HrUb0L03kaNGuUKdv2r59bzJVJV+xH11/nuu+9cAFLBElxmz57tttFzqMAN70c1FCr49RwfffSRzZ071/Vp+fTTT10TSdCcOXPcecuFXAYk9YvTZyt87N577z3XaVqfQ30eN2/e7D0ic3ouhS11lNf5/8c//uGaLjt06GDbt2/3tvolDOiz+e2333pr/pfO5cSJE5///YiatfW51/HT56ht27bP70tEr0d/gzt27HB/A+rr5n/e9RrUD06vVcF61qxZ1qJFi6S1Qzo++lvVeZsyZYrrQ6Za46VLl7r1ej3qgK6/v2B/uooCkvahz6j64qkmT+dKx0X7UHN+06ZNrXnz5u4zrO3eeustd77Ud+5f//qXu63azxMnTiR9P+pX1rNnT/fa9GMAANKVMiD5hZofbhLxt+natav79eaHquCXuP4f3Ie/jQpwfbGpE6hqRJLR4xWizp8/727r17FCkt/RWYv2r35SKgBVSO3fv999oerLVF/kPvU5adWqlStI1Cyo/webD0+fPu2+oP3OxOEv90Sqaj+i96b+Kgo0OiZ79+61V1999X9q6HRMVAMU/PLX/2fOnOnet6iQUkFy8uRJa9KkiZWWlrr1PgXGVOd2xYoV7v6KFp1HPUcq/uck2wFJ/eHefPNNV5jrHI8YMcIdg2DTlj5/KoCDn4tM6Lgp0Oj8+59BBYeDBw/aH/7wBxdyg1TYB4NDIgpJ7du3f/73o/ClIOtTaAn+bYUpaLzyyivuh4ECkUJIr1693OhJfZ4UEnVcRM+l0JYsIInOV7AGST94dDz9ju3+cwQ7b6cKSNpex0x/v/qsiwKTwoyCjr8//5zpPn2+/No+3Vao1995qvdDQAJQWSkDkr54GjVqlLIGSTU/qr3xvxD98BP8Etf/VXj4BbG/Tapf00F6fPBLWlRQ6Hn1/H7hFK4NUVgIP06BTDVMKvwVOlSYBEOL3qferwomCX65J1NV+xEVQPoV7PfpUoGhL/3we0tU2N65c8fVlOkxfkHrFyyJqPALnpds0vuuKCDpdWsouc5XqkXHxi9cg7Re/eFUw+FTUNBnQLUNPn0GFJDC50L71D4SPWdw8Ye7q9Zw165d7rH+30qqJkt9jisKSP5n2f/70XvRcVPtiIKvzmuq86XXpx8B2kbvZ8aMGe5Hgt6XFv2IUF8onYeff/7ZfU5TXeIgGJAUWBRcwu9B7/lPf/rT8x85uj+4TfCzrz5vOk7B7wfR51Sfex1bBVftT7VLuq31/neQzt2kSZNc6Mnk/QBAVCkDkv9lnaoPkoLGSy+95P4VfZHqCzX4Baj/JwpIqQrLID0+HHRU8P3+97934SRcqPj0JR1+nP/cuk/bq/AJFpT+vvzXG/xyT6aq9uM/Jhhq/KATrEWQRAEpSIXVa6+95ppaktHx919ftul9RwlIhw4dciEv1bJlyxZXcIZp3w0bNnzhs6ogrQLZr2WQZAFJx0HNYomeM7golIcDmtbpeAeDWJg+J6nOmfifAf+zrOdRs5KCn5re9Bypar5Uw7JkyZLnzcpff/31C38Dam77/PPPXQ2XmrnVfKfHJKNj6j8++LcTpG30HeCfW90f3Cb42fc/B+G/1eDfkP/jQj9wFPZUC6SQp2OsZsPgZyjd9wMAUaUMSKIAomHH4SYe8au/VQD5o6H8X3zBL0D9P1gQ+1+0wS+6VPT44Je86LHhGqTwl65qb8KPU+GowKdtFerCwcb/ctZ1X1RgB7/ck6mq/SQ6LmqqU6Hv92fy6fWrZkn7TkT7CIYFXUhSrymo0JrYwp8zHRs116jfmZqYfDrOLVu2dCG7qui5/VoOPa+aVsMFdUWhVsKfZZ0j1VSJ7lOTod+cHaZaFTV1qf+T36So/egzpb5MCs1+DZdeo4KWmm8rCtH+35D/tx1+D9pn8POfKiDpNah2yH9/Ph0bNQNfvXrV3VY4at26tY0ZM8YdSzVd6m9Jf9OqORIdl3TfDwBEVWFA0i9Y9YlRf5pE10HSF6P+9YW/4PWlrb4yfuEhiYJAKtpXsBZA+1STkwoKFQTh5/Tpi1WP+89//uOt+SXwqdO3miu0P1XR6+KXPlXr//GPf3SXN5Dgl3syVbUfvwDyj4t/7LWEayxUMxIMA6LnUidehRUFA/9+HSMVNH7B4iu0Ttp+oPOPifoj6XMbvk6XXytX2dei59OlAhRCFRL9UKCCe8KECS8EJBXgFXXSlvBnWfsMfq4UlNWnKFFA8v+u1AdP/ICodbrQqzrrqznKr33TZ0qDCaIGJFE/If0t+/vQ36LCizqo++83VUDyQ5xCq/+Z9pvu1DdJr1n091O3bt3n/af0On73u9+55jV/G+0v2fvRcdRxUIDytweAdFQYkERffBpdokJFHVDV1q+qbnWQDNdsiEaf/O1vf3NXA9b/33//ffdlp1+JqmnSF3WdOnXcL10FlvAv7TAVFtpe1efap35dqhBRMNFjdTVpFb66EKNeV7CmRJ2c9VpUVa9Os/p/sOZAv2j1OtSpV+9F93///ffuS1XPpS9/1aBphJw6fidTVftR8FHziJpqVGDomCU6Pnq+8DB/jaBTQNIxUMGo16D3r/2Eg5kfXFXIZ5POhY6JClA1gbRr186NPPJrCqqSCloVvHpPOt86jslqiVQToWNbGWr60fnU50//12dStRgKAOEfEzoOH374oavxTEbbqCO9/lYUGNS/SbUmf/3rX13Tn865bvuhO0yfNV2AVM2HCoX6PKjGSc1TCiy6rQ7s/uvToAKNqgyG7CB9ThVA9LenkWb6HCuE6DWqk7U+ozqG+mzrtetzqs+emgFVS6sRqPqRom117rWdnlfPp/3pHKiGdMiQIW6gRvBz7gdFv4ZI4V4DIYLHT5/pZO9Ht1UjpecO1h4CQFSRApJPXzT6QtOvOYWTVJ0hta1+depffWHpV16mv+QUkPQrVs+pL0p1Rk6HXqcel+w1aJ3u0zaV6eBZVfsJHrtkVJholE646VPHxj8+Ksz0Wvxf6kEKqgpQubpQZK7456Ciz5sCVLApKhP+c/kBQ+cr2blXjUgmF6ZUbZf2p3Ma9XPln/fw50frVfPk3++/7kz4n9HK7EOPTfU591+rzz8Wvqp8PwAQllZAqi5+QPKr+fEL1ST06dMnYQ1TRTQ6KtikUdPomKk5RkEp23SMVVuiEYoAgPwQ+4CkpgJdE0hNaCpggs1nNZ2ayVTwqn9JOnQNGTU/6Vd3TabmHzWRVaYWKQo1u6l5KZMgCwCoHnlRg4Tk1KygPl2phpcHKQwoVCkk4Zc+aurTprCZDeoLo/5gBHsAyC8EJAAAgBACEgAAQAgBCQAAIISABAAAEEJAAgAACCEgAQAAhBCQAAAAQghIAAAAIQQkAACAEAISAABACAEJAAAghIAEAAAQQkACAAAIISABAACEEJAAAABCCEgA0nLo0CErKSmxmTNn2vDhw+348ePePQBQOAhIACIrLy+37t2728qVK93tefPmWadOnez+/fvuNgAUCgISgLTcuXPHBaK7d+9ajx49bP78+fb06VPvXgAoDAQkAGl79uyZlZaW2vr16wlHAAoSAQlA2m7evGkTJkygaQ1AwSIgAQVCnaUXL14cuUZn06ZNri+RaoPSdePGDZs7d25Gj42jx48f28KFC+3s2bPemqpXmeMNIPcISEABuHz5shUXF9utW7e8NRVTQT116lRXcKfr4cOHLiRl0rx2+/ZtW7RokevLFAc6DgsWLLB169Z5a7KjMscbQO4RkIA8p9qPwYMH286dO7010f33v/+1Ll262IULF7w10agmpGHDhmnVuOgxo0aNsubNm1vjxo3t2rVr3j3V68CBA9a/f3978OCBtyZ7Mj3eAHKPgATkucOHD1u3bt3cqLJMTJs2zV3TKFd0aYC4BKQnT57YoEGDrKyszFuTfbk+3gAyQ0AC8tz48eNdoZsp1aB07NjRNX3lQpwC0pkzZ+zdd9+1ixcvemuyL9fHG0BmCEhAjF25csW+/PJLe+ONN15Y3nvvPddMo1FkulDj5s2bvUf8ateuXe6K11999ZWNGTPGjTqbPn26de7c2e3Xp/8rJJw4ccJbk125CkjqH/Xdd9+59xY+frNnz3bbbNu2zYWVe/fuuduVEdfjDSAzBCQgpo4cOWJvvvmmrVmzxhWqI0aMsA8++OCFpjSFDPXpUa1EkEa0zZo1y3UMPnbsmL3yyiuuGUnBoEmTJq5Tt081GW3atHFhIRE1Q82YMcMFsYoW9eW5evWq98jEchGQ1C9r5MiR9umnn7paor1799qrr776P01pei16zXqPlVGVxxtAPBCQgBjSCLF33nnHli5d6q0xO3r0qAsWwZoHNQ0pIKlQDlIg8JuNVLvUoEGDpM1Ifi1UrgrsKAFJAUfHQNukWnQ9JoWSsOXLl1uLFi3cPkTbqCP7F1984W771DQ5dOhQ79avNMIu0fOFF43mkzgfbwCZISABMaTCU6PEgoWsCt5GjRq90Fyj+xMFpCD1UerataubRy2ROAYkvabt27fbxo0bUy579uxxYSrIfz/BfllqQmvfvr3NmTPHW/OLZAHp1KlTCZ8vvARrhnxxO94AMkNAAmJIIUKFqApTUQ3IuHHjrG/fvs9rLUQho2XLlq52KZFwWNDtkydPuv/7Cq2JTfvV/oPv5/Tp0y5w7tu3z1vzC70W1SwlqoXKRFUcbwDxQEACYmjFihWuoPUDkvojNW3a1P0b5NeMBAtbPWbYsGGuw7Ca4/74xz8+v1+1Hv5M/L5C66StZjc1r/nv2e+PpCVc26RaueBxzkTcjzeAzBCQgBhSR2zVFiko6QKQH3/8cdJaovAwf11NW6PcNMu+RlQNGTLEJk6c6AptbRcOCerg3bZtWxcsskmdpfWaioqKrE6dOu7K31u2bMnKBRoVfHTMFEL03vW+Ez1PVQzzj+vxBlA5BCQgptTso0I0WUdknwJUhw4dXhjdpkJZHZT9wlmdjpNN7aGLFhbihQvVFKlaqmCTZJhCU8+ePSt9oUiON1B4CEhAnlMh/9lnn2U01YgKdV2n58cff/TW1Dy7d++2Pn365GSqEY43kD8ISEAB0HV4+vXrl9Z0I6qVUk2GhsTXZOqErmbKDRs2eGuyg+MN5BcCElAgdC0eFcBRL3qo/j+LFy/OaEb+QqOO1uo/lM2O0xxvIL8QkAAAAEIISAAAACEEJAAAgBACEgAAQAgBCQAAIISABAAAEEJAAgAACCEgATGimd4XLVqUdJoKxAfnCihsBCQgBjTj+6hRo6x58+ZZnekelce5AmoGAhIQI/PmzaPQzROcK6CwEZCAGKHQzR+cK6CwEZCAGKHQzR+cK6CwEZCAGMmHQvfQoUNWUlLiJsYdPny4HT9+3LunZiEgAYWNgATESNwL3fLycuvevbvrqCx6vZ06dXKz4dc0BCSgsBGQgBjJh0JXw9oViO7evWs9evSw+fPn29OnT717aw4CElDYCEhAjORLofvs2TMrLS219evX18hwJAQkoLARkIAYyZdC9+bNmzZhwoQa2bTmIyABhY2ABMTAmTNnXFNVUVGR1alTx4qLi23Lli324MEDb4t4uXHjhs2dO9fVJNU0+XauAGSGgAQgbQ8fPnQhKZPmNaboAJAPCEgA0qZRbA0bNrSzZ896ayrGFB0A8gkBCUBO0XcHQD4gIAHIKQISgHxAQAKQUwQkAPmAgAQgpSdPntiMGTPcFbMrWvr3729Xr171HpkYAQlAPiAgAUmMHz++Ri25EiUgPX782I2S0zapFl2PKdmlBhK9x3xcAFQPAhKQxK5du2rUkitRApIuQLl9+3bbuHFjymXPnj0uTCWS6D3m4wKgehCQAKREExuAmoiABBSYAwcO2OjRo10QiaOaGpDifl4AvIiABBQYXeW6V69etnTpUm9NPNT0KTriel4AJEZAAiLQlBpr1qyx48ePe2vi68qVK9ayZUs7cuSItwZxOH+cFyC/EJCAFFSgqlmkW7duVrt2bdu2bZt3TzSqNcj1nGPquNyqVStXYzN9+nQbMGCA6/Cs0V47duywWbNm2dChQ23EiBFulNTkyZNdP6NCVNnzp3Onc1gVkp0XhTdNwzJnzhz7+9//bmPGjHHnZ8mSJd4jAVQHAhIQwbFjx6xevXppF7DaXoVdLqmgbdOmjU2ZMsUuXrxopaWlLiho3rSZM2e6MDR48GCbOnWq7d6929WsZDLpbD7J9Pzp3KX7mGSSnZd9+/bZ8uXL7e7du9a+fXtbtWqVrVu3zo1gS3YJAwDZR0ACIqjugKRQo4I00VB3LVu3bnWz5Pv9XDp27OhGlB08eNDbw6+0Xdu2baus4M8H1R2QopwXhSZN5KvXCqD6EZCACHIVkHRNH3XiHThwoGt2UUfmy5cve/dWLNjPRaOlVFO0d+9e279/v7uootbrvaij9Pnz5+3EiRNWVlbmPbpw5SogJTt/qc6L7j916pR7HtUw6TypKVT3Aag+BCQgglwEJBWuI0eOdH1T/IsfqjBN5zn9fi66CrWaajp37mxjx46169evuwK7S5cu7jlUU6ERZBMnTrRLly55jy5cuQhIqc5fqvOiPmCDBg1yj/vggw/c9lqnmj4A1YeABEQQpYBVoRieHkP9e1TwBddp0ZWiw1STU7duXXe9HDXJ7Ny50xWc2j4q9SW6d++ed8usvLz8eWEt2q8W9W3RdjWlj0uU86dzEj5POnc6h8F1OsfBY+pLdf4qOi/+7fB2AKoPAQmIIEoBq6YR1coE+wapI3SHDh1eWKdFTSphqq3QBRRXr17t+hulmmcM6Yly/nROwudJ507nMLhO51jnJozzBxQWAhIQQaZNNNo+ShOb34lXHXgLdch9dcr0/EVtYuP8AYWHgAREkO2AJBqCHy5gN2/e7IaAo3KyHZCE8wcUFgISkII6yqoPSu/eva1WrVrWrl07W7ZsWYUTsvrSCUga6dSzZ0/3mNOnT1tJSYlt2LCh4K9RlE2VPX/pBCTOH1BYCEhAFqUTkER9VtR3hf4r8ZBOQBLOH1A4CEhAFunqyOfOnfNuId/oEggKOwBqHgISAABACAEJAAAghIAEAAAQQkACAAAIISABAACEEJAA1EiPHj1yE/hq5v1Dhw55awHgFwQkADXWmTNnrFmzZu7CjgAQREACUGNpKhBNSKvrVQFAEAEJiBFNjbFo0SK7c+eOt6Zw6SKMmvZDE71Wl/Hjx9u4cePs6NGj7v8DBgxwU4boPGhuNS2DBg2ySZMmuelKTpw44T0yO2rS+QfijoAExID6wowaNcqaN29ujRs3tmvXrnn3FBaFoQULFtjIkSOtfv361qlTJ7t//753b8U0fYdCxOPHj701mbt37561b9/eBSAFtZMnT9qsWbPc/ufMmWPHjx93walp06bu3/nz57tQlw015fwD+YSABMTIvHnzakwBqXnO0g1I2rZPnz5udv7KUv+jJk2a2CeffOJqj65fv+7d86t169al/RoroyadfyDuCEhAjBCQUqvKgOT3P1KTml7Hpk2bXE3Szz//bEeOHLEbN27YsGHDbOrUqa7GSk1f2Z6XjYAExAcBCYgRAlJqmQQkPWbatGmuCUsBSM176pTt9z968OCB63uk9bNnz3YB6f3337dvvvnG2rRp4x6nJrDly5fb06dPvb1mBwEJiA8CEhAj+VBA6ppBJSUlrgPz8OHDXV+dTOQiICkIde3a1aZPn+76L4mCkR6v/lB+B3Hdpz5J/jbB28Htso2ABMQHAQmIkbgXkOXl5da9e3dXoyJ6vZn20YkSkDSaS8fCXy5cuGA9evSwXbt2vbBezWGJancU4ho0aGAXL150z7N27VpXI5TJ600l/DqTLRUFLQISEB8EJCBG8qGAVBhQwFDtjMKKRndl0vRUUUBS7Y1qqzZu3Ph8UcBp3bq1O07B9du3b/+f/ei29q9msrKyMtevKFvD50+dOvXC60m2XL582XtEYgQkID4ISECM5EsBqfBSWlpq69evz7hfTrab2NShukWLFq7/Ub4gIAHxQUACYiRfCkiFjwkTJqQVbsKyHZCePHni5lkLBiQFu8WLF9uOHTu8NfFCQALig4AExICuyaOmqqKiIqtTp44VFxfbli1b3AirOFKfn7lz57rAkS41dSm0qG9QvXr1XKfpPXv2uEBTkXQCkqgDebdu3eyHH35wzXUTJ060ffv2ZfS6synfzj9QExCQAKRNnY2TdYzOpnQDkug16rUyfQeAdBCQAKRNo9gaNmxoZ8+e9dbkhmp+9JyVadoDgCgISAAAACEEJAAAgBACEgAAQAgBCUBKGl02Y8YMNyS/oqV///529epV75EAkL8ISEASmsm9ffv2NWL56KOPvHedPefOnUv43CzJl08++cQ7egByjYAEJKGpNGrSkm2JnpOl4gVA9SAgAUiJJjYANREBCSgwBw4csNGjR7tpK1D17t27ZwsWLHDTmFy4cMFbC6DQEJCACHQ15jVr1ripK+JOV7nu1auXLV261FtTOHShyF27dlX7XGqaGqVVq1buCt0AChMBCUhBgUi1MZrPq3bt2rZt2zbvnmgUVnI9xcWVK1esZcuWbs6zQnHp0iWbPHmy9evXz15++eW0a8ceP35st2/frrI52ObMmWNDhgzJ+VQrAHKHgAREoLm/NLFqugFJ22vW+lzyazc0Aer06dNtwIABtn37dhcOVPMya9Ys95pGjBjhJopV8IgyUWwcaJZ7zXafbkDS+dMcblUxRYlfQ7dkyRJ3PMeMGeNGPGrfCnJff/21TZ061QWoSZMmWd++fV1oBZBfCEhABPkUkFS70aZNG5syZYpdvHjRSktLXU2Y5jCbOXOmC0ODBw92hfju3btd02G+1ITEISAp7DRv3twFIM24v3fvXvv2229dDVVJSYl7jZs3b7bWrVu7467XqvsA5BcCEhBBrgKSmoLUd0gdgDUhbHFxsV2+fNmFmn379tnGjRsTLlu3bnWFsF+70bFjRzei7ODBg96ef6Xt2rZtm/Z7iYNcBiQdOz1G52PcuHEuDIlq6F5//XXr2bOnq41LtM9p06a5WqWqatIDkHsEJCCCXAQkhaORI0e6JjH9XxQE0nnOYP8jPVY1Rarh2L9/v928edOt13spKiqy8+fP24kTJ6ysrMx7dPzlKiBt2rTJ3nrrreej1PR4NUeK3//IP9YKrmpu0zWLFKquX7/uLnmwevVq93wa8fbgwQP3WAD5g4AERBAlICnUaFSTCnF/UfOVAk9wnZZEBbWCSt26dd0wfdUE7dy50wYNGuS2jyo4umrVqlXWuXNnGzt2rCu0VSPVpUsXF8LURKQakYkTJ7p+M/lCx6KigKTmwvB50Mi3Hj16uMATXJ+oA/1PP/1kjRo1crVA2peuAK7aIDVHBkcI3rp1y13tWn2QdGzV50uBSf2+mjVr5oLU/Pnz7fvvv6cmCchDBCQggigBSTU0Ch3Bpi/18+nQocML67ScOnXKe9SvVNOkwl81D6qV0P7SLVhVoOs6Pb7y8vLntVGiAl6L9qvt8q3gVqipKCApfKpTevB4a3v1CVq7du0L6w8dOvQ/x0DnWCMW1Xym/6uJM3gMg8c0fLyDt8PHHkB+ISABEUQJSIlo+yhNbH7NhPoN5cuIsuoQJSAlkk4T24oVK6xBgwaugzuAmouABESQ7YAkGmEWDkgaDbV8+XLvFnIRkA4fPmxvv/32CwFJtUjqg6RaIQA1AwEJSEEjvtSPqHfv3larVi1r166dLVu2LPJ8Y+kEJHX61cgoPeb06dNuyPiGDRtcs01Np07Oar7UqL46deq4Tubq36N+P1GkE5DULKamUfUlUkhSjZLmomPiWKBmISABWZROQBL1h1Hfo0z6HyG5dAKST9uqszf9iICaiYAEZJFqHTQKCtVLNVA//vgjoRNAZAQkAACAEAISAABACAEJAAAghIAEAAAQQkACAAAIISABAACEEJAA5D1N8Dt69Oi0r7ANAMkQkADkveAs+wBQFQhIAPKepmlp2bKlHTlyxFsDAJVDQAJiRHO/LVq0yO7cueOtQRR79uyxVq1aubnZNIfagAEDbPv27e7K2Tt27LBZs2a5KV9GjBjhJp2dPHnyC5MCA0AYAQmIgZUrV9qoUaOsefPmbrZ6zVqP6ObMmWNt2rSxKVOmuAlmS0tL7fjx43b27FmbOXOmC0ODBw92k9Du3r3bTUDMJMAAUiEgATGiTsYEpPT4/Y86duxo/fv3t4MHD3r3/Eo1c23btnWTBwNAFAQkIEYISOkL9j/S8VNN0d69e23//v128+ZNt16z+RcVFdn58+ftxIkTVlZW5j0aABIjIAExkg8B6dChQ1ZSUuKaroYPH+6asnLh8ePHbpTawIEDXZNkcXGxXb58+Xn/oxs3btiqVausc+fONnbsWLt+/brbrkuXLjZy5EjXfLllyxabOHGiXbp0ydsrACRGQAJiJO4Bqby83Lp37+6Ch+j1durUye7fv+9uZ4vCkUKOOl/r/6LnVpOZ+hLdu3fPrRO9Rn8bUROcFnXY1nb6FwAqQkACYiQfapA0wk6B6O7du9ajRw+bP39+1js8q0msbt267oKQCjs7d+60QYMG0RQJIGsISECM5ENAEtXCaKTY+vXrczIaTEP0dVxWr15t+/btc32LqAkCkE0EJCBG8iUgKaBMmDAh601r4o9S0wg1rl0EIFcISECM5EtAUofouXPn5qwWRx3CwwFp8+bNtnz5cu8WAFQtAhIQA7oCtPryaCh6nTp13Agtjbh68OCBt0W8qFZHISlXF1vUUP6ePXu6TtmnT592o+g2bNjAxR4BZA0BCUDaNIqtYcOG7krVuaLaKjXt0f8IQC4QkAAAAEIISAAAACEEJAAAgBACEoCUNHJsxowZ7orZFS0aaXb16lXvkQCQvwhIQBIaWVaTlmw7d+5cwufNxwVA4SMgAUkMGzbMPvvssxqzZJsCUqLnzbdl4cKF3jsCUMgISABSookNQE1EQAIAAAghIAEFRjPejx492k1bguQePXrkLng5cOBAO3TokLcWAH5BQAIi0JQWa9assePHj3tr4suf3HXp0qXemni6dOmSLVu2zL3e6qIO182aNXPTlwBAEAEJSEGBSLUx3bp1s9q1a7u5wNKhwv/OnTverdzQvGUtW7a0I0eOeGviQ8djwYIFNnLkSKtfv77rt3T//n3v3oppipHbt2/b48ePvTWVowlvO3ToYHfv3vXWAMAvCEhABMeOHbN69eqlHZC0/dChQ71bubFnzx5r1aqVqx2ZPn26DRgwwLZv3+7CxY4dO2zWrFnuNY0YMcLGjx9vkydPfmGW/FzRa0g3IGnbPn36uPNRFfT+x40bZ0ePHnX/17FSwFQImzlzplsGDRpkkyZNst69e9uJEye8RwIodAQkIIJ8Ckhz5syxNm3a2JQpU+zixYtWWlrqasI0sawKfIWhwYMH29SpU2337t2u6bA6ZsWv7oB07949a9++vQtAauo7efKkC48KRzqGOmYKTk2bNnX/zp8/3zULAqgZCEhABLkKSGo6Ut8hdRxWB+Li4mK7fPmyCzX79u2zjRs3Jly2bt3qCna//1HHjh3dkPuDBw96e/6Vtmvbtm3a76Wq5Sog6THTpk2zUaNGuSCk5j01qamGrUmTJvbJJ5+42qPr1697j/jVunXr0n6NAAoDAQmIIBcBSeFIhbeaefw+NhqJls5zBvsf6bGqKdq7d6/t37/fbt686dbrvRQVFdn58+ddk1FZWZn36NzKRUBSEOratatralQToygM6fF+/yMdM72OTZs2uQD1888/u+N048YNd7FQ1bTpfCxatMgdQwA1AwEJiCBKQFIhqkL12rVrzxc1XynwBNdpSRQKFFTq1q3rhumrJmjnzp2u+UfbR+X3P9LrWLVqlXXu3NnGjh3rakdUI9WlSxcXwpo3b25btmyxiRMnVluzUZSApA7uweN24cIF69Gjh+3ateuF9Xq/iZoJ1aTYoEED19So51m7dq2rSdL//f5HDx48cOdIx2X27NkuIL3//vv2zTffuKZKba9jt3z58mppigRQPQhIQARRApJqFxQ6gk1fqn1QLUVwnZZTp055j/qVAkPjxo1t9erVrjlN+/NrPaJSAa6+Nb7y8vLntVGi4KVF+9V26e6/KlUUkPTadH2i4HFTwGndurWrHQuuVyf08H50W/tXyFH4VK1QcEShfywkfDyCt4PbAag5CEhABFECUiJRm9hUAKvvkPoNVceIsuqQ7SY2BcwWLVq4/kcAkC4CEhBBtgOSqDkoHJDUT0ZNO4Uo2wFJx1Gd3YMBSTVCixcvdpc7AIBUCEhAChrxpX5EugZOrVq1rF27dq4jb9QJWdMJSOos3LNnT/cYXdm5pKTENmzYUHD9XtTUpdCivkEKneoLpL5TUWrO0glIoqH6usjnDz/84Jrr1OdKzZd+UxoAJENAArIonYAkKrjVNJRJ/6OaIN2AJAqY6sSd6yuaA8hvBCQgizTM/Ny5c94tVJZCoy54mU6zHABkgoAEAAAQQkACAAAIISABAACEEJAAAABCCEgAAAAhBCQgRnTdJU2KypD0qqO55nTtKqYLAZAOAhIQA5oMVZOiahJZzcemCViROYWhBQsWuAlo69evn/YVuwGAgATEiCZhJSBVrUymNAEAAhIQIwSkqkdAApAJAhIQIwSkqkdAApAJAhIQIwSkqkdAApAJAhIQIwSkqkdAApAJAhIQIwSkqkdAApAJAhIQIwSkqkdAApAJAhIQIwSkqkdAApAJAhIQA2fOnLH58+dbUVGR1alTx4qLi23Lli324MEDbwuk68iRIzZt2jRr0KCB1atXz8aPH2979uyxJ0+eeFsAQHIEJACIKQXkqVOn2uDBg+3u3bveWgC5QEACgBhSIPr888+ttLTUHj9+7K0FkCsEJACIGYWjHj16uGbXp0+femsB5BIBCQBiRLVFmrh49OjR1BwB1YiABAAxsnDhQnv33XftypUr3hoA1YGABCAljfqaMWOGGypf0dK/f3+7evWq90ik6/jx427U3aZNm7w1AKoLAQlIYty4cTVqybZz584lfN5CXVavXu298+TU10iXHtBoNQXRgQMHWvfu3blmExADBCQgid27d9eoJdsUkBI9byEvqTx69MjVuL300kv27bff2uHDh931mr777jtvCwDViYAEICWa2LJHF7NUKHrttdfsww8/tCZNmtjly5e9ewFUJwISUGAOHDjgRkBp2pJCde/ePVuwYIFrkrpw4YK3Nv88e/bMpk+f7mqRtOj9cKVvIB4ISECBefjwofXq1cuWLl3qrSlM6rvTqlUru3HjhrcmP2m0WrNmzaxWrVq2cuVKby2A6kZAAiLQxfrWrFnjRhnFnQrcli1buuabQjZnzhwbMmRILC6kqJqgXbt22Y4dO7w16Tl16pSr+eOikEB8EJCAFBSI1FzVrVs3q127tm3bts27JxrV5ty5c8e7lRt+zYomwFXzzYABA2z79u2uEFcBPmvWLDfD/YgRI9wErpMnT867Zh2/lmzJkiXuPY0ZM8aGDRvmRn9dunTJvv76azeHmQLUpEmTrG/fvpGvK5TOOdNz6fj169fPXn755YJu1gRqGgISEMGxY8dcZ9p0A5K2VxjJJdWstGnTxqZMmWIXL150c3kp6J09e9ZmzpzpwpAmP1WA0Egr1YzlW82Fwk7z5s1dANqyZYvt3bvXjQS7ffu2lZSU2LVr12zz5s3WunVr994VXHRfFJmcMz1f48aNCUhAASEgARFUd0BSqNm3b59t3Lgx4bJ161YXAPyalY4dO7oRZQcPHvT28Ctt17Zt27TfSy6o1ivR+/MX3S+qJXv99detZ8+erkYs0XWDpk2b5mqVVHOWDgISACEgARHkKiBp7i11rtZoJnXYLS4uTmvYd7D/kQpr1RSpdmX//v128+ZNt17vpaioyM6fP28nTpywsrIy79G5o+DWp08f9151UUXVAqXD73/kv1+FRzW36cKL2vf169fdZQd0sUaFJ41408UYoyAgARACEhBBLgKSwtHIkSNdnyF/klIVuOk8Z3Bk16pVq6xz5842duxYFxgUuLp06eKeQ81TCiUTJ050/WhySdNovPXWW8+H5+vYqi9UVMFRerdu3bL27du7Pkh6f6phUmBS3yuNDFOQ0oz433//feSaJAISACEgARFECUgKNQomKiz9Rf17FHiC67QkahJSTU7dunXdaCaFgJ07d9qgQYPc9lGpL5GuEeQrLy9/YUZ47VeLwoK2S7f5qbJ++ukna9SokWv+0mvV1bXVDFbRVafDgu8r/J6Dt8PvP6yy58yn+wlIQGEhIAERRAlIasJSrUywz4w6Qnfo0OGFdVo0rDtMtRYqZNUspCYj7S/XASbbdPw0GlD9hvR/NR+mCjDZVtlz5iMgAYWHgAREkO0mNr/ZSB2rC/lKyitWrHCz1Wt0XVxFPWdBBCSg8BCQgAhy0QdJQ/DDAUlD1ZcvX+7dyn+akPXtt99+ISCpFkl9kNQcFgcEJABCQAJS0JB49Unp3bu3mwqiXbt2tmzZssgTsqZT2GpEloat6zGnT5921/PZsGFD3l2jKBU1p6kJS52oFZJUo6SJcDX6LC7SOWcaGacmOo02rFOnjhsdqE7h/uUIAOQvAhKQRenWRqjPkfrFFGL/oyB1eFbn6Orsf5RMJjVIAAoPAQnIItWMaKQW8gfnDIAQkAAAAEIISAAAACEEJAAAgBACEgAAQAgBCQAAIISABAAAEEJAAgAACCEgAQAAhBCQAAAAQghIAAAAIQQkAACAEAISAABACAEJAAAghIAEAAAQQkACAAAIISABAAC8wOz/AeChwV+yFJkXAAAAAElFTkSuQmCC)"
      ]
    },
    {
      "cell_type": "markdown",
      "metadata": {
        "id": "2E_uJUxu0Elh"
      },
      "source": [
        "<!-- END QUESTION -->\n",
        "\n",
        "\n",
        "\n",
        "The logistic function, when applied to the weighted average above is greater than 0.5."
      ]
    },
    {
      "cell_type": "code",
      "metadata": {
        "colab": {
          "base_uri": "https://localhost:8080/"
        },
        "id": "QfMMLqkA0Elh",
        "outputId": "565c96cb-7042-43f5-a5be-cb2296754dd8"
      },
      "source": [
        "sigma(wtd_sum)"
      ],
      "execution_count": 13,
      "outputs": [
        {
          "output_type": "execute_result",
          "data": {
            "text/plain": [
              "tensor(0.7109)"
            ]
          },
          "metadata": {},
          "execution_count": 13
        }
      ]
    },
    {
      "cell_type": "markdown",
      "metadata": {
        "deletable": false,
        "editable": false,
        "id": "TPaQHqRR0Elh"
      },
      "source": [
        "In the _Federalist Papers_ classification problem, there are only two classes, so we can use this single value to determine the classification. For an input feature vector $\\vect{x}$ and weight vector $\\vect{w}$, we'll take the model to predict the probability of the author being Hamilton (say), as\n",
        "\n",
        "$$\\Prob(\\mathrm{Hamilton} \\given \\mathbf{x}) = \\sigma(\\mathbf{w} \\cdot \\mathbf{x})$$\n",
        "\n",
        "Therefore, \n",
        "\n",
        "$$\\Prob(\\mathrm{Madison} \\given \\mathbf{x}) = 1 - \\sigma(\\mathbf{w} \\cdot \\mathbf{x})$$\n",
        "\n",
        "since there are only two classes.\n",
        "\n",
        "> When there are more than two classes, we'd use a generalization of the sigmoid function, called [softmax](https://en.wikipedia.org/wiki/Softmax_function).\n",
        "\n",
        "Define a function `predict_lr` that calculates the probability of Hamilton being the author of an example text, given a weight vector and the feature vector for the example text.\n",
        "<!--\n",
        "BEGIN QUESTION\n",
        "name: predict_lr\n",
        "-->"
      ]
    },
    {
      "cell_type": "code",
      "metadata": {
        "id": "Sgjkefou0Elh"
      },
      "source": [
        "#TODO: Calculate the probability of Hamilton being the author\n",
        "def predict_lr(weights, features):\n",
        "    return sigma(torch.dot(weights, features))"
      ],
      "execution_count": 14,
      "outputs": []
    },
    {
      "cell_type": "markdown",
      "metadata": {
        "id": "qJ0pB7Lv0Eli"
      },
      "source": [
        "This is the *forward computation* for the logistic regression model, calculating its output prediction from some inputs. Next we turn to the *backward computation*, calculating the updates to the parameters based on any error in the predicted output, as measured by a loss function."
      ]
    },
    {
      "cell_type": "markdown",
      "metadata": {
        "id": "0751fQqG0Eli"
      },
      "source": [
        "# Using a logistic regression model to predict Federalist authorship"
      ]
    },
    {
      "cell_type": "markdown",
      "metadata": {
        "id": "HjDk9F7S0Eli"
      },
      "source": [
        "Consider the following two training examples (examples 0 and 9) from the _Federalist_ training dataset:"
      ]
    },
    {
      "cell_type": "code",
      "metadata": {
        "colab": {
          "base_uri": "https://localhost:8080/"
        },
        "id": "WTMgmp6k0Eli",
        "outputId": "65c432d7-9e78-4e27-b437-b28a432f0cc4"
      },
      "source": [
        "for example in [0, 9]:\n",
        "    pprint(training[example])"
      ],
      "execution_count": 15,
      "outputs": [
        {
          "output_type": "stream",
          "name": "stdout",
          "text": [
            "{'authors': 'Hamilton',\n",
            " 'counts': tensor([9., 6., 2., 0.]),\n",
            " 'number': '1',\n",
            " 'title': 'General Introduction'}\n",
            "{'authors': 'Madison',\n",
            " 'counts': tensor([17.,  0.,  0.,  1.]),\n",
            " 'number': '14',\n",
            " 'title': 'Objections to the Proposed Constitution from Extent of Territory '\n",
            "          'Answered'}\n"
          ]
        }
      ]
    },
    {
      "cell_type": "markdown",
      "metadata": {
        "id": "3F0HfEf10Elj"
      },
      "source": [
        "As above, a logistic regression model is defined by a vector of weights $\\mathbf{w}$, like these:"
      ]
    },
    {
      "cell_type": "code",
      "metadata": {
        "colab": {
          "base_uri": "https://localhost:8080/"
        },
        "id": "0L2m8xdK0Elj",
        "outputId": "80fda281-b864-4d0b-da76-7d3a46ec84d8"
      },
      "source": [
        "weights"
      ],
      "execution_count": 16,
      "outputs": [
        {
          "output_type": "execute_result",
          "data": {
            "text/plain": [
              "tensor([-0.1000,  0.2000,  0.3000, -1.0000])"
            ]
          },
          "metadata": {},
          "execution_count": 16
        }
      ]
    },
    {
      "cell_type": "markdown",
      "metadata": {
        "deletable": false,
        "editable": false,
        "id": "Kc5FzvEq0Elj"
      },
      "source": [
        "Calculate the predicted Hamilton probabilities for the two examples (examples 0 and 9) above.\n",
        "<!--\n",
        "BEGIN QUESTION\n",
        "name: prob_hamilton_examples\n",
        "-->"
      ]
    },
    {
      "cell_type": "code",
      "metadata": {
        "id": "aDo4RQ7J0Elj"
      },
      "source": [
        "#TODO\n",
        "prob_hamilton_example0 = predict_lr(weights, training0_counts)\n",
        "\n",
        "training9_counts = training[9]['counts']\n",
        "prob_hamilton_example9 = predict_lr(weights, training9_counts)"
      ],
      "execution_count": 17,
      "outputs": []
    },
    {
      "cell_type": "code",
      "metadata": {
        "deletable": false,
        "editable": false,
        "colab": {
          "base_uri": "https://localhost:8080/",
          "height": 46
        },
        "id": "9465cce0",
        "outputId": "3e33c556-391f-4056-96dd-7ca5a9f3a066"
      },
      "source": [
        "grader.check(\"prob_hamilton_examples\")"
      ],
      "execution_count": 18,
      "outputs": [
        {
          "output_type": "execute_result",
          "data": {
            "text/html": [
              "\n",
              "    \n",
              "    \n",
              "        <p>All tests passed!</p>\n",
              "    \n",
              "    "
            ],
            "text/plain": [
              "\n",
              "    All tests passed!\n",
              "    "
            ]
          },
          "metadata": {},
          "execution_count": 18
        }
      ]
    },
    {
      "cell_type": "code",
      "metadata": {
        "colab": {
          "base_uri": "https://localhost:8080/"
        },
        "id": "flaDRF3W0Elk",
        "outputId": "b161d1dc-e6fa-487d-ee3f-ecfea9921a53"
      },
      "source": [
        "print(f\"example 0 prob of Hamilton: {prob_hamilton_example0:.3f}\\n\"\n",
        "      f\"example 9 prob of Hamilton: {prob_hamilton_example9:.3f}\")"
      ],
      "execution_count": 19,
      "outputs": [
        {
          "output_type": "stream",
          "name": "stdout",
          "text": [
            "example 0 prob of Hamilton: 0.711\n",
            "example 9 prob of Hamilton: 0.063\n"
          ]
        }
      ]
    },
    {
      "cell_type": "markdown",
      "metadata": {
        "deletable": false,
        "editable": false,
        "id": "Zi_CJ6zg0Elk"
      },
      "source": [
        "<!-- BEGIN QUESTION -->\n",
        "\n",
        "**Question:** What does this model predict about the two training examples? Is it correct?\n",
        "<!--\n",
        "BEGIN QUESTION\n",
        "name: open_response_original_model_prediction\n",
        "manual: true\n",
        "-->"
      ]
    },
    {
      "cell_type": "markdown",
      "metadata": {
        "id": "d16241b3"
      },
      "source": [
        "*The model predicts that there is a 71% chance that Hamilton wrote paper 0, and a 6.3% chance that he wrote paper 9. These predictions are correct as Hamilton did write paper 0, and Madison wrote paper 9. However more test data is needed to determine if this model is truly a good one, or just makes good predictions for a limited subset of testing data including these two examples."
      ]
    },
    {
      "cell_type": "markdown",
      "metadata": {
        "id": "RidNLV2m0Elk"
      },
      "source": [
        "<!-- END QUESTION -->\n",
        "\n",
        "\n",
        "\n",
        "# Training a logistic regression model\n",
        "\n",
        "Of course, this is just one of a gazillion models (weight vectors), since we could have set the weights in all kinds of ways. How should we come up with a _good_ model, i.e., a good setting of the weights? Ideally, we'd try to find a set of weights that predicts all of the training data well. This is the problem of _training_ a logistic regression model. Let's try another set of weights:"
      ]
    },
    {
      "cell_type": "code",
      "metadata": {
        "id": "hGd-KoIM0Ell"
      },
      "source": [
        "weights_new = torch.tensor([0.1, 0.2, 0.3, -5.])"
      ],
      "execution_count": 20,
      "outputs": []
    },
    {
      "cell_type": "markdown",
      "metadata": {
        "deletable": false,
        "editable": false,
        "id": "sVT3SAW70Ell"
      },
      "source": [
        "Calculate the probabilities generated by the model for these weights.\n",
        "<!--\n",
        "BEGIN QUESTION\n",
        "name: prob_hamilton_examples_new\n",
        "-->"
      ]
    },
    {
      "cell_type": "code",
      "metadata": {
        "id": "Crcu-pJO0Ell"
      },
      "source": [
        "#TODO\n",
        "prob_hamilton_example0_new = predict_lr(weights_new, training0_counts)\n",
        "prob_hamilton_example9_new = predict_lr(weights_new, training9_counts)"
      ],
      "execution_count": 21,
      "outputs": []
    },
    {
      "cell_type": "code",
      "metadata": {
        "deletable": false,
        "editable": false,
        "colab": {
          "base_uri": "https://localhost:8080/",
          "height": 46
        },
        "id": "30ac9fe7",
        "outputId": "04085be2-598d-4348-92d8-18a9d5254185"
      },
      "source": [
        "grader.check(\"prob_hamilton_examples_new\")"
      ],
      "execution_count": 22,
      "outputs": [
        {
          "output_type": "execute_result",
          "data": {
            "text/html": [
              "\n",
              "    \n",
              "    \n",
              "        <p>All tests passed!</p>\n",
              "    \n",
              "    "
            ],
            "text/plain": [
              "\n",
              "    All tests passed!\n",
              "    "
            ]
          },
          "metadata": {},
          "execution_count": 22
        }
      ]
    },
    {
      "cell_type": "code",
      "metadata": {
        "colab": {
          "base_uri": "https://localhost:8080/"
        },
        "id": "KwFx4cII0Ell",
        "outputId": "a29abbf2-a9d1-4d9e-8040-62d0fd8122bc"
      },
      "source": [
        "print(f\"example 0 prob: {prob_hamilton_example0_new:.3f}\\n\" \n",
        "      f\"example 9 prob: {prob_hamilton_example9_new:.3f}\")"
      ],
      "execution_count": 23,
      "outputs": [
        {
          "output_type": "stream",
          "name": "stdout",
          "text": [
            "example 0 prob: 0.937\n",
            "example 9 prob: 0.036\n"
          ]
        }
      ]
    },
    {
      "cell_type": "markdown",
      "metadata": {
        "deletable": false,
        "editable": false,
        "id": "YkFlb00L0Ell"
      },
      "source": [
        "<!-- BEGIN QUESTION -->\n",
        "\n",
        "**Question:**  Is this a better model, a worse model, or neither, at least as far as the two sample examples are concerned? \n",
        "<!--\n",
        "BEGIN QUESTION\n",
        "name: open_response_new_model_prediction\n",
        "manual: true\n",
        "-->"
      ]
    },
    {
      "cell_type": "markdown",
      "metadata": {
        "id": "6f5f27d3"
      },
      "source": [
        "* For these two examples, these new weights appear to be a better model, relatively speaking, since it gives an even higher probability (93.7%) for example 0 being written by Hamilton, which is correct, and an even lower probability for example 9 (3.6%) being written by Hamilton, which was written by Madison. More test data is needed to accurately assess the model's performance beyond these two pieces of test data.*"
      ]
    },
    {
      "cell_type": "markdown",
      "metadata": {
        "id": "6gjj6SCl0Elm"
      },
      "source": [
        "<!-- END QUESTION -->\n",
        "\n",
        "\n",
        "\n",
        "An ideal model would give a probability of 1 to the Hamilton examples and a 0 to the Madison examples.\n",
        "For the two sample examples, you'll have noticed that the new weights generate not 1 and 0, respectively, but numbers quite a bit closer to 1 and 0.\n",
        "\n",
        "We could continue trying different weight values to try to improve the performance of the model on these training examples (and others) by trial and error, but a more systematic method is needed. We define a *loss function*, which specifies how bad a model is, and try to minimize the loss function by *stochastic gradient descent*.\n",
        "\n",
        "We'll do a few steps of the process here by hand. It's sufficiently tedious that it's far better to deploy computers on the task, which we'll do in the next lab.\n",
        "\n",
        "# Cross-entropy loss function\n",
        "\n",
        "We'll use the cross-entropy loss function. For an example $i$, we'll use $\\mathbf{x}^{(i)}$ for the feature vector, and $y^{(i)}$ for the actual (gold) label (1 or 0, 1 for Hamilton and 0 for Madison). The predicted probability of the label for the $i$-th example being 1 will be as per the logistic regression model $\\sigma(\\mathbf{w} \\cdot \\mathbf{x}^{(i)})$, which we will call $\\hat{y}^{(i)}$.\n",
        "\n",
        "The cross-entropy loss for example $i$ as per a model $\\mathbf{w}$ is\n",
        "$$L_{CE}(\\mathbf{w}) = -(y^{(i)} \\log \\hat{y}^{(i)} + (1-y^{(i)}) \\log (1-\\hat{y}^{(i)}))$$\n",
        "\n"
      ]
    },
    {
      "cell_type": "markdown",
      "metadata": {
        "deletable": false,
        "editable": false,
        "id": "ml5bNyIO0Elm"
      },
      "source": [
        "<!-- BEGIN QUESTION -->\n",
        "\n",
        "**Question:** What is the minimum possible value of the cross-entropy loss above? When is that achieved? (Note that while $0\\log 0$ is undefined, $\\lim_{x\\to0^{+}}x\\log x=0$.)\n",
        "<!--\n",
        "BEGIN QUESTION\n",
        "name: open_response_ce_loss\n",
        "manual: true\n",
        "-->"
      ]
    },
    {
      "cell_type": "markdown",
      "metadata": {
        "id": "59d4cc6c"
      },
      "source": [
        "The minimum possible value of the cross-entropy loss is 0, since an ideal model should have 0 loss. This occurs when for every given set of feature vectors, the predicted value of the model perfectly matches the gold label data. For every paper written by Hamilton a model with minimum loss would predict 1, and for every paper written by Madison it would predict 0. "
      ]
    },
    {
      "cell_type": "markdown",
      "metadata": {
        "id": "byPyODKm0Elm"
      },
      "source": [
        "<!-- END QUESTION -->\n",
        "\n",
        "\n",
        "\n",
        "We define a function to compute the cross-entropy loss for a particular model (weight vector), example (feature vector), and gold label:"
      ]
    },
    {
      "cell_type": "code",
      "metadata": {
        "id": "D0qHzYfR0Eln"
      },
      "source": [
        "def loss(weights, features, correct):\n",
        "    \"\"\"Returns the cross-entropy loss for a weight vector, a feature\n",
        "       vector and a gold label `correct`.\"\"\"\n",
        "    y_hat = predict_lr(weights, features)\n",
        "    return -(correct * log2(y_hat)\n",
        "             + (1 - correct) * log2(1 - y_hat))"
      ],
      "execution_count": 24,
      "outputs": []
    },
    {
      "cell_type": "markdown",
      "metadata": {
        "deletable": false,
        "editable": false,
        "id": "LYFxvzBD0Eln"
      },
      "source": [
        "Use the `loss` function to determine the cross-entropy loss for example 0 for the original model that we used (`weights`), and for the new model (`weights_new`).\n",
        "<!--\n",
        "BEGIN QUESTION\n",
        "name: loss_example0_old_and_new\n",
        "-->"
      ]
    },
    {
      "cell_type": "code",
      "metadata": {
        "id": "aFif2qS80Eln"
      },
      "source": [
        "#TODO: Calculate loss for training[0] under `weights` and `weights_new`\n",
        "loss_example0_old = loss(weights, training0_counts, 1)\n",
        "loss_example0_new = loss(weights_new, training0_counts, 1)"
      ],
      "execution_count": 25,
      "outputs": []
    },
    {
      "cell_type": "code",
      "metadata": {
        "deletable": false,
        "editable": false,
        "colab": {
          "base_uri": "https://localhost:8080/",
          "height": 46
        },
        "id": "084c5433",
        "outputId": "d61b5ce6-3695-4989-f96f-76e100ad8021"
      },
      "source": [
        "grader.check(\"loss_example0_old_and_new\")"
      ],
      "execution_count": 26,
      "outputs": [
        {
          "output_type": "execute_result",
          "data": {
            "text/html": [
              "\n",
              "    \n",
              "    \n",
              "        <p>All tests passed!</p>\n",
              "    \n",
              "    "
            ],
            "text/plain": [
              "\n",
              "    All tests passed!\n",
              "    "
            ]
          },
          "metadata": {},
          "execution_count": 26
        }
      ]
    },
    {
      "cell_type": "code",
      "metadata": {
        "colab": {
          "base_uri": "https://localhost:8080/"
        },
        "id": "14M8tmma0Elo",
        "outputId": "8758f9d2-5993-425b-b0eb-2ce1f7acde22"
      },
      "source": [
        "print(f\"Old model loss: {loss_example0_old:.3f}\\n\"\n",
        "      f\"New model loss: {loss_example0_new:.3f}\")"
      ],
      "execution_count": 27,
      "outputs": [
        {
          "output_type": "stream",
          "name": "stdout",
          "text": [
            "Old model loss: 0.492\n",
            "New model loss: 0.094\n"
          ]
        }
      ]
    },
    {
      "cell_type": "markdown",
      "metadata": {
        "deletable": false,
        "editable": false,
        "id": "QfBQoheR0Elo"
      },
      "source": [
        "<!-- BEGIN QUESTION -->\n",
        "\n",
        "**Question:** Which of the models is better (at least on this example)?\n",
        "<!--\n",
        "BEGIN QUESTION\n",
        "name: open_response_loss_on_example\n",
        "manual: true\n",
        "-->"
      ]
    },
    {
      "cell_type": "markdown",
      "metadata": {
        "id": "9a1b0600"
      },
      "source": [
        "*At least, in this example, the new model appears to be the better model, since it has a smaller loss value. This means that the new model assigns a probability that is closer to 1 for test data actually written by Hamilton, and closer to 0 for test papers actually written by Madison, than the old model does. *"
      ]
    },
    {
      "cell_type": "markdown",
      "metadata": {
        "id": "ZrMyXx5I0Elo"
      },
      "source": [
        "<!-- END QUESTION -->\n",
        "\n",
        "\n",
        "\n",
        "# Optimizing the weights with the gradient of the loss function\n",
        "\n",
        "We want to find the weights that minimize the loss function. We use gradient descent:\n",
        "\n",
        "1. Find the gradient of the loss function, the direction in which it is increasing fastest.\n",
        "2. Take a step in the opposite direction.\n",
        "3. Repeat.\n",
        "\n",
        "For cross-entropy loss, recall that the partial derivative of the loss function with respect to a single weight $w_j$ is\n",
        "\n",
        "$$ \\frac{\\partial L_{CE}(\\mathbf{w})}{\\partial w_j} = (\\hat{y} - y) \\cdot x_j $$\n",
        "\n",
        "> At the end of this subsection, we give a problem that explores how this gradient is derived, but you can just assume it for the time being.\n",
        "\n",
        "The gradient combines these partial derivatives for all of the weights.\n",
        "\n",
        "$$ \\nabla L_{CE}(\\mathbf{w}) = \\left[ \\begin{array}{c}\n",
        "    \\frac{\\partial L_{CE}(\\mathbf{w})}{\\partial w_1}\\\\\n",
        "    \\frac{\\partial L_{CE}(\\mathbf{w})}{\\partial w_2}\\\\\n",
        "    \\vdots \\\\\n",
        "    \\frac{\\partial L_{CE}(\\mathbf{w})}{\\partial w_m}\n",
        "    \\end{array} \\right] $$\n",
        "\n",
        "Let's work out an example, using example 0. The counts for example 0 are"
      ]
    },
    {
      "cell_type": "code",
      "metadata": {
        "colab": {
          "base_uri": "https://localhost:8080/"
        },
        "id": "kJ57uPLv0Elp",
        "outputId": "f6c2e8c7-025c-4c58-f747-8f53ff935103"
      },
      "source": [
        "training[0]['counts']"
      ],
      "execution_count": 28,
      "outputs": [
        {
          "output_type": "execute_result",
          "data": {
            "text/plain": [
              "tensor([9., 6., 2., 0.])"
            ]
          },
          "metadata": {},
          "execution_count": 28
        }
      ]
    },
    {
      "cell_type": "markdown",
      "metadata": {
        "id": "ZkCdP3Sh0Elp"
      },
      "source": [
        "and the original weights, recall, were"
      ]
    },
    {
      "cell_type": "code",
      "metadata": {
        "colab": {
          "base_uri": "https://localhost:8080/"
        },
        "id": "sM_3PvZV0Elp",
        "outputId": "ec144db8-784d-430c-946a-a08778ab6de1"
      },
      "source": [
        "weights"
      ],
      "execution_count": 29,
      "outputs": [
        {
          "output_type": "execute_result",
          "data": {
            "text/plain": [
              "tensor([-0.1000,  0.2000,  0.3000, -1.0000])"
            ]
          },
          "metadata": {},
          "execution_count": 29
        }
      ]
    },
    {
      "cell_type": "markdown",
      "metadata": {
        "deletable": false,
        "editable": false,
        "id": "uAlWMkhF0Elp"
      },
      "source": [
        "What is the gradient vector for these `weights` and training example `training[0]`?\n",
        "<!--\n",
        "BEGIN QUESTION\n",
        "name: grad_vector\n",
        "-->"
      ]
    },
    {
      "cell_type": "code",
      "metadata": {
        "colab": {
          "base_uri": "https://localhost:8080/"
        },
        "id": "YH1XPOip0Elp",
        "outputId": "8db439dc-8247-43a7-9d6f-5726b403e20b"
      },
      "source": [
        "grad_vector = (prob_hamilton_example0 - 1) * training0_counts\n",
        "grad_vector"
      ],
      "execution_count": 31,
      "outputs": [
        {
          "output_type": "execute_result",
          "data": {
            "text/plain": [
              "tensor([-2.6015, -1.7343, -0.5781, -0.0000])"
            ]
          },
          "metadata": {},
          "execution_count": 31
        }
      ]
    },
    {
      "cell_type": "code",
      "metadata": {
        "deletable": false,
        "editable": false,
        "colab": {
          "base_uri": "https://localhost:8080/",
          "height": 46
        },
        "id": "ccc0e6f5",
        "outputId": "13b1c2ba-e90b-470b-c9ba-f69789090cb3"
      },
      "source": [
        "grader.check(\"grad_vector\")"
      ],
      "execution_count": 32,
      "outputs": [
        {
          "output_type": "execute_result",
          "data": {
            "text/html": [
              "\n",
              "    \n",
              "    \n",
              "        <p>All tests passed!</p>\n",
              "    \n",
              "    "
            ],
            "text/plain": [
              "\n",
              "    All tests passed!\n",
              "    "
            ]
          },
          "metadata": {},
          "execution_count": 32
        }
      ]
    },
    {
      "cell_type": "markdown",
      "metadata": {
        "deletable": false,
        "editable": false,
        "id": "V3edGk0g0Elq"
      },
      "source": [
        "<!-- BEGIN QUESTION -->\n",
        "\n",
        "## Deriving the gradient of the cross-entropy loss\n",
        "\n",
        "> You should skip this section until after you've done the rest of the lab.\n",
        "\n",
        "Jurafsky and Martin provide a derivation for the cross-entropy loss in their section 5.8. There, they note that the derivation relies on the salutary fact that the derivative of the sigmoid has an especially simple form:\n",
        "\n",
        "$$ \\frac{d \\sigma(z)}{dz} = \\sigma(z) \\cdot (1 - \\sigma(z)) $$\n",
        "\n",
        "**Question:** Prove this identity. For simplicity, you can assume that $k=1$.\n",
        "\n",
        "> **Hint:** You may find some of the following standard formulas for the derivative of various functions – reviewed from your calculus course – useful. (In these schematic identities, $u$ and $v$ are metavariables over functions of $z$, and $a$ and $n$ are metavariables over constants.)\n",
        "\n",
        "\n",
        "\\begin{align*}\n",
        "\\frac{d}{dz} a &= 0 \\\\\n",
        "\\frac{d}{dz} (u + v) &= \\frac{du}{dz} + \\frac{dv}{dz} \\\\\n",
        "\\frac{d}{dz} (u\\,v) &= v\\frac{du}{dz} + u\\frac{dv}{dz} \\\\\n",
        "\\frac{d}{dz} \\left[\\frac{1}{u}\\right] &= - \\frac{1}{u^2} \\frac{du}{dz} \\\\\n",
        "\\frac{d}{dz} u^n &= n u^{n-1} \\frac{du}{dz} \\\\\n",
        "\\frac{d}{dz} e^u &= e^u \\frac{du}{dz} \\\\\n",
        "\\frac{d}{dz} \\log_a u &= (\\log_a e) \\frac{1}{u} \\frac{du}{dz} \n",
        "\\end{align*}\n",
        "\n",
        "\n",
        "<!--\n",
        "BEGIN QUESTION\n",
        "manual: true\n",
        "name: open_response_sigmoid_gradient\n",
        "-->"
      ]
    },
    {
      "cell_type": "markdown",
      "metadata": {
        "id": "52a50dea"
      },
      "source": [
        "*Proof:*\n",
        "\n",
        "![Lab 1-4 Proof 2.PNG](data:image/png;base64,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)\n"
      ]
    },
    {
      "cell_type": "markdown",
      "metadata": {
        "id": "6eo3Hg630Elq"
      },
      "source": [
        "<!-- END QUESTION -->\n",
        "\n",
        "\n",
        "\n",
        "## Adjusting weights against the gradient\n",
        "\n",
        "Step 2 is to adjust the weights in the _opposite_ direction of the gradient.\n",
        "In this case, we compute the new weight vector $\\mathbf{w}'$ by adding to the weight vector a fraction of the negative gradient:\n",
        "\n",
        "$$ \\mathbf{w}' = \\mathbf{w} - \\eta \\nabla L_{CE}(\\mathbf{w}) $$\n",
        "\n",
        "Here, $\\eta$ is the _learning rate_. The larger $\\eta$ is, the more we move in each step, but if $\\eta$ is too large we risk overshooting. We'll use a learning rate of 0.1 for now. (Setting good learning rates is one aspect of the black arts of machine learning.)"
      ]
    },
    {
      "cell_type": "code",
      "metadata": {
        "id": "1zuo8S580Elr"
      },
      "source": [
        "learning_rate = 0.1"
      ],
      "execution_count": 33,
      "outputs": []
    },
    {
      "cell_type": "markdown",
      "metadata": {
        "deletable": false,
        "editable": false,
        "id": "3KZtZo0l0Elr"
      },
      "source": [
        "Calculate the new weight vector using `learning_rate` and `grad_vector`. Use `weights` (instead of `weights_new`) as the initial weights.\n",
        "<!--\n",
        "BEGIN QUESTION\n",
        "name: weights_updated\n",
        "-->"
      ]
    },
    {
      "cell_type": "code",
      "metadata": {
        "id": "fg7Ifdwt0Elr"
      },
      "source": [
        "weights_updated = weights - learning_rate * grad_vector"
      ],
      "execution_count": 34,
      "outputs": []
    },
    {
      "cell_type": "code",
      "metadata": {
        "deletable": false,
        "editable": false,
        "colab": {
          "base_uri": "https://localhost:8080/",
          "height": 46
        },
        "id": "4062944f",
        "outputId": "413ff8c2-3884-4b65-a6db-db0101e6394a"
      },
      "source": [
        "grader.check(\"weights_updated\")"
      ],
      "execution_count": 35,
      "outputs": [
        {
          "output_type": "execute_result",
          "data": {
            "text/html": [
              "\n",
              "    \n",
              "    \n",
              "        <p>All tests passed!</p>\n",
              "    \n",
              "    "
            ],
            "text/plain": [
              "\n",
              "    All tests passed!\n",
              "    "
            ]
          },
          "metadata": {},
          "execution_count": 35
        }
      ]
    },
    {
      "cell_type": "code",
      "metadata": {
        "colab": {
          "base_uri": "https://localhost:8080/"
        },
        "id": "ucRYa1Ny0Elr",
        "outputId": "bdd11805-3f8e-4f54-b97c-653efcdb5720"
      },
      "source": [
        "print(weights_updated)"
      ],
      "execution_count": 36,
      "outputs": [
        {
          "output_type": "stream",
          "name": "stdout",
          "text": [
            "tensor([ 0.1601,  0.3734,  0.3578, -1.0000])\n"
          ]
        }
      ]
    },
    {
      "cell_type": "markdown",
      "metadata": {
        "id": "M12lIOyL0Elr"
      },
      "source": [
        "How do these weights perform on the training example we've been using? Let's see."
      ]
    },
    {
      "cell_type": "code",
      "metadata": {
        "id": "gPvNvduN0Els"
      },
      "source": [
        "loss_example0_updated = loss(weights_updated, training0_counts, 1)"
      ],
      "execution_count": 37,
      "outputs": []
    },
    {
      "cell_type": "code",
      "metadata": {
        "colab": {
          "base_uri": "https://localhost:8080/"
        },
        "id": "ukQt_e8E0Els",
        "outputId": "4cdada09-f1ea-4994-c40d-7ad28a64ad26"
      },
      "source": [
        "print(f\"Old model loss: {loss_example0_old:.3f}\\n\"\n",
        "      f\"New model loss: {loss_example0_new:.3f}\\n\"\n",
        "      f\"Updated model loss: {loss_example0_updated:.3f}\")"
      ],
      "execution_count": 38,
      "outputs": [
        {
          "output_type": "stream",
          "name": "stdout",
          "text": [
            "Old model loss: 0.492\n",
            "New model loss: 0.094\n",
            "Updated model loss: 0.018\n"
          ]
        }
      ]
    },
    {
      "cell_type": "markdown",
      "metadata": {
        "deletable": false,
        "editable": false,
        "id": "b2Lui_J20Els"
      },
      "source": [
        "If you did this all right, the loss for the updated model, which was generated by taking a single step opposite the gradient from the old model is not only better than the old model, but better than the new model we used above as well. \n",
        "\n",
        "What about the loss on the other example we've been using (example 9)? Calculate the loss for example 9 with the old model (`weights`), the new model (`weights_new`), and the updated model (`weights_updated`):\n",
        "<!--\n",
        "BEGIN QUESTION\n",
        "name: weights_updated_9\n",
        "-->"
      ]
    },
    {
      "cell_type": "code",
      "metadata": {
        "id": "_8tYZk800Elt"
      },
      "source": [
        "#TODO\n",
        "loss_example9_old = loss(weights, training9_counts, 0)\n",
        "loss_example9_new = loss(weights_new, training9_counts, 0)\n",
        "loss_example9_updated = loss(weights_updated, training9_counts, 0)"
      ],
      "execution_count": 39,
      "outputs": []
    },
    {
      "cell_type": "code",
      "metadata": {
        "deletable": false,
        "editable": false,
        "colab": {
          "base_uri": "https://localhost:8080/",
          "height": 46
        },
        "id": "059d35ea",
        "outputId": "8596273f-5703-4a31-9997-8854aa5191c1"
      },
      "source": [
        "grader.check(\"weights_updated_9\")"
      ],
      "execution_count": 40,
      "outputs": [
        {
          "output_type": "execute_result",
          "data": {
            "text/html": [
              "\n",
              "    \n",
              "    \n",
              "        <p>All tests passed!</p>\n",
              "    \n",
              "    "
            ],
            "text/plain": [
              "\n",
              "    All tests passed!\n",
              "    "
            ]
          },
          "metadata": {},
          "execution_count": 40
        }
      ]
    },
    {
      "cell_type": "code",
      "metadata": {
        "colab": {
          "base_uri": "https://localhost:8080/"
        },
        "id": "RHdRwjCl0Elt",
        "outputId": "83db9ea8-6b34-4ca7-f76b-2e933c2a4672"
      },
      "source": [
        "print(f\"Old model loss: {loss_example9_old:.3f}\\n\"\n",
        "      f\"New model loss: {loss_example9_new:.3f}\\n\"\n",
        "      f\"Updated model loss: {loss_example9_updated:.3f}\")"
      ],
      "execution_count": null,
      "outputs": [
        {
          "output_type": "stream",
          "name": "stdout",
          "text": [
            "Old model loss: 0.094\n",
            "New model loss: 0.052\n",
            "Updated model loss: 2.722\n"
          ]
        }
      ]
    },
    {
      "cell_type": "markdown",
      "metadata": {
        "deletable": false,
        "editable": false,
        "id": "bvbWh18z0Elt"
      },
      "source": [
        "<!-- BEGIN QUESTION -->\n",
        "\n",
        "**Question:** Did the update to the model improve its performance on example 9 or make it worse? Why?\n",
        "\n",
        "<!--\n",
        "BEGIN QUESTION\n",
        "name: open_response_updated_9\n",
        "manual: true\n",
        "-->"
      ]
    },
    {
      "cell_type": "markdown",
      "metadata": {
        "id": "326d7bda"
      },
      "source": [
        "*The update to the model actually worsened its performance on example 9, leading to a higher value for the loss function. This is due to the fact that the updated weights were trained on the gradient vector of example 0, leading to better performance on example 0, but not guaranteeing lower loss for other pieces of test data. In order to improve the model for all pieces of test data we would need to repeat this process for all of the training examples to minimize the loss across all training data..*"
      ]
    },
    {
      "cell_type": "markdown",
      "metadata": {
        "id": "AyABjPif0Elu"
      },
      "source": [
        "<!-- END QUESTION -->\n",
        "\n",
        "\n",
        "\n",
        "## Repeating the process\n",
        "\n",
        "Step 3 is to repeat the process for this and other training examples. We could recalculate the gradient and take another step to improve further, and take steps to improve the other training examples, and so on and so forth, eventually converging on a model that works well over the entire training set. But doing so manually in this way is too tedious. We need to be able to do these kinds of computations at scale. Fortunately, in the next lab we'll be turning to packages that allow specifying these larger-scale computations."
      ]
    },
    {
      "cell_type": "markdown",
      "metadata": {
        "deletable": false,
        "editable": false,
        "id": "5BRwmccJ0Elx"
      },
      "source": [
        "<!-- BEGIN QUESTION -->\n",
        "\n",
        "## Lab debrief – for consensus submission only\n",
        "\n",
        "**Question:** We're interested in any thoughts your group has about this lab so that we can improve this lab for later years, and to inform later labs for this year. Please list any issues that arose or comments you have to improve the lab. Useful things to comment on include the following: \n",
        "\n",
        "* Was the lab too long or too short?\n",
        "* Were the readings appropriate for the lab? \n",
        "* Was it clear (at least after you completed the lab) what the points of the exercises were? \n",
        "* Are there additions or changes you think would make the lab better?\n",
        "\n",
        "<!--\n",
        "BEGIN QUESTION\n",
        "name: open_response_debrief\n",
        "manual: true\n",
        "-->"
      ]
    },
    {
      "cell_type": "markdown",
      "metadata": {
        "id": "1fdd0781"
      },
      "source": [
        "_Type your answer here, replacing this text._"
      ]
    },
    {
      "cell_type": "markdown",
      "metadata": {
        "id": "HGinChbB0Ely"
      },
      "source": [
        "<!-- END QUESTION -->\n",
        "\n",
        "\n",
        "\n",
        "# End of lab 1-4"
      ]
    },
    {
      "cell_type": "markdown",
      "metadata": {
        "deletable": false,
        "editable": false,
        "id": "aeb83d1c"
      },
      "source": [
        "---\n",
        "\n",
        "To double-check your work, the cell below will rerun all of the autograder tests."
      ]
    },
    {
      "cell_type": "code",
      "metadata": {
        "deletable": false,
        "editable": false,
        "colab": {
          "base_uri": "https://localhost:8080/",
          "height": 391
        },
        "id": "a9b0e46e",
        "outputId": "a736858b-9e94-4342-8f3b-76cbfed37a90"
      },
      "source": [
        "grader.check_all()"
      ],
      "execution_count": 41,
      "outputs": [
        {
          "output_type": "execute_result",
          "data": {
            "text/html": [
              "<p><strong>grad_vector:</strong></p>\n",
              "\n",
              "    \n",
              "    \n",
              "        <p>All tests passed!</p>\n",
              "    \n",
              "    \n",
              "\n",
              "<p><strong>loss_example0_old_and_new:</strong></p>\n",
              "\n",
              "    \n",
              "    \n",
              "        <p>All tests passed!</p>\n",
              "    \n",
              "    \n",
              "\n",
              "<p><strong>prob_hamilton_examples:</strong></p>\n",
              "\n",
              "    \n",
              "    \n",
              "        <p>All tests passed!</p>\n",
              "    \n",
              "    \n",
              "\n",
              "<p><strong>prob_hamilton_examples_new:</strong></p>\n",
              "\n",
              "    \n",
              "    \n",
              "        <p>All tests passed!</p>\n",
              "    \n",
              "    \n",
              "\n",
              "<p><strong>sigma:</strong></p>\n",
              "\n",
              "    \n",
              "    \n",
              "        <p>All tests passed!</p>\n",
              "    \n",
              "    \n",
              "\n",
              "<p><strong>weights_updated:</strong></p>\n",
              "\n",
              "    \n",
              "    \n",
              "        <p>All tests passed!</p>\n",
              "    \n",
              "    \n",
              "\n",
              "<p><strong>weights_updated_9:</strong></p>\n",
              "\n",
              "    \n",
              "    \n",
              "        <p>All tests passed!</p>\n",
              "    \n",
              "    \n",
              "\n",
              "<p><strong>wtd_sum:</strong></p>\n",
              "\n",
              "    \n",
              "    \n",
              "        <p>All tests passed!</p>\n",
              "    \n",
              "    \n",
              "\n"
            ],
            "text/plain": [
              "grad_vector:\n",
              "\n",
              "    All tests passed!\n",
              "    \n",
              "\n",
              "loss_example0_old_and_new:\n",
              "\n",
              "    All tests passed!\n",
              "    \n",
              "\n",
              "prob_hamilton_examples:\n",
              "\n",
              "    All tests passed!\n",
              "    \n",
              "\n",
              "prob_hamilton_examples_new:\n",
              "\n",
              "    All tests passed!\n",
              "    \n",
              "\n",
              "sigma:\n",
              "\n",
              "    All tests passed!\n",
              "    \n",
              "\n",
              "weights_updated:\n",
              "\n",
              "    All tests passed!\n",
              "    \n",
              "\n",
              "weights_updated_9:\n",
              "\n",
              "    All tests passed!\n",
              "    \n",
              "\n",
              "wtd_sum:\n",
              "\n",
              "    All tests passed!\n",
              "    \n"
            ]
          },
          "metadata": {},
          "execution_count": 41
        }
      ]
    },
    {
      "cell_type": "code",
      "metadata": {
        "id": "aBNOisedpTyT"
      },
      "source": [
        ""
      ],
      "execution_count": null,
      "outputs": []
    }
  ]
}